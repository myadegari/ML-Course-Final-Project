{
  "nbformat": 4,
  "nbformat_minor": 0,
  "metadata": {
    "colab": {
      "name": " ML_Project_with_LDA_BE.ipynb",
      "provenance": [],
      "collapsed_sections": [
        "z4DvXRAzWlK-",
        "J7MZ5GiSWzC3",
        "-ijuj37zrALT",
        "flywFkaKy7WC"
      ]
    },
    "kernelspec": {
      "display_name": "Python 3",
      "name": "python3"
    },
    "language_info": {
      "name": "python"
    }
  },
  "cells": [
    {
      "cell_type": "markdown",
      "metadata": {
        "id": "z4DvXRAzWlK-"
      },
      "source": [
        "## Load Dataset"
      ]
    },
    {
      "cell_type": "code",
      "metadata": {
        "colab": {
          "base_uri": "https://localhost:8080/"
        },
        "id": "PLwClaKJrbz6",
        "outputId": "0823f121-addf-466a-8841-3cf998edca7b"
      },
      "source": [
        "from google.colab import drive\n",
        "drive.mount('/content/gdrive')"
      ],
      "execution_count": null,
      "outputs": [
        {
          "output_type": "stream",
          "text": [
            "Mounted at /content/gdrive\n"
          ],
          "name": "stdout"
        }
      ]
    },
    {
      "cell_type": "code",
      "metadata": {
        "id": "s9WYP7kYroc_"
      },
      "source": [
        "%cp '/content/gdrive/MyDrive/datasets/ML Dataset/ml_project_dataset.pkl' '/content/'"
      ],
      "execution_count": null,
      "outputs": []
    },
    {
      "cell_type": "code",
      "metadata": {
        "colab": {
          "base_uri": "https://localhost:8080/"
        },
        "id": "nmoWFvUKrt23",
        "outputId": "b920a359-a66b-4d68-faab-caa0a36db24f"
      },
      "source": [
        "!pip install pickle5"
      ],
      "execution_count": null,
      "outputs": [
        {
          "output_type": "stream",
          "text": [
            "Requirement already satisfied: pickle5 in /usr/local/lib/python3.7/dist-packages (0.0.11)\n"
          ],
          "name": "stdout"
        }
      ]
    },
    {
      "cell_type": "code",
      "metadata": {
        "id": "aTVxLv7FrALQ"
      },
      "source": [
        "import pickle5 as pickle\n",
        "import numpy as np\n",
        "\n",
        "with open('ml_project_dataset.pkl', \"rb\") as fh:\n",
        "  data = pickle.load(fh)"
      ],
      "execution_count": null,
      "outputs": []
    },
    {
      "cell_type": "markdown",
      "metadata": {
        "id": "J7MZ5GiSWzC3"
      },
      "source": [
        "## Show Dataset"
      ]
    },
    {
      "cell_type": "code",
      "metadata": {
        "colab": {
          "base_uri": "https://localhost:8080/"
        },
        "id": "bxUqcLpcKmzW",
        "outputId": "b815e210-4044-4342-f663-7a958962a0a3"
      },
      "source": [
        "data.head()"
      ],
      "execution_count": null,
      "outputs": [
        {
          "output_type": "execute_result",
          "data": {
            "text/html": [
              "<div>\n",
              "<style scoped>\n",
              "    .dataframe tbody tr th:only-of-type {\n",
              "        vertical-align: middle;\n",
              "    }\n",
              "\n",
              "    .dataframe tbody tr th {\n",
              "        vertical-align: top;\n",
              "    }\n",
              "\n",
              "    .dataframe thead th {\n",
              "        text-align: right;\n",
              "    }\n",
              "</style>\n",
              "<table border=\"1\" class=\"dataframe\">\n",
              "  <thead>\n",
              "    <tr style=\"text-align: right;\">\n",
              "      <th></th>\n",
              "      <th>Age</th>\n",
              "      <th>Gender</th>\n",
              "      <th>Status</th>\n",
              "      <th>f1</th>\n",
              "      <th>f2</th>\n",
              "      <th>f3</th>\n",
              "      <th>f4</th>\n",
              "      <th>f5</th>\n",
              "    </tr>\n",
              "  </thead>\n",
              "  <tbody>\n",
              "    <tr>\n",
              "      <th>0</th>\n",
              "      <td>28</td>\n",
              "      <td>Female</td>\n",
              "      <td>Happy</td>\n",
              "      <td>[-0.03723609, -0.020824267, -0.025246128, 0.00...</td>\n",
              "      <td>[-0.0013615170028060675, -0.000550377124454826...</td>\n",
              "      <td>[-0.045345112681388855, 0.049214184284210205, ...</td>\n",
              "      <td>[0.622996985912323, 0.5587776899337769, 0.2035...</td>\n",
              "      <td>[142.0, 268.0, -91.8211441040039, 147.0, 304.0...</td>\n",
              "    </tr>\n",
              "    <tr>\n",
              "      <th>1</th>\n",
              "      <td>24</td>\n",
              "      <td>Male</td>\n",
              "      <td>Sad</td>\n",
              "      <td>[-0.009315872, -0.0008500488, 0.0008058883, 0....</td>\n",
              "      <td>[nan, nan, nan, nan, nan, nan, nan, nan, nan, ...</td>\n",
              "      <td>[nan, nan, nan, nan, nan, nan, nan, nan, nan, ...</td>\n",
              "      <td>[0.22100389003753662, 0.0, 0.0, 0.070420034229...</td>\n",
              "      <td>[1302.0, 2091.0, -218.44000244140625, 928.0, 2...</td>\n",
              "    </tr>\n",
              "    <tr>\n",
              "      <th>2</th>\n",
              "      <td>29</td>\n",
              "      <td>M</td>\n",
              "      <td>neutral</td>\n",
              "      <td>[-0.013662366, 0.03466877, -0.065040134, -0.04...</td>\n",
              "      <td>[-0.008576362393796444, 0.09807106107473373, -...</td>\n",
              "      <td>[-0.002319525694474578, 0.03656185418367386, -...</td>\n",
              "      <td>[0.0, 0.21522775292396545, 0.26262786984443665...</td>\n",
              "      <td>[831.0, 252.0, -65.05692291259766, 909.0, 516....</td>\n",
              "    </tr>\n",
              "    <tr>\n",
              "      <th>3</th>\n",
              "      <td>28</td>\n",
              "      <td>M</td>\n",
              "      <td>happy</td>\n",
              "      <td>[-0.06278418, -0.03465886, -0.035757925, -0.02...</td>\n",
              "      <td>[0.03950166329741478, 0.1211700439453125, 0.03...</td>\n",
              "      <td>[-0.02030731551349163, 0.0438639298081398, -0....</td>\n",
              "      <td>[0.021185416728258133, 0.015900805592536926, 0...</td>\n",
              "      <td>[796.0, 715.0, -420.5904541015625, 850.0, 845....</td>\n",
              "    </tr>\n",
              "    <tr>\n",
              "      <th>4</th>\n",
              "      <td>25</td>\n",
              "      <td>Male</td>\n",
              "      <td>Normal</td>\n",
              "      <td>[0.027600960806012154, 0.03169381991028786, -0...</td>\n",
              "      <td>[-0.012523038312792778, 0.1949128955602646, 0....</td>\n",
              "      <td>[-0.024486687034368515, 0.031889624893665314, ...</td>\n",
              "      <td>[0.36306896805763245, 0.45892614126205444, 0.1...</td>\n",
              "      <td>[nan, nan, nan, nan, nan, nan, nan, nan, nan, ...</td>\n",
              "    </tr>\n",
              "  </tbody>\n",
              "</table>\n",
              "</div>"
            ],
            "text/plain": [
              "   Age  ...                                                 f5\n",
              "0   28  ...  [142.0, 268.0, -91.8211441040039, 147.0, 304.0...\n",
              "1   24  ...  [1302.0, 2091.0, -218.44000244140625, 928.0, 2...\n",
              "2   29  ...  [831.0, 252.0, -65.05692291259766, 909.0, 516....\n",
              "3   28  ...  [796.0, 715.0, -420.5904541015625, 850.0, 845....\n",
              "4   25  ...  [nan, nan, nan, nan, nan, nan, nan, nan, nan, ...\n",
              "\n",
              "[5 rows x 8 columns]"
            ]
          },
          "metadata": {
            "tags": []
          },
          "execution_count": 8
        }
      ]
    },
    {
      "cell_type": "code",
      "metadata": {
        "colab": {
          "base_uri": "https://localhost:8080/"
        },
        "id": "RglN2KQc4ZNJ",
        "outputId": "df6e7e59-4057-4c9c-e4ef-c78a24e81e09"
      },
      "source": [
        "data.Gender.unique()"
      ],
      "execution_count": null,
      "outputs": [
        {
          "output_type": "execute_result",
          "data": {
            "text/plain": [
              "array(['Female', 'Male', 'M', 'female', 'male', 'F', 'm'], dtype=object)"
            ]
          },
          "metadata": {
            "tags": []
          },
          "execution_count": 9
        }
      ]
    },
    {
      "cell_type": "code",
      "metadata": {
        "colab": {
          "base_uri": "https://localhost:8080/"
        },
        "id": "QVE9Spn74iHS",
        "outputId": "ef4f3650-1bb0-48e0-85de-56db434be0cf"
      },
      "source": [
        "data.Status.unique()"
      ],
      "execution_count": null,
      "outputs": [
        {
          "output_type": "execute_result",
          "data": {
            "text/plain": [
              "array(['Happy', 'Sad', 'neutral', 'happy', 'Normal', 'sad', '604e0ee7bf',\n",
              "       'natural', 'Neutral', 'H', '0d02ffb6f5', 'S', '0d02ffb6f8',\n",
              "       '608e0ee7bf', 'happy ', '601e0ee7bf', '0042a40fde', 'N',\n",
              "       '0049a40fde', '602e0ee7bf', '77ae9e7a46', '607e0ee7bf',\n",
              "       '0047a40fde', '603e0ee7bf', '609e0ee7bf', '77ae9e7a41',\n",
              "       '0d02ffb6f15', '0d02ffb6f9', '0040a40fde', '77ae9e7a51',\n",
              "       '0050a40fde', '77ae9e7a43', '77ae9e7a39', '0d02ffb6f4',\n",
              "       '0051a40fde', '0046a40fde', '0d02ffb6f14', '0043a40fde',\n",
              "       '0054a40fde', '77ae9e7a44', '606e0ee7bf', '77ae9e7a45',\n",
              "       '610e0ee7bf', '0d02ffb6f11', '0d02ffb6f3', '611e0ee7bf',\n",
              "       '77ae9e7a38', '0052a40fde', '0d02ffb6f1', '77ae9e7a50',\n",
              "       '597e0ee7bf', '598e0ee7bf', '0044a40fde', '0d02ffb6f7',\n",
              "       '0d02ffb6f6', '0041a40fde', '77ae9e7a48', '77ae9e7a47',\n",
              "       '0d02ffb6f12', '0048a40fde', '0d02ffb6f2', '600e0ee7bf',\n",
              "       '605e0ee7bf', '77ae9e7a40', '0053a40fde', '599e0ee7bf',\n",
              "       '77ae9e7a42', '77ae9e7a49', '0d02ffb6f13', '0045a40fde',\n",
              "       '77ae9e7a52', '0d02ffb6f10'], dtype=object)"
            ]
          },
          "metadata": {
            "tags": []
          },
          "execution_count": 10
        }
      ]
    },
    {
      "cell_type": "markdown",
      "metadata": {
        "id": "-ijuj37zrALT"
      },
      "source": [
        "## Preprocess for categorical data"
      ]
    },
    {
      "cell_type": "code",
      "metadata": {
        "id": "SD1g7C7ArALU"
      },
      "source": [
        "import re\n",
        "\n",
        "data.Gender=data.Gender.apply(lambda x: re.sub('^[fF]\\w*','f',x))\n",
        "data.Gender=data.Gender.apply(lambda x: re.sub('^[mM]\\w*','m',x))\n",
        "\n",
        "data.Status = data.Status.apply(lambda x : re.sub('^[sS]+.*','s',x))\n",
        "data.Status = data.Status.apply(lambda x : re.sub('^[hH]+.*','h',x))\n",
        "data.Status = data.Status.apply(lambda x : re.sub('^[nN]+.*','n',x))\n",
        "\n",
        "#find cropted label and drop the row data thats containe it \n",
        "data.Status = data.Status.apply(lambda x : re.sub('^\\d+.*','cropted',x))\n",
        "data.Status.replace('cropted',np.nan,inplace=True)\n",
        "data.dropna(subset=['Status'],inplace=True)\n",
        "\n",
        "data.Gender=data.Gender.astype('category').cat.codes\n",
        "data.Status=data.Status.astype('category').cat.codes"
      ],
      "execution_count": null,
      "outputs": []
    },
    {
      "cell_type": "code",
      "metadata": {
        "id": "LYBYVpsxUW6x"
      },
      "source": [
        "data_f1 = data[['Age','Gender','Status','f1']].copy()\n",
        "data_f2 = data[['Age','Gender','Status','f2']].copy()\n",
        "data_f3 = data[['Age','Gender','Status','f3']].copy()\n",
        "data_f4 = data[['Age','Gender','Status','f4']].copy()\n",
        "data_f5 = data[['Age','Gender','Status','f5']].copy()"
      ],
      "execution_count": null,
      "outputs": []
    },
    {
      "cell_type": "markdown",
      "metadata": {
        "id": "QIqnPIznrALX"
      },
      "source": [
        "## Clean NaN data"
      ]
    },
    {
      "cell_type": "code",
      "metadata": {
        "id": "CxRM0bJirALY"
      },
      "source": [
        "data_f1.f1=data_f1.f1.apply(lambda x: np.nan if np.isnan(x[0]) else x)\n",
        "data_f1.dropna(subset=['f1'],inplace=True)\n",
        "data_f2.f2=data_f2.f2.apply(lambda x: np.nan if np.isnan(x[0]) else x)\n",
        "data_f2.dropna(subset=['f2'],inplace=True)\n",
        "data_f3.f3=data_f3.f3.apply(lambda x: np.nan if np.isnan(x[0]) else x)\n",
        "data_f3.dropna(subset=['f3'],inplace=True)\n",
        "data_f4.f4=data_f4.f4.apply(lambda x: np.nan if np.isnan(x[0]) else x)\n",
        "data_f4.dropna(subset=['f4'],inplace=True)\n",
        "data_f5.f5=data_f5.f5.apply(lambda x: np.nan if np.isnan(x[0]) else x)\n",
        "data_f5.dropna(subset=['f5'],inplace=True)\n",
        "\n",
        "data_f1.reset_index(drop=True,inplace=True)\n",
        "data_f2.reset_index(drop=True,inplace=True)\n",
        "data_f3.reset_index(drop=True,inplace=True)\n",
        "data_f4.reset_index(drop=True,inplace=True)\n",
        "data_f5.reset_index(drop=True,inplace=True)"
      ],
      "execution_count": null,
      "outputs": []
    },
    {
      "cell_type": "code",
      "metadata": {
        "colab": {
          "base_uri": "https://localhost:8080/"
        },
        "id": "lDqg1Fj-Z9kZ",
        "outputId": "74e69429-4c90-40d7-fbda-928896921acb"
      },
      "source": [
        "!pip install -U imbalanced-learn"
      ],
      "execution_count": null,
      "outputs": [
        {
          "output_type": "stream",
          "text": [
            "Collecting imbalanced-learn\n",
            "\u001b[?25l  Downloading https://files.pythonhosted.org/packages/80/98/dc784205a7e3034e84d41ac4781660c67ad6327f2f5a80c568df31673d1c/imbalanced_learn-0.8.0-py3-none-any.whl (206kB)\n",
            "\r\u001b[K     |█▋                              | 10kB 13.0MB/s eta 0:00:01\r\u001b[K     |███▏                            | 20kB 18.8MB/s eta 0:00:01\r\u001b[K     |████▊                           | 30kB 11.0MB/s eta 0:00:01\r\u001b[K     |██████▍                         | 40kB 8.8MB/s eta 0:00:01\r\u001b[K     |████████                        | 51kB 5.6MB/s eta 0:00:01\r\u001b[K     |█████████▌                      | 61kB 6.5MB/s eta 0:00:01\r\u001b[K     |███████████                     | 71kB 6.0MB/s eta 0:00:01\r\u001b[K     |████████████▊                   | 81kB 6.3MB/s eta 0:00:01\r\u001b[K     |██████████████▎                 | 92kB 6.2MB/s eta 0:00:01\r\u001b[K     |███████████████▉                | 102kB 6.8MB/s eta 0:00:01\r\u001b[K     |█████████████████▌              | 112kB 6.8MB/s eta 0:00:01\r\u001b[K     |███████████████████             | 122kB 6.8MB/s eta 0:00:01\r\u001b[K     |████████████████████▋           | 133kB 6.8MB/s eta 0:00:01\r\u001b[K     |██████████████████████▏         | 143kB 6.8MB/s eta 0:00:01\r\u001b[K     |███████████████████████▉        | 153kB 6.8MB/s eta 0:00:01\r\u001b[K     |█████████████████████████▍      | 163kB 6.8MB/s eta 0:00:01\r\u001b[K     |███████████████████████████     | 174kB 6.8MB/s eta 0:00:01\r\u001b[K     |████████████████████████████▋   | 184kB 6.8MB/s eta 0:00:01\r\u001b[K     |██████████████████████████████▏ | 194kB 6.8MB/s eta 0:00:01\r\u001b[K     |███████████████████████████████▊| 204kB 6.8MB/s eta 0:00:01\r\u001b[K     |████████████████████████████████| 215kB 6.8MB/s \n",
            "\u001b[?25hRequirement already satisfied, skipping upgrade: scipy>=0.19.1 in /usr/local/lib/python3.7/dist-packages (from imbalanced-learn) (1.4.1)\n",
            "Requirement already satisfied, skipping upgrade: joblib>=0.11 in /usr/local/lib/python3.7/dist-packages (from imbalanced-learn) (1.0.1)\n",
            "Collecting scikit-learn>=0.24\n",
            "\u001b[?25l  Downloading https://files.pythonhosted.org/packages/a8/eb/a48f25c967526b66d5f1fa7a984594f0bf0a5afafa94a8c4dbc317744620/scikit_learn-0.24.2-cp37-cp37m-manylinux2010_x86_64.whl (22.3MB)\n",
            "\u001b[K     |████████████████████████████████| 22.3MB 123kB/s \n",
            "\u001b[?25hRequirement already satisfied, skipping upgrade: numpy>=1.13.3 in /usr/local/lib/python3.7/dist-packages (from imbalanced-learn) (1.19.5)\n",
            "Collecting threadpoolctl>=2.0.0\n",
            "  Downloading https://files.pythonhosted.org/packages/f7/12/ec3f2e203afa394a149911729357aa48affc59c20e2c1c8297a60f33f133/threadpoolctl-2.1.0-py3-none-any.whl\n",
            "Installing collected packages: threadpoolctl, scikit-learn, imbalanced-learn\n",
            "  Found existing installation: scikit-learn 0.22.2.post1\n",
            "    Uninstalling scikit-learn-0.22.2.post1:\n",
            "      Successfully uninstalled scikit-learn-0.22.2.post1\n",
            "  Found existing installation: imbalanced-learn 0.4.3\n",
            "    Uninstalling imbalanced-learn-0.4.3:\n",
            "      Successfully uninstalled imbalanced-learn-0.4.3\n",
            "Successfully installed imbalanced-learn-0.8.0 scikit-learn-0.24.2 threadpoolctl-2.1.0\n"
          ],
          "name": "stdout"
        }
      ]
    },
    {
      "cell_type": "code",
      "metadata": {
        "colab": {
          "base_uri": "https://localhost:8080/"
        },
        "id": "zBX4fjDOqAXn",
        "outputId": "0a73da5e-f745-408c-c791-e5cd6522415f"
      },
      "source": [
        "from sklearn.linear_model import LinearRegression\n",
        "import statsmodels.api as sm\n",
        "from warnings import filterwarnings\n",
        "filterwarnings('ignore')\n",
        "\n",
        "def Dimension_Reduction(df,y_target):\n",
        "  regressor = LinearRegression()\n",
        "  regressor.fit(df,y_target)\n",
        "  intercept = regressor.intercept_\n",
        "  features = pd.DataFrame(regressor.coef_,df.columns,columns=['coefficient'])\n",
        "  features.coefficient = features.coefficient.abs()\n",
        "  stdvs=[]\n",
        "  for i in df.columns:\n",
        "    stdv=df[i].std()\n",
        "    stdvs.append(stdv)\n",
        "  features['stdev']=np.array(stdvs).reshape(-1,1)\n",
        "  features['importance']=features['coefficient']*features['stdev']\n",
        "  features['importance_normalized'] = 100*features['importance'] / features['importance'].max()\n",
        "  xxx=features.importance_normalized\n",
        "  indx=xxx[xxx>15].index\n",
        "  x_sell=df[indx]\n",
        "\n",
        "  cols = list(x_sell.columns)\n",
        "  del_cols=list()\n",
        "  pmax = 1\n",
        "  count=0\n",
        "  while (len(cols)>0):\n",
        "      count+=1\n",
        "      p= []\n",
        "      X_1 = x_sell[cols]\n",
        "      X_1 = sm.add_constant(X_1)\n",
        "      model = sm.OLS(y_target,X_1).fit()\n",
        "      p = pd.Series(model.pvalues.values[1:],index = cols)      \n",
        "      pmax = max(p)\n",
        "      feature_with_p_max = p.idxmax()\n",
        "      if(pmax>0.001):\n",
        "          del_cols.append(feature_with_p_max)\n",
        "          cols.remove(feature_with_p_max)\n",
        "      else:\n",
        "          break\n",
        "\n",
        "  selected_features_BE = cols\n",
        "  print('>> The input dimension is',df.shape[1],'and it is reduced to',len(selected_features_BE))\n",
        "  return x_sell[selected_features_BE].values.copy()"
      ],
      "execution_count": null,
      "outputs": [
        {
          "output_type": "stream",
          "text": [
            "/usr/local/lib/python3.7/dist-packages/statsmodels/tools/_testing.py:19: FutureWarning: pandas.util.testing is deprecated. Use the functions in the public API at pandas.testing instead.\n",
            "  import pandas.util.testing as tm\n"
          ],
          "name": "stderr"
        }
      ]
    },
    {
      "cell_type": "code",
      "metadata": {
        "id": "mnFED_xkdAI7"
      },
      "source": [
        "from sklearn.model_selection import GridSearchCV\n",
        "from sklearn.neighbors import KNeighborsClassifier\n",
        "from sklearn.linear_model import LinearRegression,LogisticRegression\n",
        "from sklearn import metrics\n",
        "from sklearn.model_selection import train_test_split\n",
        "from sklearn.preprocessing import StandardScaler\n",
        "from sklearn.preprocessing import PolynomialFeatures, StandardScaler, RobustScaler,MinMaxScaler\n",
        "from sklearn.pipeline import Pipeline\n",
        "from matplotlib import pyplot as plt \n",
        "from sklearn.decomposition import PCA\n",
        "from sklearn.metrics import classification_report\n",
        "from imblearn.over_sampling import SMOTE\n",
        "from sklearn.svm import SVC\n",
        "from collections import Counter\n",
        "import pandas as pd\n",
        "import statsmodels.api as sm\n",
        "from time import time\n",
        "from prettytable import PrettyTable as pt\n",
        "from warnings import filterwarnings\n",
        "filterwarnings('ignore')\n",
        "\n",
        "def k_with_tuninig(train_data,test_data,train_target,test_target):\n",
        "      leaf_size = list(range(1, 10))\n",
        "      n_neighbors = list(range(3, 20))\n",
        "      p = [1, 2]\n",
        "      knn = KNeighborsClassifier()\n",
        "      hyperparameters = dict(leaf_size=leaf_size, n_neighbors=n_neighbors, p=p)\n",
        "      clf = GridSearchCV(knn, hyperparameters, cv=10)\n",
        "      best_model = clf.fit(train_data, train_target.ravel())# Best Hyperparameters Value\n",
        "      print('Best leaf_size:', best_model.best_estimator_.get_params()['leaf_size'])\n",
        "      print('Best p:', best_model.best_estimator_.get_params()['p'])\n",
        "      print('Best n_neighbors:', best_model.best_estimator_.get_params()['n_neighbors'])  \n",
        "      predict_target_test = best_model.predict(test_data)\n",
        "      predict_target_train = best_model.predict(train_data)\n",
        "      print(classification_report(test_target, predict_target_test))"
      ],
      "execution_count": null,
      "outputs": []
    },
    {
      "cell_type": "code",
      "metadata": {
        "id": "NsRHB-Ziv8Gu"
      },
      "source": [
        "from sklearn.discriminant_analysis import LinearDiscriminantAnalysis\n",
        "\n",
        "def make_model_classification_knn(X,feature_set,y_target,use_LDA=True):\n",
        "  x=X[feature_set].values.copy()\n",
        "  u = np.zeros((x.shape[0],x[0].shape[0]))\n",
        "  for i in range(x.shape[0]):\n",
        "    for j in range(x[0].shape[0]):\n",
        "      u[i][j]=x[i][j]\n",
        "    \n",
        "  cols = np.arange(0,x[0].shape[0],1)\n",
        "  df = pd.DataFrame(u, columns = cols)\n",
        "  oversample = SMOTE()\n",
        "  x_oversample, y_oversample_target_fs = oversample.fit_resample(df,y_target.values.reshape(-1,1))\n",
        "  print(Counter(y_oversample_target_fs))\n",
        "  x_reduction=Dimension_Reduction(x_oversample,y_oversample_target_fs)\n",
        "  \n",
        "  if use_LDA:\n",
        "    clf = LinearDiscriminantAnalysis()\n",
        "    x_reduction = clf.fit_transform(x_reduction,y_oversample_target_fs)\n",
        "  SS = StandardScaler()\n",
        "  for i in range(x_reduction.shape[1]):\n",
        "    x_reduction[:,i]=SS.fit_transform(x_reduction[:,i].reshape(-1,1)).reshape(-1,)\n",
        "\n",
        "  x_train , x_test , y_train , y_test = train_test_split(x_reduction,y_oversample_target_fs, test_size=0.33,random_state=47)\n",
        "  k_with_tuninig(x_train , x_test , y_train , y_test)\n",
        "\n",
        "def make_model_classification(X,feature_set,y_target,use_LDA=True):\n",
        "  x=X[feature_set].values.copy()\n",
        "  u = np.zeros((x.shape[0],x[0].shape[0]))\n",
        "  for i in range(x.shape[0]):\n",
        "    for j in range(x[0].shape[0]):\n",
        "      u[i][j]=x[i][j]\n",
        "    \n",
        "  cols = np.arange(0,x[0].shape[0],1)\n",
        "  df = pd.DataFrame(u, columns = cols)\n",
        "  \n",
        "  oversample = SMOTE()\n",
        "  x_oversample, y_oversample_target_fs = oversample.fit_resample(df,y_target.values.reshape(-1,1))\n",
        "  print(Counter(y_oversample_target_fs))\n",
        "  \n",
        "  x_reduction=Dimension_Reduction(x_oversample,y_oversample_target_fs)\n",
        "  \n",
        "  \n",
        "  if use_LDA:\n",
        "    clf = LinearDiscriminantAnalysis()\n",
        "    x_reduction = clf.fit_transform(x_reduction,y_oversample_target_fs)\n",
        "\n",
        "  SS = StandardScaler()\n",
        "  for i in range(x_reduction.shape[1]):\n",
        "    x_reduction[:,i]=SS.fit_transform(x_reduction[:,i].reshape(-1,1)).reshape(-1,)\n",
        "  x_train , x_test , y_train , y_test = train_test_split(x_reduction,y_oversample_target_fs, test_size=0.33,random_state=47)\n",
        "  svc_target_fs = SVC()\n",
        "  svc_target_fs.fit(x_train,y_train)\n",
        "  pred_target_fs = svc_target_fs.predict(x_test)\n",
        "  print(classification_report(y_test,pred_target_fs))\n",
        "\n",
        "\n",
        "def make_model_regression(X,feature_set,y_target):\n",
        "  x=X[feature_set].values.copy()\n",
        "  u = np.zeros((x.shape[0],x[0].shape[0]))\n",
        "  for i in range(x.shape[0]):\n",
        "    for j in range(x[0].shape[0]):\n",
        "      u[i][j]=x[i][j]\n",
        "    \n",
        "  cols = np.arange(0,x[0].shape[0],1)\n",
        "  df = pd.DataFrame(u, columns = cols)\n",
        " \n",
        "  oversample = SMOTE(k_neighbors=2)\n",
        "  x_oversample, y_oversample_target_fs = oversample.fit_resample(df,y_target.values.reshape(-1,1))\n",
        "  x_reduction=Dimension_Reduction(x_oversample,y_oversample_target_fs)\n",
        "\n",
        "  x_train , x_test , y_train , y_test = train_test_split(x_reduction,y_oversample_target_fs, test_size=0.33,random_state=7)\n",
        "  \n",
        "  pipe = Pipeline([\n",
        "  ('sc',StandardScaler()),\n",
        "  ('poly',PolynomialFeatures(include_bias=True)),\n",
        "  ('reg',LinearRegression())\n",
        "  ])\n",
        "  model = GridSearchCV(pipe,param_grid={'poly__degree':[1]})\n",
        "  model.fit(x_train,y_train)\n",
        "  degree = model.best_params_\n",
        "  print(degree)\n",
        "  pred = model.predict(x_test)\n",
        "  MSE= metrics.mean_squared_error(y_test,pred)\n",
        "  R2= metrics.r2_score(y_test,pred)\n",
        "  print(f'MSE = {MSE:.3f}\\nR2 Score = {R2:.3f}')"
      ],
      "execution_count": null,
      "outputs": []
    },
    {
      "cell_type": "markdown",
      "metadata": {
        "id": "Jk6CECM5TusN"
      },
      "source": [
        "## F1"
      ]
    },
    {
      "cell_type": "code",
      "metadata": {
        "colab": {
          "base_uri": "https://localhost:8080/"
        },
        "id": "1DnHD8Kt4tGX",
        "outputId": "e27a6d04-a0c9-4c0f-c9fc-4e8980ca858d"
      },
      "source": [
        "X1 = data_f1.drop(columns=['Age','Gender','Status'])\n",
        "make_model_classification(X1,'f1',data_f1.Gender)"
      ],
      "execution_count": null,
      "outputs": [
        {
          "output_type": "stream",
          "text": [
            "Counter({0: 1422, 1: 1422})\n",
            ">> The input dimension is 512 and it is reduced to 121\n",
            "              precision    recall  f1-score   support\n",
            "\n",
            "           0       0.98      0.98      0.98       484\n",
            "           1       0.98      0.98      0.98       455\n",
            "\n",
            "    accuracy                           0.98       939\n",
            "   macro avg       0.98      0.98      0.98       939\n",
            "weighted avg       0.98      0.98      0.98       939\n",
            "\n"
          ],
          "name": "stdout"
        }
      ]
    },
    {
      "cell_type": "code",
      "metadata": {
        "colab": {
          "base_uri": "https://localhost:8080/"
        },
        "id": "wPUMDv_sghYu",
        "outputId": "f242314f-30fd-49e6-d1b8-cc1229eef5f9"
      },
      "source": [
        "make_model_classification_knn(X1,'f1',data_f1.Gender)"
      ],
      "execution_count": null,
      "outputs": [
        {
          "output_type": "stream",
          "text": [
            "Counter({0: 1422, 1: 1422})\n",
            ">> The input dimension is 512 and it is reduced to 106\n",
            "Best leaf_size: 1\n",
            "Best p: 1\n",
            "Best n_neighbors: 19\n",
            "              precision    recall  f1-score   support\n",
            "\n",
            "           0       0.97      0.97      0.97       484\n",
            "           1       0.97      0.97      0.97       455\n",
            "\n",
            "    accuracy                           0.97       939\n",
            "   macro avg       0.97      0.97      0.97       939\n",
            "weighted avg       0.97      0.97      0.97       939\n",
            "\n"
          ],
          "name": "stdout"
        }
      ]
    },
    {
      "cell_type": "code",
      "metadata": {
        "colab": {
          "base_uri": "https://localhost:8080/"
        },
        "id": "CYlI8ADS42Ku",
        "outputId": "3be71a07-253a-4b5b-8abc-d6fdc3d8175b"
      },
      "source": [
        "make_model_classification(X1,'f1',data_f1.Status)"
      ],
      "execution_count": null,
      "outputs": [
        {
          "output_type": "stream",
          "text": [
            "Counter({0: 755, 2: 755, 1: 755})\n",
            ">> The input dimension is 512 and it is reduced to 73\n",
            "              precision    recall  f1-score   support\n",
            "\n",
            "           0       0.76      0.76      0.76       231\n",
            "           1       0.56      0.59      0.58       254\n",
            "           2       0.67      0.64      0.65       263\n",
            "\n",
            "    accuracy                           0.66       748\n",
            "   macro avg       0.67      0.66      0.66       748\n",
            "weighted avg       0.66      0.66      0.66       748\n",
            "\n"
          ],
          "name": "stdout"
        }
      ]
    },
    {
      "cell_type": "code",
      "metadata": {
        "colab": {
          "base_uri": "https://localhost:8080/"
        },
        "id": "xTKjJ_wrjbAd",
        "outputId": "f0630587-4a7b-4246-a8b1-afb3160f09b9"
      },
      "source": [
        "make_model_classification_knn(X1,'f1',data_f1.Status)"
      ],
      "execution_count": null,
      "outputs": [
        {
          "output_type": "stream",
          "text": [
            "Counter({0: 755, 2: 755, 1: 755})\n",
            ">> The input dimension is 512 and it is reduced to 62\n",
            "Best leaf_size: 2\n",
            "Best p: 2\n",
            "Best n_neighbors: 17\n",
            "              precision    recall  f1-score   support\n",
            "\n",
            "           0       0.70      0.77      0.73       231\n",
            "           1       0.49      0.56      0.52       254\n",
            "           2       0.64      0.49      0.56       263\n",
            "\n",
            "    accuracy                           0.60       748\n",
            "   macro avg       0.61      0.61      0.60       748\n",
            "weighted avg       0.61      0.60      0.60       748\n",
            "\n"
          ],
          "name": "stdout"
        }
      ]
    },
    {
      "cell_type": "code",
      "metadata": {
        "colab": {
          "base_uri": "https://localhost:8080/"
        },
        "id": "o2BVmXrx48ge",
        "outputId": "a0750834-005c-4434-b92c-0fa7e3485687"
      },
      "source": [
        "make_model_regression(X1,'f1',data_f1.Age)"
      ],
      "execution_count": null,
      "outputs": [
        {
          "output_type": "stream",
          "text": [
            ">> The input dimension is 512 and it is reduced to 81\n",
            "{'poly__degree': 1}\n",
            "MSE = 56.957\n",
            "R2 Score = 0.737\n"
          ],
          "name": "stdout"
        }
      ]
    },
    {
      "cell_type": "code",
      "metadata": {
        "colab": {
          "base_uri": "https://localhost:8080/"
        },
        "id": "wFUrrt6f0OzC",
        "outputId": "335cf17d-d224-48f3-b6f4-6375b7fad374"
      },
      "source": [
        "make_model_regression(X1,'f1',data_f1.Age)"
      ],
      "execution_count": null,
      "outputs": [
        {
          "output_type": "stream",
          "text": [
            ">> The input dimension is 512 and it is reduced to 241\n",
            "{'poly__degree': 1}\n",
            "MSE = 37.660\n",
            "R2 Score = 0.891\n"
          ],
          "name": "stdout"
        }
      ]
    },
    {
      "cell_type": "markdown",
      "metadata": {
        "id": "NIB9XihB4rKc"
      },
      "source": [
        "## F2"
      ]
    },
    {
      "cell_type": "code",
      "metadata": {
        "colab": {
          "base_uri": "https://localhost:8080/"
        },
        "id": "Au6d02mS5IX4",
        "outputId": "0abab68c-012a-41c9-f4e6-059266e4f2e6"
      },
      "source": [
        "X2 = data_f2.drop(columns=['Age','Gender','Status'])\n",
        "make_model_classification(X2,'f2',data_f2.Gender)"
      ],
      "execution_count": null,
      "outputs": [
        {
          "output_type": "stream",
          "text": [
            "Counter({0: 1445, 1: 1445})\n",
            ">> The input dimension is 1536 and it is reduced to 75\n",
            "              precision    recall  f1-score   support\n",
            "\n",
            "           0       0.94      0.98      0.96       477\n",
            "           1       0.98      0.94      0.96       477\n",
            "\n",
            "    accuracy                           0.96       954\n",
            "   macro avg       0.96      0.96      0.96       954\n",
            "weighted avg       0.96      0.96      0.96       954\n",
            "\n"
          ],
          "name": "stdout"
        }
      ]
    },
    {
      "cell_type": "code",
      "metadata": {
        "colab": {
          "base_uri": "https://localhost:8080/"
        },
        "id": "JDPyzFYZkjHE",
        "outputId": "1402e225-b996-4b1b-b184-c126bcebcc16"
      },
      "source": [
        "make_model_classification_knn(X2,'f2',data_f2.Gender)\n"
      ],
      "execution_count": null,
      "outputs": [
        {
          "output_type": "stream",
          "text": [
            "Counter({0: 1445, 1: 1445})\n",
            ">> The input dimension is 1536 and it is reduced to 60\n",
            "Best leaf_size: 1\n",
            "Best p: 1\n",
            "Best n_neighbors: 19\n",
            "              precision    recall  f1-score   support\n",
            "\n",
            "           0       0.93      0.99      0.96       477\n",
            "           1       0.98      0.93      0.96       477\n",
            "\n",
            "    accuracy                           0.96       954\n",
            "   macro avg       0.96      0.96      0.96       954\n",
            "weighted avg       0.96      0.96      0.96       954\n",
            "\n"
          ],
          "name": "stdout"
        }
      ]
    },
    {
      "cell_type": "code",
      "metadata": {
        "colab": {
          "base_uri": "https://localhost:8080/"
        },
        "id": "XI34hecr5Ma_",
        "outputId": "d1f0f58c-5002-44c5-a363-d487c1e2aaba"
      },
      "source": [
        "make_model_classification(X2,'f2',data_f2.Status)"
      ],
      "execution_count": null,
      "outputs": [
        {
          "output_type": "stream",
          "text": [
            "Counter({0: 763, 1: 763, 2: 763})\n",
            ">> The input dimension is 1536 and it is reduced to 42\n",
            "              precision    recall  f1-score   support\n",
            "\n",
            "           0       0.54      0.63      0.58       247\n",
            "           1       0.46      0.28      0.35       272\n",
            "           2       0.49      0.64      0.56       237\n",
            "\n",
            "    accuracy                           0.51       756\n",
            "   macro avg       0.50      0.51      0.49       756\n",
            "weighted avg       0.50      0.51      0.49       756\n",
            "\n"
          ],
          "name": "stdout"
        }
      ]
    },
    {
      "cell_type": "code",
      "metadata": {
        "colab": {
          "base_uri": "https://localhost:8080/"
        },
        "id": "YeujdIqSk9h7",
        "outputId": "d21f36ad-45de-4b20-f2f6-12a8ad3f8fdd"
      },
      "source": [
        "make_model_classification_knn(X2,'f2',data_f2.Status)"
      ],
      "execution_count": null,
      "outputs": [
        {
          "output_type": "stream",
          "text": [
            "Counter({0: 763, 1: 763, 2: 763})\n",
            ">> The input dimension is 1536 and it is reduced to 50\n",
            "Best leaf_size: 3\n",
            "Best p: 2\n",
            "Best n_neighbors: 16\n",
            "              precision    recall  f1-score   support\n",
            "\n",
            "           0       0.55      0.66      0.60       247\n",
            "           1       0.45      0.36      0.40       272\n",
            "           2       0.51      0.52      0.51       237\n",
            "\n",
            "    accuracy                           0.51       756\n",
            "   macro avg       0.50      0.51      0.51       756\n",
            "weighted avg       0.50      0.51      0.50       756\n",
            "\n"
          ],
          "name": "stdout"
        }
      ]
    },
    {
      "cell_type": "code",
      "metadata": {
        "colab": {
          "base_uri": "https://localhost:8080/"
        },
        "id": "eyO7wkSY5S73",
        "outputId": "7b74b373-5e6f-4610-8e5c-c0099707eb54"
      },
      "source": [
        "make_model_regression(X2,'f2',data_f2.Age)"
      ],
      "execution_count": null,
      "outputs": [
        {
          "output_type": "stream",
          "text": [
            ">> The input dimension is 1536 and it is reduced to 57\n",
            "{'poly__degree': 1}\n",
            "MSE = 45.531\n",
            "R2 Score = 0.789\n"
          ],
          "name": "stdout"
        }
      ]
    },
    {
      "cell_type": "code",
      "metadata": {
        "colab": {
          "base_uri": "https://localhost:8080/"
        },
        "id": "PMSfXSstyTpP",
        "outputId": "4328a746-4ea3-42f0-f5f2-e862eeefca46"
      },
      "source": [
        "make_model_regression(X2,'f2',data_f2.Age)"
      ],
      "execution_count": null,
      "outputs": [
        {
          "output_type": "stream",
          "text": [
            ">> The input dimension is 1536 and it is reduced to 238\n",
            "{'poly__degree': 1}\n",
            "MSE = 31.373\n",
            "R2 Score = 0.911\n"
          ],
          "name": "stdout"
        }
      ]
    },
    {
      "cell_type": "markdown",
      "metadata": {
        "id": "flywFkaKy7WC"
      },
      "source": [
        "## F3"
      ]
    },
    {
      "cell_type": "code",
      "metadata": {
        "colab": {
          "base_uri": "https://localhost:8080/"
        },
        "id": "l_LcMbrQy6yB",
        "outputId": "25496e02-d7b0-4386-d4a5-9c9fad16fdd3"
      },
      "source": [
        "X3 = data_f3.drop(columns=['Age','Gender','Status'])\n",
        "make_model_classification(X3,'f3',data_f3.Gender)"
      ],
      "execution_count": null,
      "outputs": [
        {
          "output_type": "stream",
          "text": [
            "Counter({0: 1445, 1: 1445})\n",
            ">> The input dimension is 2304 and it is reduced to 80\n",
            "              precision    recall  f1-score   support\n",
            "\n",
            "           0       0.94      0.98      0.96       477\n",
            "           1       0.98      0.94      0.96       477\n",
            "\n",
            "    accuracy                           0.96       954\n",
            "   macro avg       0.96      0.96      0.96       954\n",
            "weighted avg       0.96      0.96      0.96       954\n",
            "\n"
          ],
          "name": "stdout"
        }
      ]
    },
    {
      "cell_type": "code",
      "metadata": {
        "colab": {
          "base_uri": "https://localhost:8080/"
        },
        "id": "DI9Wb7E0loTQ",
        "outputId": "0a2ccf5f-51ee-43ef-e844-29133b670d29"
      },
      "source": [
        "make_model_classification_knn(X3,'f3',data_f3.Gender)"
      ],
      "execution_count": null,
      "outputs": [
        {
          "output_type": "stream",
          "text": [
            "Counter({0: 1445, 1: 1445})\n",
            ">> The input dimension is 2304 and it is reduced to 69\n",
            "Best leaf_size: 1\n",
            "Best p: 1\n",
            "Best n_neighbors: 11\n",
            "              precision    recall  f1-score   support\n",
            "\n",
            "           0       0.94      0.98      0.96       477\n",
            "           1       0.98      0.94      0.96       477\n",
            "\n",
            "    accuracy                           0.96       954\n",
            "   macro avg       0.96      0.96      0.96       954\n",
            "weighted avg       0.96      0.96      0.96       954\n",
            "\n"
          ],
          "name": "stdout"
        }
      ]
    },
    {
      "cell_type": "code",
      "metadata": {
        "colab": {
          "base_uri": "https://localhost:8080/"
        },
        "id": "Tu0It64XzXwK",
        "outputId": "1420896a-7a4a-4557-861c-58178fad8203"
      },
      "source": [
        "make_model_classification(X3,'f3',data_f3.Status)\n"
      ],
      "execution_count": null,
      "outputs": [
        {
          "output_type": "stream",
          "text": [
            "Counter({0: 763, 1: 763, 2: 763})\n",
            ">> The input dimension is 2304 and it is reduced to 32\n",
            "              precision    recall  f1-score   support\n",
            "\n",
            "           0       0.45      0.60      0.51       247\n",
            "           1       0.43      0.19      0.27       272\n",
            "           2       0.45      0.57      0.50       237\n",
            "\n",
            "    accuracy                           0.44       756\n",
            "   macro avg       0.44      0.45      0.43       756\n",
            "weighted avg       0.44      0.44      0.42       756\n",
            "\n"
          ],
          "name": "stdout"
        }
      ]
    },
    {
      "cell_type": "code",
      "metadata": {
        "colab": {
          "base_uri": "https://localhost:8080/"
        },
        "id": "0HkzwSdQJ_Bz",
        "outputId": "c171e839-5553-4887-a414-f11b6d2af5df"
      },
      "source": [
        "make_model_classification_knn(X3,'f3',data_f3.Status)\n"
      ],
      "execution_count": null,
      "outputs": [
        {
          "output_type": "stream",
          "text": [
            "Counter({0: 763, 1: 763, 2: 763})\n",
            ">> The input dimension is 2304 and it is reduced to 26\n",
            "Best leaf_size: 1\n",
            "Best p: 1\n",
            "Best n_neighbors: 18\n",
            "              precision    recall  f1-score   support\n",
            "\n",
            "           0       0.44      0.60      0.51       247\n",
            "           1       0.39      0.28      0.32       272\n",
            "           2       0.44      0.43      0.44       237\n",
            "\n",
            "    accuracy                           0.43       756\n",
            "   macro avg       0.43      0.43      0.42       756\n",
            "weighted avg       0.42      0.43      0.42       756\n",
            "\n"
          ],
          "name": "stdout"
        }
      ]
    },
    {
      "cell_type": "code",
      "metadata": {
        "colab": {
          "base_uri": "https://localhost:8080/"
        },
        "id": "dkTS-shCzhzA",
        "outputId": "193adb2b-ee3a-4ace-b863-985994af5d63"
      },
      "source": [
        "make_model_regression(X3,'f3',data_f3.Age)"
      ],
      "execution_count": null,
      "outputs": [
        {
          "output_type": "stream",
          "text": [
            ">> The input dimension is 2304 and it is reduced to 58\n",
            "{'poly__degree': 1}\n",
            "MSE = 50.655\n",
            "R2 Score = 0.765\n"
          ],
          "name": "stdout"
        }
      ]
    },
    {
      "cell_type": "code",
      "metadata": {
        "colab": {
          "base_uri": "https://localhost:8080/"
        },
        "id": "YAzNy7ZM0T6m",
        "outputId": "b73e721a-3c82-48f0-ec50-4b3458125569"
      },
      "source": [
        "make_model_regression(X3,'f3',data_f3.Age)"
      ],
      "execution_count": null,
      "outputs": [
        {
          "output_type": "stream",
          "text": [
            ">> The input dimension is 2304 and it is reduced to 200\n",
            "{'poly__degree': 1}\n",
            "MSE = 35.131\n",
            "R2 Score = 0.900\n"
          ],
          "name": "stdout"
        }
      ]
    },
    {
      "cell_type": "markdown",
      "metadata": {
        "id": "sJ95XsCN1xo1"
      },
      "source": [
        "## F4"
      ]
    },
    {
      "cell_type": "code",
      "metadata": {
        "colab": {
          "base_uri": "https://localhost:8080/"
        },
        "id": "Z4wF_l2E1zup",
        "outputId": "0954c590-7a33-4b94-f7f3-3c7b5d94f767"
      },
      "source": [
        "X4 = data_f4.drop(columns=['Age','Gender','Status'])\n",
        "make_model_classification(X4,'f4',data_f4.Gender)"
      ],
      "execution_count": null,
      "outputs": [
        {
          "output_type": "stream",
          "text": [
            "Counter({0: 1643, 1: 1643})\n",
            ">> The input dimension is 2560 and it is reduced to 72\n",
            "              precision    recall  f1-score   support\n",
            "\n",
            "           0       0.71      0.81      0.75       551\n",
            "           1       0.77      0.66      0.71       534\n",
            "\n",
            "    accuracy                           0.73      1085\n",
            "   macro avg       0.74      0.73      0.73      1085\n",
            "weighted avg       0.74      0.73      0.73      1085\n",
            "\n"
          ],
          "name": "stdout"
        }
      ]
    },
    {
      "cell_type": "code",
      "metadata": {
        "colab": {
          "base_uri": "https://localhost:8080/"
        },
        "id": "Wt92DUbNLdyI",
        "outputId": "6828a0c2-1a7c-4bc5-9abc-7325bf10c849"
      },
      "source": [
        "make_model_classification_knn(X4,'f4',data_f4.Gender)\n"
      ],
      "execution_count": null,
      "outputs": [
        {
          "output_type": "stream",
          "text": [
            "Counter({0: 1643, 1: 1643})\n",
            ">> The input dimension is 2560 and it is reduced to 57\n",
            "Best leaf_size: 1\n",
            "Best p: 1\n",
            "Best n_neighbors: 18\n",
            "              precision    recall  f1-score   support\n",
            "\n",
            "           0       0.71      0.72      0.72       551\n",
            "           1       0.71      0.69      0.70       534\n",
            "\n",
            "    accuracy                           0.71      1085\n",
            "   macro avg       0.71      0.71      0.71      1085\n",
            "weighted avg       0.71      0.71      0.71      1085\n",
            "\n"
          ],
          "name": "stdout"
        }
      ]
    },
    {
      "cell_type": "code",
      "metadata": {
        "colab": {
          "base_uri": "https://localhost:8080/"
        },
        "id": "Da49JiFV14mc",
        "outputId": "27bb30c2-4373-4e2f-c484-bfcecc9994a3"
      },
      "source": [
        "make_model_classification(X4,'f4',data_f4.Status)\n"
      ],
      "execution_count": null,
      "outputs": [
        {
          "output_type": "stream",
          "text": [
            "Counter({0: 851, 2: 851, 1: 851})\n",
            ">> The input dimension is 2560 and it is reduced to 2\n",
            "              precision    recall  f1-score   support\n",
            "\n",
            "           0       0.34      0.63      0.44       262\n",
            "           1       0.38      0.23      0.28       287\n",
            "           2       0.44      0.29      0.35       294\n",
            "\n",
            "    accuracy                           0.37       843\n",
            "   macro avg       0.39      0.38      0.36       843\n",
            "weighted avg       0.39      0.37      0.36       843\n",
            "\n"
          ],
          "name": "stdout"
        }
      ]
    },
    {
      "cell_type": "code",
      "metadata": {
        "colab": {
          "base_uri": "https://localhost:8080/"
        },
        "id": "LjD0s4LcOIAU",
        "outputId": "a0188cc0-bf8a-47d3-a039-cfe8dd9cd635"
      },
      "source": [
        "make_model_classification_knn(X4,'f4',data_f4.Status)\n"
      ],
      "execution_count": null,
      "outputs": [
        {
          "output_type": "stream",
          "text": [
            "Counter({0: 851, 2: 851, 1: 851})\n",
            ">> The input dimension is 2560 and it is reduced to 4\n",
            "Best leaf_size: 1\n",
            "Best p: 1\n",
            "Best n_neighbors: 11\n",
            "              precision    recall  f1-score   support\n",
            "\n",
            "           0       0.32      0.43      0.37       262\n",
            "           1       0.31      0.29      0.30       287\n",
            "           2       0.40      0.31      0.35       294\n",
            "\n",
            "    accuracy                           0.34       843\n",
            "   macro avg       0.35      0.34      0.34       843\n",
            "weighted avg       0.35      0.34      0.34       843\n",
            "\n"
          ],
          "name": "stdout"
        }
      ]
    },
    {
      "cell_type": "code",
      "metadata": {
        "colab": {
          "base_uri": "https://localhost:8080/"
        },
        "id": "x6TXHnvt1-kf",
        "outputId": "1f8d7901-4214-455f-9734-608a39c6149d"
      },
      "source": [
        "make_model_regression(X4,'f4',data_f4.Age)"
      ],
      "execution_count": null,
      "outputs": [
        {
          "output_type": "stream",
          "text": [
            ">> The input dimension is 2560 and it is reduced to 37\n",
            "{'poly__degree': 1}\n",
            "MSE = 196.282\n",
            "R2 Score = 0.132\n"
          ],
          "name": "stdout"
        }
      ]
    },
    {
      "cell_type": "code",
      "metadata": {
        "colab": {
          "base_uri": "https://localhost:8080/"
        },
        "id": "udEq5Xsx0bhj",
        "outputId": "c75ea493-3cc2-44ca-d398-34c96695b226"
      },
      "source": [
        "make_model_regression(X4,'f4',data_f4.Age)"
      ],
      "execution_count": null,
      "outputs": [
        {
          "output_type": "stream",
          "text": [
            ">> The input dimension is 2560 and it is reduced to 270\n",
            "{'poly__degree': 1}\n",
            "MSE = 141.794\n",
            "R2 Score = 0.589\n"
          ],
          "name": "stdout"
        }
      ]
    },
    {
      "cell_type": "markdown",
      "metadata": {
        "id": "24xkbeiG2G-G"
      },
      "source": [
        "## F5"
      ]
    },
    {
      "cell_type": "code",
      "metadata": {
        "colab": {
          "base_uri": "https://localhost:8080/"
        },
        "id": "ycsP4-es2GI3",
        "outputId": "aee5af57-b5ca-4f0a-8be6-69f4dae9cab7"
      },
      "source": [
        "X5 = data_f5.drop(columns=['Age','Gender','Status'])\n",
        "make_model_classification(X5,'f5',data_f5.Gender)"
      ],
      "execution_count": null,
      "outputs": [
        {
          "output_type": "stream",
          "text": [
            "Counter({0: 1115, 1: 1115})\n",
            ">> The input dimension is 204 and it is reduced to 24\n",
            "              precision    recall  f1-score   support\n",
            "\n",
            "           0       0.77      0.67      0.72       379\n",
            "           1       0.69      0.79      0.74       357\n",
            "\n",
            "    accuracy                           0.73       736\n",
            "   macro avg       0.73      0.73      0.73       736\n",
            "weighted avg       0.73      0.73      0.73       736\n",
            "\n"
          ],
          "name": "stdout"
        }
      ]
    },
    {
      "cell_type": "code",
      "metadata": {
        "colab": {
          "base_uri": "https://localhost:8080/"
        },
        "id": "pf5ZZJp4QSml",
        "outputId": "71129826-3e00-4027-aa5b-c5812df1242c"
      },
      "source": [
        "make_model_classification_knn(X5,'f5',data_f5.Gender)"
      ],
      "execution_count": null,
      "outputs": [
        {
          "output_type": "stream",
          "text": [
            "Counter({0: 1115, 1: 1115})\n",
            ">> The input dimension is 204 and it is reduced to 23\n",
            "Best leaf_size: 1\n",
            "Best p: 1\n",
            "Best n_neighbors: 9\n",
            "              precision    recall  f1-score   support\n",
            "\n",
            "           0       0.74      0.72      0.73       379\n",
            "           1       0.71      0.73      0.72       357\n",
            "\n",
            "    accuracy                           0.72       736\n",
            "   macro avg       0.72      0.72      0.72       736\n",
            "weighted avg       0.72      0.72      0.72       736\n",
            "\n"
          ],
          "name": "stdout"
        }
      ]
    },
    {
      "cell_type": "code",
      "metadata": {
        "colab": {
          "base_uri": "https://localhost:8080/"
        },
        "id": "48BTxtxU2NH6",
        "outputId": "a7505c28-d875-4502-edf4-9385cc006946"
      },
      "source": [
        "make_model_classification(X5,'f5',data_f5.Status)"
      ],
      "execution_count": null,
      "outputs": [
        {
          "output_type": "stream",
          "text": [
            "Counter({0: 566, 2: 566, 1: 566})\n",
            ">> The input dimension is 204 and it is reduced to 19\n",
            "              precision    recall  f1-score   support\n",
            "\n",
            "           0       0.63      0.68      0.66       201\n",
            "           1       0.45      0.46      0.45       171\n",
            "           2       0.55      0.50      0.52       189\n",
            "\n",
            "    accuracy                           0.55       561\n",
            "   macro avg       0.54      0.55      0.54       561\n",
            "weighted avg       0.55      0.55      0.55       561\n",
            "\n"
          ],
          "name": "stdout"
        }
      ]
    },
    {
      "cell_type": "code",
      "metadata": {
        "colab": {
          "base_uri": "https://localhost:8080/"
        },
        "id": "0kgehRPlQX9b",
        "outputId": "0f892b86-26d4-4e60-9156-a029e7198fa0"
      },
      "source": [
        "make_model_classification_knn(X5,'f5',data_f5.Status)\n"
      ],
      "execution_count": null,
      "outputs": [
        {
          "output_type": "stream",
          "text": [
            "Counter({0: 566, 2: 566, 1: 566})\n",
            ">> The input dimension is 204 and it is reduced to 19\n",
            "Best leaf_size: 2\n",
            "Best p: 2\n",
            "Best n_neighbors: 18\n",
            "              precision    recall  f1-score   support\n",
            "\n",
            "           0       0.60      0.65      0.62       201\n",
            "           1       0.36      0.46      0.40       171\n",
            "           2       0.51      0.34      0.41       189\n",
            "\n",
            "    accuracy                           0.49       561\n",
            "   macro avg       0.49      0.48      0.48       561\n",
            "weighted avg       0.50      0.49      0.48       561\n",
            "\n"
          ],
          "name": "stdout"
        }
      ]
    },
    {
      "cell_type": "code",
      "metadata": {
        "colab": {
          "base_uri": "https://localhost:8080/"
        },
        "id": "JwgLyZrl2SWI",
        "outputId": "f503ef5b-601b-4965-c697-239c5cde7ba6"
      },
      "source": [
        "make_model_regression(X5,'f5',data_f5.Age)"
      ],
      "execution_count": null,
      "outputs": [
        {
          "output_type": "stream",
          "text": [
            ">> The input dimension is 204 and it is reduced to 24\n",
            "{'poly__degree': 1}\n",
            "MSE = 190.413\n",
            "R2 Score = 0.063\n"
          ],
          "name": "stdout"
        }
      ]
    },
    {
      "cell_type": "code",
      "metadata": {
        "colab": {
          "base_uri": "https://localhost:8080/"
        },
        "id": "ocbi_JC10Ysl",
        "outputId": "4fdb8ec6-1ed5-4d7b-c499-4bf84d97d2a2"
      },
      "source": [
        "make_model_regression(X5,'f5',data_f5.Age)"
      ],
      "execution_count": null,
      "outputs": [
        {
          "output_type": "stream",
          "text": [
            ">> The input dimension is 204 and it is reduced to 39\n",
            "{'poly__degree': 1}\n",
            "MSE = 238.696\n",
            "R2 Score = 0.266\n"
          ],
          "name": "stdout"
        }
      ]
    }
  ]
}