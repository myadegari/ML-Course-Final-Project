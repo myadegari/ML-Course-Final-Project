{
  "nbformat": 4,
  "nbformat_minor": 0,
  "metadata": {
    "colab": {
      "name": "ranking_features.ipynb",
      "provenance": [],
      "collapsed_sections": [
        "z4DvXRAzWlK-",
        "M-4hS_pMDeOF",
        "IQkG1Im5KZ06",
        "fUxdyZkRNmgI",
        "PkzmHf4UOOjY",
        "eaqEiHeqx86Q",
        "cqCMqm1wb76i",
        "w4X-fXkXb_iG",
        "uIiveS8gcPIz",
        "RKjR82Dwyfjc",
        "7mfS9jR4dDdR",
        "rJ24xbNRdDdS",
        "bNGBqMtHy7c6",
        "Asud4WrEdGnI",
        "m5qdDkCddGnI",
        "gBLi8RyxdJHK",
        "HJ78UZ1TdJHL",
        "okOQpznddJHM",
        "IqQtRV0HpjKM"
      ]
    },
    "kernelspec": {
      "name": "python3",
      "display_name": "Python 3"
    },
    "language_info": {
      "name": "python"
    }
  },
  "cells": [
    {
      "cell_type": "markdown",
      "metadata": {
        "id": "z4DvXRAzWlK-"
      },
      "source": [
        "## Load Dataset"
      ]
    },
    {
      "cell_type": "code",
      "metadata": {
        "id": "PLwClaKJrbz6",
        "colab": {
          "base_uri": "https://localhost:8080/"
        },
        "outputId": "0ab564f3-8a5d-4e80-d376-f0d7e489cb41"
      },
      "source": [
        "from google.colab import drive\n",
        "drive.mount('/content/gdrive')"
      ],
      "execution_count": null,
      "outputs": [
        {
          "output_type": "stream",
          "text": [
            "Mounted at /content/gdrive\n"
          ],
          "name": "stdout"
        }
      ]
    },
    {
      "cell_type": "code",
      "metadata": {
        "id": "s9WYP7kYroc_"
      },
      "source": [
        "%cp '/content/gdrive/MyDrive/ml_project_dataset.pkl' '/content/'"
      ],
      "execution_count": null,
      "outputs": []
    },
    {
      "cell_type": "code",
      "metadata": {
        "id": "nmoWFvUKrt23"
      },
      "source": [
        "!pip install pickle5"
      ],
      "execution_count": null,
      "outputs": []
    },
    {
      "cell_type": "code",
      "metadata": {
        "id": "aTVxLv7FrALQ"
      },
      "source": [
        "import pickle5 as pickle\n",
        "import numpy as np\n",
        "\n",
        "with open('ml_project_dataset.pkl', \"rb\") as fh:\n",
        "  data = pickle.load(fh)"
      ],
      "execution_count": null,
      "outputs": []
    },
    {
      "cell_type": "code",
      "metadata": {
        "id": "SD1g7C7ArALU"
      },
      "source": [
        "import re\n",
        "data.Gender.unique()\n",
        "data.Gender=data.Gender.apply(lambda x: re.sub('^[fF]\\w*','f',x))\n",
        "data.Gender=data.Gender.apply(lambda x: re.sub('^[mM]\\w*','m',x))\n",
        "\n",
        "data.Status = data.Status.apply(lambda x : re.sub('^[sS]+.*','s',x))\n",
        "data.Status = data.Status.apply(lambda x : re.sub('^[hH]+.*','h',x))\n",
        "data.Status = data.Status.apply(lambda x : re.sub('^[nN]+.*','n',x))\n",
        "\n",
        "#find cropted label and drop the row data thats containe it \n",
        "data.Status = data.Status.apply(lambda x : re.sub('^\\d+.*','cropted',x))\n",
        "data.Status.replace('cropted',np.nan,inplace=True)\n",
        "data.dropna(subset=['Status'],inplace=True)\n",
        "\n",
        "data.Gender=data.Gender.astype('category').cat.codes\n",
        "data.Status=data.Status.astype('category').cat.codes"
      ],
      "execution_count": null,
      "outputs": []
    },
    {
      "cell_type": "code",
      "metadata": {
        "id": "LYBYVpsxUW6x"
      },
      "source": [
        "data_f1 = data[['Age','Gender','Status','f1']].copy()\n",
        "data_f2 = data[['Age','Gender','Status','f2']].copy()\n",
        "data_f3 = data[['Age','Gender','Status','f3']].copy()\n",
        "data_f4 = data[['Age','Gender','Status','f4']].copy()\n",
        "data_f5 = data[['Age','Gender','Status','f5']].copy()"
      ],
      "execution_count": null,
      "outputs": []
    },
    {
      "cell_type": "code",
      "metadata": {
        "id": "CxRM0bJirALY"
      },
      "source": [
        "data_f1.f1=data_f1.f1.apply(lambda x: np.nan if np.isnan(x[0]) else x)\n",
        "data_f1.dropna(subset=['f1'],inplace=True)\n",
        "data_f2.f2=data_f2.f2.apply(lambda x: np.nan if np.isnan(x[0]) else x)\n",
        "data_f2.dropna(subset=['f2'],inplace=True)\n",
        "data_f3.f3=data_f3.f3.apply(lambda x: np.nan if np.isnan(x[0]) else x)\n",
        "data_f3.dropna(subset=['f3'],inplace=True)\n",
        "data_f4.f4=data_f4.f4.apply(lambda x: np.nan if np.isnan(x[0]) else x)\n",
        "data_f4.dropna(subset=['f4'],inplace=True)\n",
        "data_f5.f5=data_f5.f5.apply(lambda x: np.nan if np.isnan(x[0]) else x)\n",
        "data_f5.dropna(subset=['f5'],inplace=True)\n",
        "\n",
        "data_f1.reset_index(drop=True,inplace=True)\n",
        "data_f2.reset_index(drop=True,inplace=True)\n",
        "data_f3.reset_index(drop=True,inplace=True)\n",
        "data_f4.reset_index(drop=True,inplace=True)\n",
        "data_f5.reset_index(drop=True,inplace=True)"
      ],
      "execution_count": null,
      "outputs": []
    },
    {
      "cell_type": "code",
      "metadata": {
        "id": "lDqg1Fj-Z9kZ"
      },
      "source": [
        "!pip install -U imbalanced-learn"
      ],
      "execution_count": null,
      "outputs": []
    },
    {
      "cell_type": "markdown",
      "metadata": {
        "id": "M-4hS_pMDeOF"
      },
      "source": [
        "## Ranking Dataset"
      ]
    },
    {
      "cell_type": "code",
      "metadata": {
        "id": "6ZUrvUnoEgri"
      },
      "source": [
        "import pandas as pd\n",
        "import numpy as np\n",
        "\n",
        "def make_dataset(X,feature_set):\n",
        "  x=X[feature_set].values.copy()\n",
        "  u = np.zeros((x.shape[0],x[0].shape[0]))\n",
        "  for i in range(x.shape[0]):\n",
        "    for j in range(x[0].shape[0]):\n",
        "      u[i][j]=x[i][j]\n",
        "    \n",
        "  cols = np.arange(0,x[0].shape[0],1)\n",
        "  df = pd.DataFrame(u, columns = cols)\n",
        "  return df"
      ],
      "execution_count": null,
      "outputs": []
    },
    {
      "cell_type": "code",
      "metadata": {
        "id": "ryr5wr93DaWH"
      },
      "source": [
        "from sklearn.linear_model import LinearRegression\n",
        "import statsmodels.api as sm\n",
        "from warnings import filterwarnings\n",
        "filterwarnings('ignore')\n",
        "importance = 40\n",
        "\n",
        "def get_feature_importance(df,y_target):\n",
        "  regressor = LinearRegression()\n",
        "  regressor.fit(df,y_target)\n",
        "  intercept = regressor.intercept_\n",
        "  features = pd.DataFrame(regressor.coef_,df.columns,columns=['coefficient'])\n",
        "  features.coefficient = features.coefficient.abs()\n",
        "  stdvs=[]\n",
        "  for i in df.columns:\n",
        "    stdv=df[i].std()\n",
        "    stdvs.append(stdv)\n",
        "  features['stdev']=np.array(stdvs).reshape(-1,1)\n",
        "  features['importance']=features['coefficient']*features['stdev']\n",
        "  features['importance_normalized'] = 100*features['importance'] / features['importance'].max()\n",
        "  return features.importance_normalized"
      ],
      "execution_count": null,
      "outputs": []
    },
    {
      "cell_type": "code",
      "metadata": {
        "id": "A4vmoKkhOTAi"
      },
      "source": [
        "from sklearn.feature_selection import mutual_info_classif\n",
        "import matplotlib.pyplot as plt\n",
        "\n",
        "def feature_importance_mutual(x_features, y_target):\n",
        "  gain = mutual_info_classif(x_features, y_target, discrete_features=True)\n",
        "  for i in range(0, len(gain)):\n",
        "    gain[i] = round(gain[i], 1)\n",
        "  return gain"
      ],
      "execution_count": null,
      "outputs": []
    },
    {
      "cell_type": "code",
      "metadata": {
        "id": "gHBISnehxCb0"
      },
      "source": [
        "def find_best_pca_n(x):\n",
        "  pca = PCA()\n",
        "  x_pca=pca.fit_transform(x)\n",
        "  exv=pca.explained_variance_ratio_\n",
        "  yy = []\n",
        "\n",
        "  a,s=0,0\n",
        "  flag =True \n",
        "  for k,j in enumerate(exv):\n",
        "    s+=j\n",
        "    if (s>0.9 and flag):\n",
        "      a = k\n",
        "      flag=False\n",
        "    yy.append(s)\n",
        "\n",
        "  print('PCA : Optimum Feature number is %d\\n'%a)"
      ],
      "execution_count": null,
      "outputs": []
    },
    {
      "cell_type": "markdown",
      "metadata": {
        "id": "IQkG1Im5KZ06"
      },
      "source": [
        "## F1"
      ]
    },
    {
      "cell_type": "markdown",
      "metadata": {
        "id": "fUxdyZkRNmgI"
      },
      "source": [
        "### Linear imporatnce"
      ]
    },
    {
      "cell_type": "code",
      "metadata": {
        "colab": {
          "base_uri": "https://localhost:8080/"
        },
        "id": "_8UzyLlNMLEC",
        "outputId": "f7553582-aaef-4af8-c559-6e508a258028"
      },
      "source": [
        "X1 = make_dataset(data_f1.drop(columns=['Age','Gender','Status']),'f1')\n",
        "x1_reduced = get_feature_importance(X1,data_f1.Gender)\n",
        "print(x1_reduced[x1_reduced>importance])\n",
        "print(\"Label : Gender\")\n",
        "print(\"number of all features: \", X1.shape[1])\n",
        "print(\"number of selected features : \", x1_reduced[x1_reduced>importance].shape[0])"
      ],
      "execution_count": null,
      "outputs": [
        {
          "output_type": "stream",
          "text": [
            "1      40.662589\n",
            "10     48.325035\n",
            "14     70.568047\n",
            "20     48.920700\n",
            "26     51.094370\n",
            "         ...    \n",
            "500    49.581685\n",
            "501    65.867406\n",
            "503    44.494662\n",
            "504    51.048309\n",
            "509    84.286308\n",
            "Name: importance_normalized, Length: 76, dtype: float64\n",
            "Label : Gender\n",
            "number of all features:  512\n",
            "number of selected features :  76\n"
          ],
          "name": "stdout"
        }
      ]
    },
    {
      "cell_type": "code",
      "metadata": {
        "colab": {
          "base_uri": "https://localhost:8080/"
        },
        "id": "ToIIAU7PNKoo",
        "outputId": "81a4d8f8-5b66-46ee-bcc6-79cea668cf8b"
      },
      "source": [
        "X1 = make_dataset(data_f1.drop(columns=['Age','Gender','Status']),'f1')\n",
        "x1_reduced = get_feature_importance(X1,data_f1.Age)\n",
        "print(x1_reduced[x1_reduced>importance])\n",
        "print(\"Label : Age\")\n",
        "print(\"number of all features: \", X1.shape[1])\n",
        "print(\"number of selected features : \", x1_reduced[x1_reduced>importance].shape[0])"
      ],
      "execution_count": null,
      "outputs": [
        {
          "output_type": "stream",
          "text": [
            "6      48.803350\n",
            "8      42.529093\n",
            "11     60.778654\n",
            "12     51.561685\n",
            "14     76.921195\n",
            "         ...    \n",
            "491    62.772495\n",
            "492    77.168452\n",
            "496    50.461343\n",
            "497    52.283782\n",
            "507    44.867593\n",
            "Name: importance_normalized, Length: 107, dtype: float64\n",
            "Label : Age\n",
            "number of all features:  512\n",
            "number of selected features :  107\n"
          ],
          "name": "stdout"
        }
      ]
    },
    {
      "cell_type": "code",
      "metadata": {
        "colab": {
          "base_uri": "https://localhost:8080/"
        },
        "id": "u2ZkJpbVOES-",
        "outputId": "e7109c67-bc53-46ec-beac-bb44307344b5"
      },
      "source": [
        "X1 = make_dataset(data_f1.drop(columns=['Age','Gender','Status']),'f1')\n",
        "x1_reduced = get_feature_importance(X1,data_f1.Status)\n",
        "print(x1_reduced[x1_reduced>importance])\n",
        "print(\"Label : Status\")\n",
        "print(\"number of all features: \", X1.shape[1])\n",
        "print(\"number of selected features : \", x1_reduced[x1_reduced>importance].shape[0])"
      ],
      "execution_count": null,
      "outputs": [
        {
          "output_type": "stream",
          "text": [
            "4      75.183874\n",
            "6      43.933728\n",
            "16     47.449897\n",
            "17     50.130834\n",
            "20     49.851995\n",
            "         ...    \n",
            "471    46.983496\n",
            "472    43.700416\n",
            "476    46.034371\n",
            "481    45.115978\n",
            "489    52.964279\n",
            "Name: importance_normalized, Length: 95, dtype: float64\n",
            "Label : Status\n",
            "number of all features:  512\n",
            "number of selected features :  95\n"
          ],
          "name": "stdout"
        }
      ]
    },
    {
      "cell_type": "markdown",
      "metadata": {
        "id": "PkzmHf4UOOjY"
      },
      "source": [
        "### Mutual Information"
      ]
    },
    {
      "cell_type": "code",
      "metadata": {
        "colab": {
          "base_uri": "https://localhost:8080/"
        },
        "id": "EBK564DPPTID",
        "outputId": "96e41f59-e57c-4173-cbdb-7ae0af486410"
      },
      "source": [
        "X1 = make_dataset(data_f1.drop(columns=['Age','Gender','Status']),'f1')\n",
        "gains = feature_importance_mutual(X1,data_f1.Status)\n",
        "print(list(gains))\n",
        "my_dict = {i:list(gains).count(i) for i in list(gains)}\n",
        "my_dict"
      ],
      "execution_count": null,
      "outputs": [
        {
          "output_type": "stream",
          "text": [
            "[1.017, 1.017, 1.017, 1.017, 1.017, 1.017, 1.017, 1.017, 1.017, 1.017, 1.017, 1.017, 1.017, 1.017, 1.017, 1.017, 1.017, 1.017, 1.017, 1.017, 1.017, 1.017, 1.017, 1.017, 1.017, 1.017, 1.017, 1.017, 1.017, 1.017, 1.017, 1.017, 1.017, 1.017, 1.017, 1.017, 1.017, 1.017, 1.017, 1.017, 1.017, 1.017, 1.017, 1.017, 1.017, 1.017, 1.017, 1.017, 1.017, 1.017, 1.017, 1.017, 1.017, 1.017, 1.017, 1.017, 1.017, 1.017, 1.017, 1.017, 1.017, 1.017, 1.017, 1.017, 1.017, 1.017, 1.017, 1.017, 1.017, 1.017, 1.017, 1.017, 1.017, 1.017, 1.017, 1.017, 1.017, 1.017, 1.017, 1.017, 1.017, 1.017, 1.017, 1.017, 1.017, 1.017, 1.017, 1.017, 1.017, 1.016, 1.017, 1.017, 1.017, 1.017, 1.017, 1.017, 1.017, 1.017, 1.017, 1.017, 1.017, 1.017, 1.017, 1.017, 1.017, 1.017, 1.017, 1.017, 1.017, 1.017, 1.017, 1.017, 1.017, 1.017, 1.017, 1.017, 1.017, 1.017, 1.017, 1.017, 1.017, 1.017, 1.017, 1.017, 1.017, 1.017, 1.017, 1.017, 1.017, 1.017, 1.017, 1.017, 1.017, 1.017, 1.017, 1.017, 1.017, 1.017, 1.017, 1.017, 1.017, 1.017, 1.017, 1.017, 1.017, 1.017, 1.017, 1.017, 1.017, 1.017, 1.017, 1.017, 1.017, 1.017, 1.017, 1.017, 1.017, 1.017, 1.017, 1.017, 1.017, 1.017, 1.017, 1.017, 1.017, 1.017, 1.017, 1.017, 1.017, 1.017, 1.017, 1.017, 1.017, 1.017, 1.017, 1.017, 1.017, 1.017, 1.017, 1.017, 1.017, 1.017, 1.017, 1.017, 1.017, 1.017, 1.017, 1.017, 1.017, 1.017, 1.017, 1.017, 1.017, 1.017, 1.017, 1.017, 1.017, 1.017, 1.017, 1.017, 1.017, 1.017, 1.017, 1.017, 1.017, 1.017, 1.017, 1.017, 1.017, 1.017, 1.017, 1.017, 1.017, 1.017, 1.017, 1.017, 1.017, 1.017, 1.017, 1.017, 1.017, 1.017, 1.017, 1.017, 1.017, 1.017, 1.017, 1.017, 1.017, 1.017, 1.017, 1.017, 1.017, 1.017, 1.017, 1.017, 1.017, 1.017, 1.017, 1.017, 1.017, 1.017, 1.017, 1.017, 1.017, 1.017, 1.017, 1.017, 1.017, 1.017, 1.017, 1.017, 1.017, 1.017, 1.017, 1.017, 1.017, 1.017, 1.017, 1.017, 1.017, 1.017, 1.017, 1.017, 1.017, 1.017, 1.017, 1.017, 1.017, 1.017, 1.017, 1.017, 1.017, 1.017, 1.017, 1.017, 1.017, 1.017, 1.017, 1.017, 1.017, 1.017, 1.017, 1.017, 1.017, 1.017, 1.017, 1.017, 1.017, 1.017, 1.017, 1.017, 1.017, 1.017, 1.017, 1.017, 1.017, 1.017, 1.017, 1.017, 1.017, 1.017, 1.017, 1.017, 1.017, 1.017, 1.017, 1.017, 1.017, 1.017, 1.017, 1.017, 1.017, 1.017, 1.017, 1.017, 1.016, 1.017, 1.017, 1.017, 1.017, 1.017, 1.017, 1.017, 1.017, 1.017, 1.017, 1.017, 1.017, 1.017, 1.017, 1.017, 1.017, 1.017, 1.017, 1.017, 1.017, 1.017, 1.017, 1.017, 1.017, 1.017, 1.017, 1.017, 1.017, 1.017, 1.017, 1.017, 1.017, 1.017, 1.017, 1.017, 1.017, 1.017, 1.017, 1.017, 1.017, 1.017, 1.017, 1.017, 1.017, 1.017, 1.017, 1.017, 1.016, 1.016, 1.017, 1.017, 1.017, 1.017, 1.017, 1.017, 1.017, 1.017, 1.017, 1.017, 1.017, 1.017, 1.017, 1.017, 1.017, 1.017, 1.017, 1.017, 1.017, 1.017, 1.017, 1.017, 1.017, 1.017, 1.017, 1.017, 1.017, 1.017, 1.017, 1.017, 1.017, 1.017, 1.017, 1.017, 1.017, 1.017, 1.017, 1.017, 1.017, 1.017, 1.017, 1.017, 1.016, 1.017, 1.017, 1.017, 1.017, 1.017, 1.017, 1.017, 1.017, 1.017, 1.017, 1.017, 1.017, 1.017, 1.017, 1.017, 1.017, 1.017, 1.017, 1.017, 1.017, 1.017, 1.017, 1.017, 1.017, 1.017, 1.017, 1.017, 1.017, 1.017, 1.017, 1.017, 1.017, 1.017, 1.017, 1.017, 1.017, 1.017, 1.017, 1.017, 1.017, 1.017, 1.017, 1.017, 1.017, 1.017, 1.017, 1.017, 1.017, 1.017, 1.017, 1.017, 1.017, 1.017, 1.017, 1.017, 1.017, 1.017, 1.017, 1.017, 1.017, 1.017, 1.017, 1.017, 1.017, 1.017, 1.017, 1.017, 1.017, 1.017, 1.017, 1.017, 1.017, 1.017, 1.017, 1.017, 1.017, 1.017, 1.017, 1.017, 1.017, 1.017, 1.017, 1.017, 1.017, 1.017, 1.017, 1.017, 1.017, 1.017, 1.017, 1.017, 1.017, 1.017, 1.017, 1.017, 1.017, 1.017, 1.017, 1.016, 1.017, 1.017, 1.017, 1.017]\n"
          ],
          "name": "stdout"
        },
        {
          "output_type": "execute_result",
          "data": {
            "text/plain": [
              "{1.016: 6, 1.017: 506}"
            ]
          },
          "metadata": {
            "tags": []
          },
          "execution_count": 171
        }
      ]
    },
    {
      "cell_type": "code",
      "metadata": {
        "colab": {
          "base_uri": "https://localhost:8080/"
        },
        "id": "J_O7YBcSW85B",
        "outputId": "9728124b-14b8-4ffb-f970-3c6435471268"
      },
      "source": [
        "X1 = make_dataset(data_f1.drop(columns=['Age','Gender','Status']),'f1')\n",
        "gains = feature_importance_mutual(X1,data_f1.Gender)\n",
        "print(list(gains))\n",
        "my_dict = {i:list(gains).count(i) for i in list(gains)}\n",
        "my_dict"
      ],
      "execution_count": null,
      "outputs": [
        {
          "output_type": "stream",
          "text": [
            "[0.64, 0.64, 0.64, 0.64, 0.64, 0.64, 0.64, 0.64, 0.64, 0.64, 0.64, 0.64, 0.64, 0.64, 0.64, 0.64, 0.64, 0.64, 0.64, 0.64, 0.64, 0.64, 0.64, 0.64, 0.64, 0.64, 0.64, 0.64, 0.64, 0.64, 0.64, 0.64, 0.64, 0.64, 0.64, 0.64, 0.64, 0.64, 0.64, 0.64, 0.64, 0.64, 0.64, 0.64, 0.64, 0.64, 0.64, 0.64, 0.64, 0.64, 0.64, 0.64, 0.64, 0.64, 0.64, 0.64, 0.64, 0.64, 0.64, 0.64, 0.64, 0.64, 0.64, 0.64, 0.64, 0.64, 0.64, 0.64, 0.64, 0.64, 0.64, 0.64, 0.64, 0.64, 0.64, 0.64, 0.64, 0.64, 0.64, 0.64, 0.64, 0.64, 0.64, 0.64, 0.64, 0.64, 0.64, 0.64, 0.64, 0.64, 0.64, 0.64, 0.64, 0.64, 0.64, 0.64, 0.64, 0.64, 0.64, 0.64, 0.64, 0.64, 0.64, 0.64, 0.64, 0.64, 0.64, 0.64, 0.64, 0.64, 0.64, 0.64, 0.64, 0.64, 0.64, 0.64, 0.64, 0.64, 0.64, 0.64, 0.64, 0.64, 0.64, 0.64, 0.64, 0.64, 0.64, 0.64, 0.64, 0.64, 0.64, 0.64, 0.64, 0.64, 0.64, 0.64, 0.64, 0.64, 0.64, 0.64, 0.64, 0.64, 0.64, 0.64, 0.64, 0.64, 0.64, 0.64, 0.64, 0.64, 0.64, 0.64, 0.64, 0.64, 0.64, 0.64, 0.64, 0.64, 0.64, 0.64, 0.64, 0.64, 0.64, 0.64, 0.64, 0.64, 0.64, 0.64, 0.64, 0.64, 0.64, 0.64, 0.64, 0.64, 0.64, 0.64, 0.64, 0.64, 0.64, 0.64, 0.64, 0.64, 0.64, 0.64, 0.64, 0.64, 0.64, 0.64, 0.64, 0.64, 0.64, 0.64, 0.64, 0.64, 0.64, 0.64, 0.64, 0.64, 0.64, 0.64, 0.64, 0.64, 0.64, 0.64, 0.64, 0.64, 0.64, 0.64, 0.64, 0.64, 0.64, 0.64, 0.64, 0.64, 0.64, 0.64, 0.64, 0.64, 0.64, 0.64, 0.64, 0.64, 0.64, 0.64, 0.64, 0.64, 0.64, 0.64, 0.64, 0.64, 0.64, 0.64, 0.64, 0.64, 0.64, 0.64, 0.64, 0.64, 0.64, 0.64, 0.64, 0.64, 0.64, 0.64, 0.64, 0.64, 0.64, 0.64, 0.64, 0.64, 0.64, 0.64, 0.64, 0.64, 0.64, 0.64, 0.64, 0.64, 0.64, 0.64, 0.64, 0.64, 0.64, 0.64, 0.64, 0.64, 0.64, 0.64, 0.64, 0.64, 0.64, 0.64, 0.64, 0.64, 0.64, 0.64, 0.64, 0.64, 0.64, 0.64, 0.64, 0.64, 0.64, 0.64, 0.64, 0.64, 0.64, 0.64, 0.64, 0.64, 0.64, 0.64, 0.64, 0.64, 0.64, 0.64, 0.64, 0.64, 0.64, 0.64, 0.64, 0.64, 0.64, 0.64, 0.64, 0.64, 0.64, 0.64, 0.64, 0.64, 0.64, 0.64, 0.64, 0.64, 0.64, 0.64, 0.639, 0.64, 0.64, 0.64, 0.64, 0.64, 0.64, 0.64, 0.64, 0.64, 0.64, 0.64, 0.64, 0.64, 0.64, 0.64, 0.64, 0.64, 0.64, 0.64, 0.64, 0.64, 0.64, 0.64, 0.64, 0.64, 0.64, 0.64, 0.64, 0.64, 0.64, 0.64, 0.64, 0.64, 0.64, 0.64, 0.64, 0.64, 0.64, 0.64, 0.64, 0.64, 0.64, 0.64, 0.64, 0.64, 0.64, 0.64, 0.639, 0.639, 0.64, 0.64, 0.64, 0.64, 0.64, 0.64, 0.64, 0.64, 0.64, 0.64, 0.64, 0.64, 0.64, 0.64, 0.64, 0.64, 0.64, 0.64, 0.64, 0.64, 0.64, 0.64, 0.64, 0.64, 0.64, 0.64, 0.64, 0.64, 0.64, 0.64, 0.64, 0.64, 0.64, 0.64, 0.64, 0.64, 0.64, 0.64, 0.64, 0.64, 0.64, 0.64, 0.64, 0.64, 0.64, 0.64, 0.64, 0.64, 0.64, 0.64, 0.64, 0.64, 0.64, 0.64, 0.64, 0.64, 0.64, 0.64, 0.64, 0.64, 0.64, 0.64, 0.64, 0.64, 0.64, 0.64, 0.64, 0.64, 0.64, 0.64, 0.64, 0.64, 0.64, 0.64, 0.64, 0.64, 0.64, 0.64, 0.64, 0.64, 0.64, 0.64, 0.64, 0.64, 0.64, 0.64, 0.64, 0.64, 0.64, 0.64, 0.64, 0.64, 0.64, 0.64, 0.64, 0.64, 0.64, 0.64, 0.64, 0.64, 0.64, 0.64, 0.64, 0.64, 0.64, 0.64, 0.64, 0.64, 0.64, 0.64, 0.64, 0.64, 0.64, 0.64, 0.64, 0.64, 0.64, 0.64, 0.64, 0.64, 0.64, 0.64, 0.64, 0.64, 0.64, 0.64, 0.64, 0.64, 0.64, 0.64, 0.64, 0.64, 0.64, 0.64, 0.64, 0.64, 0.64, 0.64, 0.64, 0.64, 0.64, 0.64, 0.64, 0.64, 0.64, 0.64]\n"
          ],
          "name": "stdout"
        },
        {
          "output_type": "execute_result",
          "data": {
            "text/plain": [
              "{0.639: 3, 0.64: 509}"
            ]
          },
          "metadata": {
            "tags": []
          },
          "execution_count": 172
        }
      ]
    },
    {
      "cell_type": "code",
      "metadata": {
        "colab": {
          "base_uri": "https://localhost:8080/"
        },
        "id": "nKP3WeOtXDZ4",
        "outputId": "cd60ed59-307b-4f40-9e4a-953a653be7b8"
      },
      "source": [
        "X1 = make_dataset(data_f1.drop(columns=['Age','Gender','Status']),'f1')\n",
        "gains = feature_importance_mutual(X1,data_f1.Age)\n",
        "print(list(gains))\n",
        "my_dict = {i:list(gains).count(i) for i in list(gains)}\n",
        "my_dict"
      ],
      "execution_count": null,
      "outputs": [
        {
          "output_type": "stream",
          "text": [
            "[3.374, 3.374, 3.374, 3.374, 3.374, 3.374, 3.374, 3.374, 3.374, 3.374, 3.374, 3.374, 3.374, 3.374, 3.374, 3.374, 3.374, 3.374, 3.374, 3.374, 3.374, 3.374, 3.374, 3.374, 3.374, 3.374, 3.374, 3.374, 3.374, 3.374, 3.374, 3.374, 3.374, 3.374, 3.374, 3.374, 3.374, 3.374, 3.374, 3.374, 3.374, 3.374, 3.374, 3.374, 3.374, 3.374, 3.374, 3.373, 3.374, 3.374, 3.374, 3.374, 3.374, 3.374, 3.374, 3.374, 3.374, 3.374, 3.374, 3.374, 3.374, 3.374, 3.374, 3.374, 3.374, 3.374, 3.374, 3.374, 3.374, 3.374, 3.374, 3.374, 3.374, 3.374, 3.374, 3.374, 3.374, 3.374, 3.374, 3.374, 3.374, 3.374, 3.374, 3.374, 3.374, 3.374, 3.374, 3.374, 3.374, 3.373, 3.374, 3.374, 3.374, 3.374, 3.374, 3.374, 3.374, 3.374, 3.374, 3.374, 3.374, 3.374, 3.374, 3.374, 3.374, 3.374, 3.374, 3.374, 3.374, 3.374, 3.374, 3.374, 3.374, 3.374, 3.374, 3.374, 3.374, 3.374, 3.374, 3.374, 3.374, 3.374, 3.374, 3.374, 3.374, 3.374, 3.374, 3.374, 3.374, 3.374, 3.374, 3.374, 3.374, 3.374, 3.374, 3.374, 3.374, 3.374, 3.374, 3.374, 3.374, 3.374, 3.374, 3.374, 3.374, 3.374, 3.374, 3.374, 3.374, 3.374, 3.374, 3.374, 3.374, 3.374, 3.374, 3.374, 3.374, 3.374, 3.374, 3.374, 3.374, 3.374, 3.374, 3.374, 3.374, 3.374, 3.374, 3.374, 3.374, 3.374, 3.374, 3.374, 3.374, 3.374, 3.374, 3.374, 3.374, 3.374, 3.374, 3.374, 3.374, 3.374, 3.374, 3.374, 3.374, 3.374, 3.374, 3.374, 3.374, 3.374, 3.374, 3.374, 3.374, 3.374, 3.374, 3.374, 3.374, 3.374, 3.374, 3.374, 3.374, 3.374, 3.374, 3.374, 3.374, 3.374, 3.374, 3.374, 3.374, 3.374, 3.374, 3.374, 3.374, 3.374, 3.374, 3.374, 3.374, 3.374, 3.374, 3.374, 3.374, 3.374, 3.374, 3.374, 3.374, 3.374, 3.374, 3.374, 3.374, 3.374, 3.374, 3.374, 3.374, 3.374, 3.374, 3.374, 3.374, 3.374, 3.374, 3.374, 3.374, 3.374, 3.374, 3.374, 3.374, 3.374, 3.374, 3.374, 3.374, 3.374, 3.374, 3.374, 3.374, 3.374, 3.374, 3.374, 3.374, 3.374, 3.374, 3.374, 3.374, 3.374, 3.374, 3.374, 3.374, 3.374, 3.374, 3.374, 3.374, 3.374, 3.374, 3.374, 3.374, 3.374, 3.374, 3.374, 3.374, 3.374, 3.374, 3.374, 3.374, 3.374, 3.374, 3.374, 3.374, 3.374, 3.374, 3.374, 3.374, 3.374, 3.374, 3.374, 3.374, 3.374, 3.374, 3.374, 3.374, 3.374, 3.374, 3.374, 3.374, 3.374, 3.374, 3.374, 3.374, 3.374, 3.374, 3.374, 3.374, 3.374, 3.374, 3.374, 3.374, 3.374, 3.374, 3.374, 3.374, 3.374, 3.374, 3.374, 3.374, 3.374, 3.374, 3.374, 3.374, 3.374, 3.374, 3.374, 3.374, 3.374, 3.374, 3.374, 3.374, 3.374, 3.374, 3.374, 3.374, 3.374, 3.374, 3.374, 3.374, 3.374, 3.374, 3.374, 3.374, 3.374, 3.374, 3.374, 3.374, 3.374, 3.374, 3.374, 3.374, 3.374, 3.374, 3.374, 3.374, 3.374, 3.374, 3.374, 3.374, 3.374, 3.374, 3.374, 3.374, 3.374, 3.374, 3.374, 3.374, 3.374, 3.374, 3.374, 3.374, 3.374, 3.374, 3.374, 3.374, 3.374, 3.374, 3.374, 3.374, 3.374, 3.374, 3.374, 3.374, 3.374, 3.374, 3.374, 3.374, 3.374, 3.374, 3.374, 3.374, 3.374, 3.373, 3.374, 3.374, 3.374, 3.374, 3.374, 3.374, 3.374, 3.374, 3.374, 3.374, 3.374, 3.374, 3.374, 3.374, 3.374, 3.374, 3.374, 3.374, 3.374, 3.374, 3.374, 3.374, 3.374, 3.374, 3.374, 3.374, 3.374, 3.374, 3.374, 3.374, 3.374, 3.374, 3.374, 3.374, 3.374, 3.374, 3.374, 3.374, 3.374, 3.374, 3.374, 3.374, 3.374, 3.374, 3.374, 3.374, 3.374, 3.374, 3.374, 3.374, 3.374, 3.374, 3.374, 3.374, 3.374, 3.374, 3.374, 3.374, 3.374, 3.374, 3.374, 3.374, 3.374, 3.374, 3.374, 3.374, 3.374, 3.374, 3.374, 3.374, 3.374, 3.374, 3.374, 3.374, 3.374, 3.374, 3.374, 3.374, 3.374, 3.374, 3.374, 3.374, 3.374, 3.374, 3.374, 3.374, 3.374, 3.374, 3.374, 3.374, 3.374, 3.374, 3.374, 3.374, 3.374, 3.374, 3.374, 3.374, 3.374, 3.374, 3.374, 3.374, 3.374, 3.374, 3.374, 3.374, 3.374, 3.374, 3.374, 3.374, 3.374, 3.374, 3.374, 3.374, 3.374, 3.374, 3.374]\n"
          ],
          "name": "stdout"
        },
        {
          "output_type": "execute_result",
          "data": {
            "text/plain": [
              "{3.373: 3, 3.374: 509}"
            ]
          },
          "metadata": {
            "tags": []
          },
          "execution_count": 173
        }
      ]
    },
    {
      "cell_type": "markdown",
      "metadata": {
        "id": "eaqEiHeqx86Q"
      },
      "source": [
        "### LDA - PCA"
      ]
    },
    {
      "cell_type": "code",
      "metadata": {
        "colab": {
          "base_uri": "https://localhost:8080/"
        },
        "id": "ikgxGxalxyfo",
        "outputId": "d210d8b0-c0c5-4e03-c78f-0c6969cdbcf9"
      },
      "source": [
        "from sklearn.discriminant_analysis import LinearDiscriminantAnalysis\n",
        "from sklearn.decomposition import PCA\n",
        "\n",
        "X1 = make_dataset(data_f1.drop(columns=['Age','Gender','Status']),'f1')\n",
        "clf = LinearDiscriminantAnalysis()\n",
        "x1_reduced = clf.fit_transform(X1,data_f1.Status)\n",
        "\n",
        "print('Label : Status')\n",
        "print('LDA features :', x1_reduced.shape)\n",
        "find_best_pca_n(X1)"
      ],
      "execution_count": null,
      "outputs": [
        {
          "output_type": "stream",
          "text": [
            "Label : Status\n",
            "LDA features : (2242, 2)\n",
            "PCA : Optimum Feature number is 34\n",
            "\n"
          ],
          "name": "stdout"
        }
      ]
    },
    {
      "cell_type": "code",
      "metadata": {
        "colab": {
          "base_uri": "https://localhost:8080/"
        },
        "id": "QSofQwow0wH9",
        "outputId": "b8baa0b5-652f-4140-dcc2-0398c0690d4c"
      },
      "source": [
        "X1 = make_dataset(data_f1.drop(columns=['Age','Gender','Status']),'f1')\n",
        "clf = LinearDiscriminantAnalysis()\n",
        "x1_reduced = clf.fit_transform(X1,data_f1.Gender)\n",
        "\n",
        "print('Label : Gender')\n",
        "print('LDA features :', x1_reduced.shape)\n",
        "find_best_pca_n(X1)"
      ],
      "execution_count": null,
      "outputs": [
        {
          "output_type": "stream",
          "text": [
            "Label : Gender\n",
            "LDA features : (2242, 1)\n",
            "PCA : Optimum Feature number is 34\n",
            "\n"
          ],
          "name": "stdout"
        }
      ]
    },
    {
      "cell_type": "code",
      "metadata": {
        "colab": {
          "base_uri": "https://localhost:8080/"
        },
        "id": "3OtThqE_0vto",
        "outputId": "4ffd37ea-edd0-43ac-bc48-9127f84dd225"
      },
      "source": [
        "X1 = make_dataset(data_f1.drop(columns=['Age','Gender','Status']),'f1')\n",
        "clf = LinearDiscriminantAnalysis()\n",
        "x1_reduced = clf.fit_transform(X1,data_f1.Age)\n",
        "\n",
        "print('Label : Age')\n",
        "print('LDA features :', x1_reduced.shape)\n",
        "find_best_pca_n(X1)"
      ],
      "execution_count": null,
      "outputs": [
        {
          "output_type": "stream",
          "text": [
            "Label : Age\n",
            "LDA features : (2242, 46)\n",
            "PCA : Optimum Feature number is 34\n",
            "\n"
          ],
          "name": "stdout"
        }
      ]
    },
    {
      "cell_type": "markdown",
      "metadata": {
        "id": "cqCMqm1wb76i"
      },
      "source": [
        "## F2"
      ]
    },
    {
      "cell_type": "markdown",
      "metadata": {
        "id": "w4X-fXkXb_iG"
      },
      "source": [
        "### Linear imporatnce"
      ]
    },
    {
      "cell_type": "code",
      "metadata": {
        "colab": {
          "base_uri": "https://localhost:8080/"
        },
        "id": "WJISUqY2b-0C",
        "outputId": "5018c711-c4ea-4dab-cb6d-4221d97c74aa"
      },
      "source": [
        "X2 = make_dataset(data_f2.drop(columns=['Age','Gender','Status']),'f2')\n",
        "x2_reduced = get_feature_importance(X2,data_f2.Status)\n",
        "print(x2_reduced[x2_reduced>importance])\n",
        "print(\"Label : Status\")\n",
        "print(\"number of all features: \", X2.shape[1])\n",
        "print(\"number of selected features : \", x2_reduced[x2_reduced>importance].shape[0])"
      ],
      "execution_count": null,
      "outputs": [
        {
          "output_type": "stream",
          "text": [
            "19       42.771318\n",
            "99       45.772786\n",
            "118      49.705941\n",
            "235      42.501695\n",
            "279      47.356652\n",
            "281      57.414064\n",
            "296      40.589908\n",
            "435      45.478049\n",
            "479      54.740663\n",
            "487      96.201562\n",
            "494      40.651712\n",
            "525      79.901843\n",
            "611      43.278133\n",
            "647      53.906825\n",
            "655      40.773030\n",
            "680      40.932826\n",
            "733      40.633748\n",
            "765      60.076580\n",
            "894      70.009682\n",
            "937      74.221837\n",
            "1019     42.767756\n",
            "1045     51.106328\n",
            "1206     42.786445\n",
            "1246     41.888191\n",
            "1272    100.000000\n",
            "Name: importance_normalized, dtype: float64\n",
            "Label : Status\n",
            "number of all features:  1536\n",
            "number of selected features :  25\n"
          ],
          "name": "stdout"
        }
      ]
    },
    {
      "cell_type": "code",
      "metadata": {
        "colab": {
          "base_uri": "https://localhost:8080/"
        },
        "id": "RRt8ZAUCb7Mr",
        "outputId": "b01c7b77-788f-41d5-be10-8b72a4d29f9c"
      },
      "source": [
        "X2 = make_dataset(data_f2.drop(columns=['Age','Gender','Status']),'f2')\n",
        "x2_reduced = get_feature_importance(X2,data_f2.Gender)\n",
        "print(x2_reduced[x2_reduced>importance])\n",
        "print(\"Label : Gender\")\n",
        "print(\"number of all features: \", X2.shape[1])\n",
        "print(\"number of selected features : \", x2_reduced[x2_reduced>importance].shape[0])"
      ],
      "execution_count": null,
      "outputs": [
        {
          "output_type": "stream",
          "text": [
            "9        43.107276\n",
            "118      43.143900\n",
            "130      40.428187\n",
            "172      47.068188\n",
            "208      40.089903\n",
            "209      42.544183\n",
            "236      40.411353\n",
            "310      45.731388\n",
            "345      53.999840\n",
            "395      91.210761\n",
            "415      63.129689\n",
            "464      56.274301\n",
            "494      66.335289\n",
            "506      44.493626\n",
            "579      46.555035\n",
            "647      41.949976\n",
            "662      50.069940\n",
            "682      49.212857\n",
            "808      70.137080\n",
            "809      48.032532\n",
            "850      48.406977\n",
            "852      43.694273\n",
            "855     100.000000\n",
            "869      44.616266\n",
            "958      55.189305\n",
            "1017     41.488404\n",
            "1045     53.792421\n",
            "1053     57.800565\n",
            "1097     73.582526\n",
            "1163     41.211611\n",
            "1164     58.164578\n",
            "1206     54.938813\n",
            "1320     93.167294\n",
            "1398     53.620148\n",
            "Name: importance_normalized, dtype: float64\n",
            "Label : Gender\n",
            "number of all features:  1536\n",
            "number of selected features :  34\n"
          ],
          "name": "stdout"
        }
      ]
    },
    {
      "cell_type": "code",
      "metadata": {
        "colab": {
          "base_uri": "https://localhost:8080/"
        },
        "id": "9KHT6tJ1ce2Y",
        "outputId": "b0cf3b3a-d55f-4bae-d175-30cffa44ce34"
      },
      "source": [
        "X2 = make_dataset(data_f2.drop(columns=['Age','Gender','Status']),'f2')\n",
        "x2_reduced = get_feature_importance(X2,data_f2.Age)\n",
        "print(x2_reduced[x2_reduced>importance])\n",
        "print(\"Label : Age\")\n",
        "print(\"number of all features: \", X2.shape[1])\n",
        "print(\"number of selected features : \", x2_reduced[x2_reduced>importance].shape[0])"
      ],
      "execution_count": null,
      "outputs": [
        {
          "output_type": "stream",
          "text": [
            "19       47.624608\n",
            "28       40.749263\n",
            "73       52.560624\n",
            "98       64.329901\n",
            "130      78.443200\n",
            "212      47.297545\n",
            "279      62.828294\n",
            "345      53.989500\n",
            "395      57.990453\n",
            "427      44.928349\n",
            "482      58.983685\n",
            "486      43.210920\n",
            "494      52.616096\n",
            "505      40.173026\n",
            "506      56.545210\n",
            "508      41.351704\n",
            "518      65.349953\n",
            "588      96.826420\n",
            "623      64.237580\n",
            "629      61.284301\n",
            "636      48.366569\n",
            "647      80.707749\n",
            "655      56.833210\n",
            "749      43.902808\n",
            "765      46.978851\n",
            "788      51.015536\n",
            "824      59.244772\n",
            "850      43.992198\n",
            "863      53.281752\n",
            "872      62.339834\n",
            "890      62.334366\n",
            "951      41.312186\n",
            "1034     47.172461\n",
            "1053     46.121717\n",
            "1077     50.814073\n",
            "1150     42.873956\n",
            "1152     40.138196\n",
            "1189    100.000000\n",
            "1206     45.513065\n",
            "1250     54.774162\n",
            "1272     73.389774\n",
            "1279     49.958768\n",
            "1286     54.803167\n",
            "1320     48.229315\n",
            "1359     64.468089\n",
            "1424     72.157790\n",
            "1483     41.367267\n",
            "1500     68.246939\n",
            "Name: importance_normalized, dtype: float64\n",
            "Label : Age\n",
            "number of all features:  1536\n",
            "number of selected features :  48\n"
          ],
          "name": "stdout"
        }
      ]
    },
    {
      "cell_type": "markdown",
      "metadata": {
        "id": "uIiveS8gcPIz"
      },
      "source": [
        "### Mutual Information"
      ]
    },
    {
      "cell_type": "code",
      "metadata": {
        "colab": {
          "base_uri": "https://localhost:8080/"
        },
        "id": "Xj8vsfUZclgb",
        "outputId": "d46ed99e-a08b-4203-a2fe-e8c4e20ddba7"
      },
      "source": [
        "X2 = make_dataset(data_f2.drop(columns=['Age','Gender','Status']),'f2')\n",
        "gains = feature_importance_mutual(X2,data_f2.Status)\n",
        "print(list(gains))\n",
        "my_dict = {i:list(gains).count(i) for i in list(gains)}\n",
        "my_dict"
      ],
      "execution_count": null,
      "outputs": [
        {
          "output_type": "stream",
          "text": [
            "[1.031, 1.031, 1.031, 1.031, 1.031, 1.031, 1.031, 1.031, 1.031, 1.031, 1.031, 1.031, 1.031, 1.031, 1.031, 1.031, 1.031, 1.031, 1.031, 1.031, 1.031, 1.031, 1.031, 1.031, 1.031, 1.031, 1.031, 1.031, 1.031, 1.031, 1.031, 1.031, 1.031, 1.031, 1.031, 1.031, 1.031, 1.031, 1.031, 1.031, 1.031, 1.031, 1.031, 1.031, 1.031, 1.031, 1.031, 1.031, 1.031, 1.031, 1.031, 1.031, 1.031, 1.031, 1.031, 1.031, 1.031, 1.031, 1.031, 1.031, 1.031, 1.031, 1.031, 1.031, 1.031, 1.031, 1.031, 1.031, 1.031, 1.031, 1.031, 1.031, 1.031, 1.031, 1.031, 1.031, 1.031, 1.031, 1.031, 1.031, 1.031, 1.031, 1.031, 1.031, 1.031, 1.031, 1.031, 1.031, 1.031, 1.031, 1.031, 1.031, 1.031, 1.031, 1.031, 1.031, 1.031, 1.031, 1.031, 1.031, 1.031, 1.031, 1.031, 1.031, 1.031, 1.031, 1.031, 1.031, 1.031, 1.031, 1.031, 1.031, 1.031, 1.031, 1.031, 1.031, 1.031, 1.031, 1.031, 1.031, 1.031, 1.031, 1.031, 1.031, 1.031, 1.031, 1.031, 1.031, 1.031, 1.031, 1.031, 1.031, 1.031, 1.031, 1.031, 1.031, 1.031, 1.031, 1.031, 1.031, 1.031, 1.031, 1.031, 1.031, 1.031, 1.031, 1.031, 1.031, 1.031, 1.031, 1.031, 1.031, 1.031, 1.031, 1.031, 1.031, 1.031, 1.031, 1.031, 1.031, 1.031, 1.031, 1.031, 1.031, 1.031, 1.031, 1.031, 1.031, 1.031, 1.031, 1.031, 1.031, 1.031, 1.031, 1.031, 1.031, 1.031, 1.031, 1.031, 1.031, 1.031, 1.031, 1.031, 1.031, 1.031, 1.031, 1.031, 1.031, 1.031, 1.031, 1.031, 1.031, 1.031, 1.031, 1.031, 1.031, 1.031, 1.031, 1.031, 1.031, 1.031, 1.031, 1.031, 1.031, 1.031, 1.031, 1.031, 1.031, 1.031, 1.031, 1.031, 1.031, 1.031, 1.031, 1.031, 1.031, 1.031, 1.031, 1.031, 1.031, 1.031, 1.031, 1.031, 1.031, 1.031, 1.031, 1.031, 1.031, 1.031, 1.031, 1.031, 1.031, 1.031, 1.031, 1.031, 1.031, 1.031, 1.031, 1.031, 1.031, 1.031, 1.031, 1.031, 1.031, 1.031, 1.031, 1.031, 1.031, 1.031, 1.031, 1.031, 1.031, 1.031, 1.031, 1.031, 1.031, 1.031, 1.031, 1.031, 1.031, 1.031, 1.031, 1.031, 1.031, 1.031, 1.031, 1.031, 1.031, 1.031, 1.031, 1.031, 1.031, 1.031, 1.031, 1.031, 1.031, 1.031, 1.031, 1.031, 1.031, 1.031, 1.031, 1.031, 1.031, 1.031, 1.031, 1.031, 1.031, 1.03, 1.031, 1.031, 1.03, 1.031, 1.031, 1.031, 1.031, 1.031, 1.031, 1.031, 1.031, 1.031, 1.031, 1.031, 1.031, 1.031, 1.031, 1.031, 1.031, 1.031, 1.031, 1.031, 1.031, 1.031, 1.031, 1.031, 1.031, 1.031, 1.031, 1.031, 1.031, 1.031, 1.031, 1.031, 1.031, 1.031, 1.031, 1.031, 1.031, 1.031, 1.031, 1.031, 1.031, 1.031, 1.031, 1.031, 1.031, 1.031, 1.031, 1.031, 1.031, 1.031, 1.031, 1.031, 1.031, 1.031, 1.031, 1.031, 1.031, 1.031, 1.031, 1.031, 1.031, 1.031, 1.031, 1.031, 1.031, 1.031, 1.031, 1.031, 1.031, 1.031, 1.031, 1.031, 1.031, 1.031, 1.031, 1.031, 1.031, 1.031, 1.031, 1.031, 1.031, 1.031, 1.031, 1.031, 1.031, 1.031, 1.031, 1.031, 1.031, 1.031, 1.031, 1.031, 1.031, 1.031, 1.031, 1.031, 1.031, 1.031, 1.031, 1.031, 1.031, 1.031, 1.031, 1.031, 1.031, 1.031, 1.031, 1.031, 1.031, 1.031, 1.031, 1.031, 1.031, 1.031, 1.031, 1.031, 1.031, 1.031, 1.031, 1.031, 1.031, 1.031, 1.031, 1.031, 1.031, 1.031, 1.031, 1.031, 1.031, 1.031, 1.031, 1.031, 1.031, 1.031, 1.031, 1.031, 1.031, 1.031, 1.031, 1.031, 1.031, 1.031, 1.031, 1.031, 1.031, 1.031, 1.031, 1.031, 1.031, 1.031, 1.031, 1.031, 1.031, 1.031, 1.031, 1.031, 1.031, 1.031, 1.031, 1.031, 1.031, 1.031, 1.031, 1.031, 1.031, 1.031, 1.031, 1.031, 1.031, 1.031, 1.031, 1.031, 1.031, 1.031, 1.031, 1.031, 1.031, 1.031, 1.031, 1.031, 1.031, 1.031, 1.031, 1.031, 1.031, 1.031, 1.031, 1.031, 1.031, 1.031, 1.031, 1.031, 1.031, 1.031, 1.031, 1.031, 1.031, 1.031, 1.031, 1.031, 1.031, 1.031, 1.031, 1.031, 1.031, 1.031, 1.031, 1.031, 1.031, 1.031, 1.031, 1.031, 1.031, 1.031, 1.031, 1.031, 1.031, 1.031, 1.031, 1.031, 1.031, 1.031, 1.031, 1.031, 1.031, 1.031, 1.031, 1.031, 1.031, 1.031, 1.031, 1.031, 1.031, 1.031, 1.031, 1.031, 1.031, 1.031, 1.031, 1.031, 1.031, 1.031, 1.031, 1.031, 1.031, 1.031, 1.031, 1.031, 1.031, 1.031, 1.031, 1.031, 1.031, 1.031, 1.031, 1.031, 1.031, 1.031, 1.031, 1.031, 1.031, 1.031, 1.031, 1.031, 1.031, 1.031, 1.031, 1.031, 1.031, 1.031, 1.031, 1.031, 1.031, 1.031, 1.031, 1.031, 1.031, 1.031, 1.031, 1.031, 1.031, 1.031, 1.031, 1.031, 1.031, 1.031, 1.031, 1.031, 1.031, 1.031, 1.031, 1.031, 1.031, 1.031, 1.031, 1.031, 1.031, 1.031, 1.031, 1.031, 1.031, 1.031, 1.031, 1.031, 1.031, 1.031, 1.031, 1.031, 1.031, 1.031, 1.031, 1.031, 1.031, 1.031, 1.031, 1.031, 1.031, 1.031, 1.031, 1.031, 1.031, 1.031, 1.031, 1.031, 1.031, 1.031, 1.031, 1.031, 1.031, 1.031, 1.031, 1.031, 1.031, 1.031, 1.031, 1.031, 1.031, 1.031, 1.031, 1.031, 1.031, 1.031, 1.031, 1.031, 1.031, 1.031, 1.031, 1.031, 1.031, 1.031, 1.031, 1.031, 1.031, 1.031, 1.031, 1.031, 1.031, 1.031, 1.031, 1.031, 1.031, 1.031, 1.031, 1.031, 1.031, 1.031, 1.031, 1.031, 1.031, 1.031, 1.031, 1.031, 1.031, 1.031, 1.031, 1.031, 1.031, 1.031, 1.031, 1.031, 1.031, 1.031, 1.031, 1.031, 1.031, 1.031, 1.031, 1.031, 1.031, 1.031, 1.031, 1.031, 1.031, 1.031, 1.031, 1.031, 1.031, 1.031, 1.031, 1.031, 1.031, 1.031, 1.031, 1.031, 1.031, 1.031, 1.031, 1.031, 1.031, 1.031, 1.031, 1.031, 1.031, 1.031, 1.031, 1.031, 1.031, 1.031, 1.031, 1.031, 1.031, 1.031, 1.031, 1.031, 1.031, 1.031, 1.031, 1.031, 1.031, 1.031, 1.031, 1.031, 1.031, 1.031, 1.031, 1.031, 1.031, 1.031, 1.031, 1.031, 1.031, 1.031, 1.031, 1.031, 1.031, 1.031, 1.031, 1.031, 1.031, 1.031, 1.031, 1.031, 1.031, 1.031, 1.031, 1.031, 1.031, 1.031, 1.031, 1.031, 1.031, 1.031, 1.031, 1.031, 1.031, 1.031, 1.031, 1.031, 1.031, 1.031, 1.031, 1.031, 1.031, 1.031, 1.031, 1.031, 1.031, 1.031, 1.031, 1.031, 1.031, 1.031, 1.031, 1.031, 1.031, 1.031, 1.031, 1.031, 1.031, 1.031, 1.031, 1.031, 1.03, 1.031, 1.031, 1.031, 1.031, 1.031, 1.031, 1.031, 1.031, 1.031, 1.031, 1.031, 1.031, 1.031, 1.031, 1.031, 1.031, 1.031, 1.031, 1.031, 1.031, 1.031, 1.031, 1.031, 1.031, 1.031, 1.031, 1.031, 1.031, 1.031, 1.031, 1.031, 1.031, 1.031, 1.031, 1.031, 1.031, 1.031, 1.031, 1.031, 1.031, 1.031, 1.031, 1.031, 1.031, 1.031, 1.031, 1.031, 1.031, 1.031, 1.031, 1.031, 1.031, 1.031, 1.031, 1.031, 1.031, 1.031, 1.031, 1.031, 1.031, 1.031, 1.031, 1.031, 1.031, 1.031, 1.031, 1.031, 1.031, 1.031, 1.031, 1.031, 1.031, 1.031, 1.031, 1.031, 1.031, 1.031, 1.031, 1.031, 1.031, 1.031, 1.031, 1.031, 1.031, 1.031, 1.031, 1.031, 1.031, 1.031, 1.031, 1.031, 1.031, 1.031, 1.031, 1.031, 1.031, 1.031, 1.031, 1.031, 1.031, 1.031, 1.031, 1.031, 1.031, 1.031, 1.031, 1.031, 1.031, 1.031, 1.031, 1.031, 1.031, 1.031, 1.031, 1.031, 1.031, 1.031, 1.031, 1.031, 1.031, 1.031, 1.031, 1.031, 1.031, 1.031, 1.031, 1.031, 1.031, 1.031, 1.031, 1.031, 1.031, 1.031, 1.031, 1.031, 1.031, 1.031, 1.031, 1.031, 1.031, 1.031, 1.031, 1.031, 1.031, 1.031, 1.031, 1.031, 1.031, 1.031, 1.031, 1.031, 1.031, 1.031, 1.031, 1.031, 1.031, 1.031, 1.031, 1.031, 1.031, 1.031, 1.031, 1.031, 1.031, 1.031, 1.031, 1.031, 1.031, 1.031, 1.031, 1.031, 1.031, 1.031, 1.031, 1.031, 1.031, 1.031, 1.031, 1.031, 1.031, 1.031, 1.031, 1.031, 1.031, 1.031, 1.031, 1.031, 1.031, 1.031, 1.031, 1.031, 1.031, 1.031, 1.031, 1.031, 1.031, 1.031, 1.031, 1.031, 1.031, 1.031, 1.031, 1.031, 1.031, 1.031, 1.031, 1.031, 1.031, 1.031, 1.031, 1.031, 1.031, 1.031, 1.031, 1.031, 1.031, 1.031, 1.031, 1.031, 1.031, 1.031, 1.031, 1.031, 1.031, 1.031, 1.031, 1.031, 1.031, 1.031, 1.031, 1.031, 1.031, 1.031, 1.031, 1.031, 1.031, 1.031, 1.031, 1.031, 1.031, 1.031, 1.031, 1.031, 1.031, 1.031, 1.031, 1.031, 1.031, 1.031, 1.031, 1.031, 1.031, 1.031, 1.031, 1.031, 1.031, 1.031, 1.031, 1.031, 1.031, 1.031, 1.031, 1.031, 1.031, 1.031, 1.031, 1.031, 1.031, 1.031, 1.031, 1.031, 1.031, 1.031, 1.031, 1.031, 1.031, 1.031, 1.031, 1.031, 1.031, 1.031, 1.031, 1.031, 1.031, 1.031, 1.031, 1.031, 1.031, 1.031, 1.031, 1.031, 1.031, 1.031, 1.031, 1.031, 1.031, 1.031, 1.031, 1.031, 1.031, 1.031, 1.031, 1.031, 1.031, 1.031, 1.031, 1.031, 1.031, 1.031, 1.031, 1.031, 1.031, 1.031, 1.031, 1.031, 1.031, 1.031, 1.031, 1.031, 1.031, 1.031, 1.031, 1.031, 1.031, 1.031, 1.031, 1.031, 1.031, 1.031, 1.031, 1.031, 1.031, 1.031, 1.031, 1.031, 1.031, 1.031, 1.031, 1.031, 1.031, 1.031, 1.031, 1.031, 1.031, 1.031, 1.031, 1.031, 1.031, 1.031, 1.031, 1.031, 1.031, 1.031, 1.031, 1.031, 1.031, 1.031, 1.031, 1.031, 1.031, 1.031, 1.031, 1.031, 1.031, 1.031, 1.031, 1.031, 1.031, 1.031, 1.031, 1.031, 1.031, 1.031, 1.03, 1.031, 1.031, 1.031, 1.031, 1.031, 1.031, 1.031, 1.031, 1.031, 1.031, 1.031, 1.031, 1.031, 1.031, 1.031, 1.031, 1.031, 1.031, 1.031, 1.031, 1.031, 1.031, 1.031, 1.031, 1.031, 1.031, 1.031, 1.031, 1.031, 1.031, 1.031, 1.031, 1.031, 1.031, 1.031, 1.031, 1.031, 1.031, 1.031, 1.031, 1.031, 1.031, 1.031, 1.031, 1.031, 1.031, 1.031, 1.031, 1.031, 1.031, 1.031, 1.031, 1.031, 1.031, 1.031, 1.031, 1.031, 1.031, 1.031, 1.031, 1.031, 1.031, 1.031, 1.031, 1.031, 1.031, 1.031, 1.031, 1.031, 1.031, 1.031, 1.031, 1.031, 1.031, 1.031, 1.031, 1.031, 1.031, 1.031, 1.031, 1.031, 1.031, 1.031, 1.031, 1.031, 1.031, 1.031, 1.031, 1.031, 1.031, 1.031, 1.031, 1.031, 1.031, 1.031, 1.031, 1.031, 1.031, 1.031, 1.031, 1.031, 1.031, 1.031, 1.031, 1.031, 1.031, 1.031, 1.031, 1.031, 1.031, 1.031, 1.031, 1.031, 1.031, 1.031, 1.031, 1.031, 1.031, 1.031, 1.031, 1.031, 1.031, 1.031, 1.031, 1.031, 1.031, 1.031, 1.031, 1.031, 1.031, 1.031, 1.031, 1.031, 1.031, 1.031, 1.031, 1.031, 1.031, 1.031, 1.031, 1.031, 1.03, 1.031, 1.031, 1.031, 1.031, 1.031, 1.031, 1.031, 1.031, 1.031, 1.031, 1.031, 1.031, 1.031, 1.031, 1.031, 1.031, 1.031, 1.031, 1.031, 1.031, 1.031, 1.031, 1.031, 1.031, 1.031, 1.031, 1.031, 1.031, 1.031, 1.031, 1.031, 1.031, 1.031, 1.031, 1.031, 1.031, 1.031, 1.031, 1.031, 1.031, 1.031, 1.031, 1.031, 1.031, 1.031, 1.031, 1.031, 1.031, 1.031, 1.031, 1.031, 1.031, 1.031, 1.031, 1.031, 1.031, 1.031, 1.031, 1.031, 1.031, 1.031, 1.031, 1.031, 1.031, 1.031, 1.031, 1.031, 1.031, 1.031, 1.031, 1.031, 1.031, 1.031, 1.031, 1.031, 1.031, 1.031, 1.031, 1.031, 1.031, 1.031, 1.031, 1.031, 1.031, 1.031, 1.031, 1.031, 1.031, 1.031, 1.031, 1.031, 1.031, 1.031, 1.031, 1.031, 1.031, 1.03, 1.031, 1.031, 1.031, 1.031, 1.031, 1.031, 1.031, 1.031, 1.031, 1.031, 1.031, 1.031, 1.031, 1.031, 1.031, 1.031, 1.031, 1.031, 1.031, 1.031, 1.031, 1.031, 1.031, 1.031, 1.031, 1.031, 1.031, 1.031, 1.031, 1.031, 1.031, 1.031, 1.031, 1.031, 1.031, 1.031, 1.031, 1.031, 1.031, 1.031, 1.031, 1.031, 1.031, 1.031, 1.031, 1.031, 1.031, 1.031, 1.031, 1.031, 1.031, 1.031, 1.031, 1.031, 1.031, 1.031, 1.031, 1.031, 1.031, 1.031, 1.031, 1.031, 1.031, 1.031, 1.031, 1.031, 1.031, 1.031, 1.031, 1.031, 1.031, 1.031, 1.031, 1.031, 1.031, 1.031, 1.031, 1.031, 1.031, 1.031, 1.031, 1.031, 1.031, 1.031, 1.031, 1.031, 1.031, 1.031, 1.031, 1.031, 1.031, 1.031, 1.031, 1.031, 1.031, 1.031, 1.031, 1.031, 1.031, 1.031, 1.031, 1.031, 1.031, 1.031, 1.031, 1.031, 1.031, 1.031, 1.031, 1.031, 1.031, 1.031, 1.031, 1.031, 1.031, 1.031, 1.031, 1.031, 1.031, 1.031, 1.031, 1.031, 1.031, 1.031, 1.031, 1.031, 1.031, 1.031, 1.031, 1.031, 1.031, 1.031, 1.031, 1.031, 1.031, 1.031, 1.031, 1.031, 1.031]\n"
          ],
          "name": "stdout"
        },
        {
          "output_type": "execute_result",
          "data": {
            "text/plain": [
              "{1.03: 6, 1.031: 1530}"
            ]
          },
          "metadata": {
            "tags": []
          },
          "execution_count": 174
        }
      ]
    },
    {
      "cell_type": "code",
      "metadata": {
        "colab": {
          "base_uri": "https://localhost:8080/"
        },
        "id": "G8NHhTiqcuq8",
        "outputId": "b366713f-bdf6-40fd-93ca-0a3ca29e0716"
      },
      "source": [
        "X2 = make_dataset(data_f2.drop(columns=['Age','Gender','Status']),'f2')\n",
        "gains = feature_importance_mutual(X2,data_f2.Gender)\n",
        "print(list(gains))\n",
        "my_dict = {i:list(gains).count(i) for i in list(gains)}\n",
        "my_dict"
      ],
      "execution_count": null,
      "outputs": [
        {
          "output_type": "stream",
          "text": [
            "[0.619, 0.619, 0.619, 0.619, 0.619, 0.619, 0.619, 0.619, 0.619, 0.619, 0.619, 0.619, 0.619, 0.619, 0.619, 0.619, 0.619, 0.619, 0.619, 0.619, 0.619, 0.619, 0.619, 0.619, 0.619, 0.619, 0.619, 0.619, 0.619, 0.619, 0.619, 0.619, 0.619, 0.619, 0.619, 0.619, 0.619, 0.619, 0.619, 0.619, 0.619, 0.619, 0.619, 0.619, 0.619, 0.619, 0.619, 0.619, 0.619, 0.619, 0.619, 0.619, 0.619, 0.619, 0.619, 0.619, 0.619, 0.619, 0.619, 0.619, 0.619, 0.619, 0.619, 0.619, 0.619, 0.619, 0.619, 0.619, 0.619, 0.619, 0.619, 0.619, 0.619, 0.619, 0.619, 0.619, 0.619, 0.619, 0.619, 0.619, 0.619, 0.619, 0.619, 0.619, 0.619, 0.619, 0.619, 0.619, 0.619, 0.619, 0.618, 0.619, 0.619, 0.619, 0.619, 0.619, 0.619, 0.619, 0.619, 0.619, 0.619, 0.619, 0.619, 0.619, 0.619, 0.619, 0.619, 0.619, 0.619, 0.619, 0.619, 0.619, 0.619, 0.619, 0.619, 0.619, 0.619, 0.619, 0.619, 0.619, 0.619, 0.619, 0.619, 0.619, 0.619, 0.619, 0.619, 0.619, 0.619, 0.619, 0.619, 0.619, 0.619, 0.619, 0.619, 0.619, 0.619, 0.619, 0.619, 0.619, 0.619, 0.619, 0.619, 0.619, 0.619, 0.619, 0.619, 0.619, 0.619, 0.619, 0.619, 0.619, 0.619, 0.619, 0.619, 0.619, 0.619, 0.619, 0.618, 0.619, 0.619, 0.619, 0.619, 0.619, 0.619, 0.619, 0.619, 0.619, 0.619, 0.619, 0.619, 0.619, 0.619, 0.619, 0.619, 0.619, 0.619, 0.619, 0.619, 0.619, 0.619, 0.619, 0.619, 0.619, 0.619, 0.619, 0.619, 0.619, 0.619, 0.619, 0.619, 0.619, 0.619, 0.619, 0.619, 0.619, 0.619, 0.619, 0.619, 0.619, 0.619, 0.619, 0.619, 0.619, 0.619, 0.619, 0.619, 0.619, 0.619, 0.619, 0.619, 0.619, 0.619, 0.619, 0.619, 0.619, 0.619, 0.619, 0.619, 0.619, 0.619, 0.619, 0.619, 0.619, 0.619, 0.619, 0.619, 0.619, 0.619, 0.619, 0.619, 0.619, 0.619, 0.619, 0.619, 0.619, 0.619, 0.619, 0.619, 0.619, 0.619, 0.619, 0.619, 0.619, 0.619, 0.619, 0.619, 0.619, 0.619, 0.619, 0.619, 0.619, 0.619, 0.619, 0.619, 0.619, 0.619, 0.619, 0.619, 0.619, 0.619, 0.619, 0.619, 0.619, 0.619, 0.619, 0.619, 0.619, 0.619, 0.619, 0.619, 0.619, 0.619, 0.619, 0.619, 0.619, 0.619, 0.619, 0.619, 0.619, 0.619, 0.619, 0.619, 0.619, 0.619, 0.619, 0.619, 0.619, 0.619, 0.619, 0.619, 0.619, 0.619, 0.619, 0.619, 0.619, 0.619, 0.619, 0.619, 0.619, 0.619, 0.619, 0.619, 0.619, 0.619, 0.619, 0.619, 0.619, 0.619, 0.619, 0.619, 0.619, 0.619, 0.619, 0.619, 0.619, 0.619, 0.619, 0.619, 0.619, 0.619, 0.619, 0.619, 0.619, 0.619, 0.619, 0.619, 0.619, 0.619, 0.619, 0.619, 0.619, 0.619, 0.619, 0.619, 0.619, 0.619, 0.619, 0.619, 0.619, 0.619, 0.619, 0.619, 0.619, 0.619, 0.619, 0.619, 0.619, 0.619, 0.619, 0.619, 0.619, 0.619, 0.619, 0.619, 0.619, 0.619, 0.619, 0.619, 0.619, 0.619, 0.619, 0.619, 0.619, 0.619, 0.619, 0.619, 0.619, 0.619, 0.619, 0.619, 0.619, 0.619, 0.619, 0.619, 0.619, 0.619, 0.619, 0.619, 0.619, 0.619, 0.619, 0.619, 0.619, 0.619, 0.619, 0.619, 0.619, 0.619, 0.619, 0.619, 0.619, 0.619, 0.619, 0.619, 0.619, 0.619, 0.619, 0.619, 0.619, 0.619, 0.619, 0.619, 0.619, 0.619, 0.619, 0.619, 0.619, 0.619, 0.619, 0.619, 0.619, 0.619, 0.619, 0.619, 0.619, 0.619, 0.619, 0.619, 0.619, 0.619, 0.619, 0.619, 0.619, 0.619, 0.619, 0.619, 0.619, 0.619, 0.619, 0.619, 0.619, 0.619, 0.619, 0.619, 0.619, 0.619, 0.619, 0.619, 0.619, 0.619, 0.619, 0.619, 0.619, 0.619, 0.619, 0.619, 0.619, 0.619, 0.619, 0.619, 0.619, 0.619, 0.619, 0.619, 0.619, 0.619, 0.619, 0.619, 0.619, 0.619, 0.619, 0.619, 0.619, 0.619, 0.619, 0.619, 0.619, 0.619, 0.619, 0.619, 0.619, 0.619, 0.619, 0.619, 0.619, 0.619, 0.619, 0.619, 0.619, 0.619, 0.619, 0.619, 0.619, 0.619, 0.619, 0.619, 0.619, 0.619, 0.619, 0.619, 0.619, 0.619, 0.619, 0.619, 0.619, 0.619, 0.619, 0.619, 0.619, 0.619, 0.619, 0.619, 0.619, 0.619, 0.619, 0.619, 0.619, 0.619, 0.619, 0.619, 0.619, 0.619, 0.619, 0.619, 0.619, 0.619, 0.619, 0.619, 0.619, 0.619, 0.619, 0.619, 0.619, 0.619, 0.619, 0.619, 0.619, 0.619, 0.619, 0.619, 0.619, 0.619, 0.619, 0.619, 0.619, 0.619, 0.619, 0.619, 0.619, 0.619, 0.619, 0.619, 0.619, 0.619, 0.619, 0.619, 0.619, 0.619, 0.619, 0.619, 0.619, 0.619, 0.619, 0.619, 0.619, 0.619, 0.619, 0.619, 0.619, 0.619, 0.619, 0.619, 0.619, 0.619, 0.619, 0.619, 0.619, 0.619, 0.619, 0.619, 0.619, 0.619, 0.619, 0.619, 0.619, 0.619, 0.619, 0.619, 0.619, 0.619, 0.619, 0.619, 0.619, 0.619, 0.619, 0.619, 0.619, 0.619, 0.619, 0.619, 0.619, 0.619, 0.619, 0.619, 0.619, 0.619, 0.619, 0.619, 0.619, 0.619, 0.619, 0.619, 0.619, 0.619, 0.619, 0.619, 0.619, 0.619, 0.619, 0.619, 0.619, 0.619, 0.619, 0.619, 0.619, 0.619, 0.619, 0.619, 0.619, 0.619, 0.619, 0.619, 0.619, 0.619, 0.619, 0.619, 0.618, 0.619, 0.619, 0.619, 0.619, 0.619, 0.619, 0.619, 0.618, 0.619, 0.619, 0.619, 0.619, 0.619, 0.619, 0.619, 0.619, 0.619, 0.619, 0.619, 0.619, 0.619, 0.619, 0.619, 0.619, 0.619, 0.619, 0.619, 0.619, 0.619, 0.619, 0.619, 0.619, 0.619, 0.619, 0.619, 0.619, 0.619, 0.619, 0.619, 0.619, 0.619, 0.619, 0.619, 0.619, 0.619, 0.619, 0.619, 0.619, 0.619, 0.619, 0.619, 0.619, 0.619, 0.619, 0.619, 0.619, 0.619, 0.619, 0.619, 0.619, 0.619, 0.619, 0.619, 0.619, 0.619, 0.619, 0.619, 0.619, 0.619, 0.619, 0.619, 0.619, 0.619, 0.619, 0.619, 0.619, 0.619, 0.619, 0.619, 0.619, 0.619, 0.619, 0.619, 0.619, 0.619, 0.619, 0.619, 0.619, 0.619, 0.619, 0.619, 0.619, 0.619, 0.619, 0.619, 0.619, 0.619, 0.619, 0.619, 0.619, 0.619, 0.619, 0.619, 0.619, 0.619, 0.619, 0.619, 0.619, 0.619, 0.619, 0.619, 0.619, 0.619, 0.619, 0.619, 0.619, 0.619, 0.619, 0.619, 0.619, 0.619, 0.619, 0.619, 0.619, 0.619, 0.619, 0.619, 0.619, 0.619, 0.619, 0.619, 0.619, 0.619, 0.619, 0.619, 0.619, 0.619, 0.619, 0.619, 0.619, 0.619, 0.619, 0.619, 0.619, 0.619, 0.619, 0.619, 0.619, 0.619, 0.619, 0.619, 0.619, 0.619, 0.619, 0.619, 0.619, 0.619, 0.619, 0.619, 0.619, 0.619, 0.619, 0.619, 0.619, 0.619, 0.619, 0.619, 0.619, 0.619, 0.619, 0.619, 0.619, 0.619, 0.619, 0.619, 0.619, 0.619, 0.619, 0.619, 0.619, 0.619, 0.619, 0.619, 0.619, 0.619, 0.619, 0.619, 0.619, 0.619, 0.619, 0.619, 0.619, 0.619, 0.619, 0.619, 0.619, 0.619, 0.619, 0.619, 0.619, 0.619, 0.619, 0.619, 0.619, 0.619, 0.619, 0.619, 0.619, 0.619, 0.619, 0.619, 0.619, 0.619, 0.619, 0.619, 0.619, 0.619, 0.619, 0.619, 0.619, 0.619, 0.619, 0.619, 0.619, 0.619, 0.619, 0.619, 0.619, 0.619, 0.619, 0.619, 0.619, 0.619, 0.619, 0.619, 0.619, 0.619, 0.619, 0.619, 0.619, 0.619, 0.619, 0.619, 0.619, 0.619, 0.619, 0.619, 0.619, 0.619, 0.619, 0.619, 0.619, 0.619, 0.619, 0.619, 0.619, 0.619, 0.619, 0.619, 0.619, 0.619, 0.619, 0.619, 0.619, 0.619, 0.619, 0.619, 0.619, 0.619, 0.619, 0.619, 0.619, 0.619, 0.619, 0.619, 0.619, 0.619, 0.619, 0.619, 0.619, 0.619, 0.619, 0.619, 0.619, 0.619, 0.619, 0.619, 0.619, 0.619, 0.619, 0.619, 0.619, 0.619, 0.619, 0.619, 0.619, 0.619, 0.619, 0.619, 0.619, 0.619, 0.619, 0.619, 0.619, 0.619, 0.619, 0.619, 0.619, 0.619, 0.619, 0.619, 0.619, 0.619, 0.619, 0.619, 0.619, 0.619, 0.619, 0.619, 0.619, 0.619, 0.619, 0.619, 0.619, 0.619, 0.619, 0.619, 0.619, 0.619, 0.619, 0.619, 0.619, 0.619, 0.619, 0.619, 0.619, 0.619, 0.619, 0.619, 0.619, 0.619, 0.619, 0.619, 0.619, 0.619, 0.619, 0.619, 0.619, 0.619, 0.619, 0.619, 0.619, 0.619, 0.619, 0.619, 0.619, 0.619, 0.619, 0.619, 0.619, 0.619, 0.619, 0.619, 0.619, 0.619, 0.619, 0.619, 0.619, 0.619, 0.619, 0.619, 0.619, 0.619, 0.619, 0.619, 0.619, 0.619, 0.619, 0.619, 0.619, 0.619, 0.619, 0.619, 0.619, 0.619, 0.619, 0.619, 0.619, 0.619, 0.619, 0.619, 0.619, 0.619, 0.619, 0.619, 0.619, 0.619, 0.619, 0.619, 0.619, 0.619, 0.619, 0.619, 0.619, 0.619, 0.619, 0.619, 0.619, 0.619, 0.619, 0.619, 0.619, 0.619, 0.619, 0.619, 0.619, 0.619, 0.619, 0.619, 0.619, 0.619, 0.619, 0.619, 0.619, 0.619, 0.619, 0.619, 0.619, 0.619, 0.619, 0.619, 0.619, 0.619, 0.619, 0.619, 0.619, 0.619, 0.619, 0.619, 0.619, 0.619, 0.619, 0.619, 0.619, 0.619, 0.619, 0.619, 0.619, 0.619, 0.619, 0.619, 0.619, 0.619, 0.619, 0.619, 0.619, 0.619, 0.619, 0.619, 0.619, 0.619, 0.619, 0.619, 0.619, 0.619, 0.619, 0.619, 0.619, 0.619, 0.619, 0.619, 0.619, 0.619, 0.619, 0.619, 0.619, 0.619, 0.619, 0.619, 0.619, 0.619, 0.619, 0.619, 0.618, 0.619, 0.619, 0.619, 0.619, 0.619, 0.619, 0.619, 0.619, 0.619, 0.619, 0.619, 0.619, 0.619, 0.619, 0.619, 0.619, 0.619, 0.619, 0.619, 0.619, 0.619, 0.619, 0.619, 0.619, 0.619, 0.619, 0.619, 0.619, 0.619, 0.619, 0.619, 0.619, 0.619, 0.619, 0.619, 0.619, 0.619, 0.619, 0.619, 0.619, 0.619, 0.619, 0.619, 0.619, 0.619, 0.619, 0.619, 0.619, 0.619, 0.619, 0.619, 0.619, 0.619, 0.619, 0.619, 0.619, 0.619, 0.619, 0.619, 0.619, 0.619, 0.619, 0.619, 0.619, 0.619, 0.619, 0.619, 0.619, 0.619, 0.619, 0.619, 0.619, 0.619, 0.619, 0.619, 0.619, 0.619, 0.619, 0.619, 0.619, 0.619, 0.619, 0.619, 0.619, 0.619, 0.619, 0.619, 0.619, 0.619, 0.619, 0.619, 0.619, 0.619, 0.619, 0.619, 0.619, 0.619, 0.619, 0.619, 0.619, 0.619, 0.619, 0.619, 0.619, 0.619, 0.619, 0.619, 0.619, 0.619, 0.619, 0.619, 0.619, 0.619, 0.619, 0.619, 0.619, 0.619, 0.619, 0.619, 0.619, 0.619, 0.619, 0.619, 0.619, 0.619, 0.619, 0.619, 0.619, 0.619, 0.619, 0.619, 0.619, 0.619, 0.619, 0.619, 0.619, 0.619, 0.619, 0.619, 0.619, 0.619, 0.619, 0.619, 0.619, 0.619, 0.619, 0.619, 0.619, 0.619, 0.619, 0.619, 0.619, 0.619, 0.619, 0.619, 0.619, 0.619, 0.619, 0.619, 0.619, 0.619, 0.619, 0.619, 0.619, 0.619, 0.619, 0.619, 0.619, 0.619, 0.619, 0.619, 0.619, 0.619, 0.619, 0.619, 0.619, 0.619, 0.619, 0.619, 0.619, 0.619, 0.619, 0.619, 0.619, 0.619, 0.619, 0.619, 0.618, 0.619, 0.619, 0.619, 0.619, 0.619, 0.619, 0.619, 0.619, 0.619, 0.619, 0.619, 0.619, 0.619, 0.619, 0.619, 0.619, 0.619, 0.619, 0.619, 0.619, 0.619, 0.619, 0.619, 0.619, 0.619, 0.619, 0.619, 0.619, 0.619, 0.619, 0.619, 0.619, 0.619, 0.619, 0.619, 0.619, 0.619, 0.619, 0.619, 0.619, 0.619, 0.619, 0.619, 0.619, 0.619, 0.619, 0.619, 0.619, 0.619, 0.619, 0.619, 0.619, 0.619, 0.619, 0.619, 0.619, 0.619, 0.619, 0.619, 0.619, 0.619, 0.619, 0.619, 0.619, 0.619, 0.619, 0.619, 0.619, 0.619, 0.619, 0.619, 0.619, 0.619, 0.619, 0.619, 0.619, 0.619, 0.619, 0.619, 0.619, 0.619, 0.619, 0.619, 0.619, 0.619, 0.619, 0.619, 0.619, 0.619, 0.619, 0.619, 0.619, 0.619, 0.619, 0.619, 0.619, 0.618, 0.619, 0.619, 0.619, 0.619, 0.619, 0.619, 0.619, 0.619, 0.619, 0.619, 0.619, 0.619, 0.619, 0.619, 0.619, 0.619, 0.619, 0.619, 0.619, 0.619, 0.619, 0.619, 0.619, 0.619, 0.619, 0.619, 0.619, 0.619, 0.619, 0.619, 0.619, 0.619, 0.619, 0.619, 0.619, 0.619, 0.619, 0.619, 0.619, 0.619, 0.619, 0.619, 0.619, 0.619, 0.619, 0.619, 0.619, 0.619, 0.619, 0.618, 0.619, 0.619, 0.619, 0.619, 0.619, 0.619, 0.619, 0.619, 0.619, 0.619, 0.619, 0.619, 0.619, 0.619, 0.619, 0.619, 0.619, 0.619, 0.619, 0.619, 0.619, 0.619, 0.619, 0.619, 0.619, 0.619, 0.619, 0.619, 0.619, 0.619, 0.619, 0.619, 0.619, 0.619, 0.619, 0.619, 0.619, 0.619, 0.619, 0.619, 0.619, 0.619, 0.619, 0.619, 0.619, 0.619, 0.619, 0.619, 0.619, 0.619, 0.619, 0.619, 0.619, 0.619, 0.619, 0.619, 0.619, 0.619, 0.619, 0.619, 0.619, 0.619, 0.619, 0.619, 0.619, 0.619, 0.619, 0.619, 0.619, 0.619, 0.619, 0.619, 0.619, 0.619, 0.619, 0.619, 0.619, 0.619, 0.619, 0.619, 0.619, 0.619, 0.619, 0.619, 0.619, 0.619, 0.619, 0.619, 0.619]\n"
          ],
          "name": "stdout"
        },
        {
          "output_type": "execute_result",
          "data": {
            "text/plain": [
              "{0.618: 8, 0.619: 1528}"
            ]
          },
          "metadata": {
            "tags": []
          },
          "execution_count": 175
        }
      ]
    },
    {
      "cell_type": "code",
      "metadata": {
        "colab": {
          "base_uri": "https://localhost:8080/"
        },
        "id": "TagRibG8cww3",
        "outputId": "fd6dae95-88d8-40cc-9f3c-272f3ee115c3"
      },
      "source": [
        "X2 = make_dataset(data_f2.drop(columns=['Age','Gender','Status']),'f2')\n",
        "gains = feature_importance_mutual(X2,data_f2.Age)\n",
        "print(list(gains))\n",
        "my_dict = {i:list(gains).count(i) for i in list(gains)}\n",
        "my_dict"
      ],
      "execution_count": null,
      "outputs": [
        {
          "output_type": "stream",
          "text": [
            "[3.355, 3.355, 3.355, 3.355, 3.355, 3.355, 3.355, 3.355, 3.355, 3.355, 3.355, 3.355, 3.355, 3.355, 3.355, 3.355, 3.355, 3.355, 3.355, 3.355, 3.355, 3.355, 3.355, 3.355, 3.355, 3.355, 3.355, 3.355, 3.355, 3.355, 3.355, 3.355, 3.355, 3.355, 3.355, 3.355, 3.355, 3.355, 3.355, 3.355, 3.355, 3.355, 3.355, 3.355, 3.355, 3.355, 3.355, 3.355, 3.355, 3.355, 3.355, 3.355, 3.355, 3.355, 3.355, 3.355, 3.355, 3.355, 3.355, 3.355, 3.355, 3.355, 3.355, 3.355, 3.355, 3.355, 3.355, 3.355, 3.355, 3.355, 3.355, 3.355, 3.355, 3.355, 3.355, 3.355, 3.355, 3.355, 3.355, 3.355, 3.355, 3.355, 3.355, 3.355, 3.355, 3.355, 3.355, 3.355, 3.355, 3.355, 3.354, 3.355, 3.355, 3.355, 3.355, 3.355, 3.355, 3.355, 3.355, 3.355, 3.355, 3.355, 3.355, 3.355, 3.355, 3.355, 3.355, 3.355, 3.355, 3.355, 3.355, 3.355, 3.355, 3.355, 3.355, 3.355, 3.355, 3.355, 3.355, 3.355, 3.355, 3.355, 3.355, 3.355, 3.355, 3.355, 3.355, 3.355, 3.355, 3.355, 3.355, 3.355, 3.355, 3.355, 3.355, 3.355, 3.355, 3.355, 3.355, 3.355, 3.355, 3.355, 3.355, 3.355, 3.355, 3.355, 3.355, 3.355, 3.355, 3.355, 3.355, 3.355, 3.355, 3.355, 3.355, 3.355, 3.355, 3.355, 3.354, 3.355, 3.355, 3.355, 3.355, 3.355, 3.355, 3.355, 3.355, 3.355, 3.355, 3.355, 3.355, 3.355, 3.355, 3.355, 3.355, 3.355, 3.355, 3.355, 3.355, 3.355, 3.355, 3.355, 3.355, 3.355, 3.355, 3.355, 3.355, 3.355, 3.355, 3.355, 3.355, 3.355, 3.355, 3.355, 3.355, 3.355, 3.355, 3.355, 3.355, 3.355, 3.355, 3.355, 3.355, 3.355, 3.355, 3.355, 3.355, 3.355, 3.355, 3.355, 3.355, 3.355, 3.355, 3.355, 3.355, 3.355, 3.355, 3.355, 3.355, 3.355, 3.355, 3.355, 3.355, 3.355, 3.355, 3.355, 3.355, 3.355, 3.355, 3.355, 3.355, 3.355, 3.355, 3.355, 3.355, 3.355, 3.355, 3.355, 3.355, 3.355, 3.355, 3.355, 3.355, 3.355, 3.355, 3.355, 3.355, 3.355, 3.355, 3.355, 3.355, 3.355, 3.355, 3.355, 3.355, 3.355, 3.355, 3.355, 3.355, 3.355, 3.355, 3.355, 3.355, 3.355, 3.355, 3.355, 3.355, 3.355, 3.355, 3.355, 3.355, 3.355, 3.355, 3.355, 3.355, 3.355, 3.355, 3.355, 3.355, 3.355, 3.355, 3.355, 3.355, 3.355, 3.355, 3.355, 3.355, 3.355, 3.355, 3.355, 3.355, 3.354, 3.355, 3.355, 3.355, 3.355, 3.355, 3.355, 3.355, 3.355, 3.355, 3.355, 3.355, 3.355, 3.355, 3.355, 3.355, 3.355, 3.355, 3.355, 3.355, 3.355, 3.355, 3.355, 3.355, 3.355, 3.355, 3.355, 3.355, 3.355, 3.355, 3.355, 3.355, 3.355, 3.355, 3.355, 3.355, 3.355, 3.355, 3.355, 3.355, 3.355, 3.355, 3.355, 3.355, 3.355, 3.355, 3.355, 3.355, 3.355, 3.355, 3.355, 3.355, 3.355, 3.355, 3.355, 3.355, 3.355, 3.355, 3.355, 3.355, 3.355, 3.355, 3.355, 3.355, 3.355, 3.355, 3.355, 3.355, 3.355, 3.355, 3.355, 3.355, 3.355, 3.355, 3.355, 3.355, 3.355, 3.355, 3.355, 3.355, 3.355, 3.355, 3.355, 3.355, 3.355, 3.355, 3.355, 3.355, 3.355, 3.355, 3.355, 3.355, 3.355, 3.355, 3.355, 3.355, 3.355, 3.355, 3.355, 3.355, 3.355, 3.355, 3.355, 3.355, 3.355, 3.355, 3.355, 3.355, 3.355, 3.355, 3.355, 3.355, 3.355, 3.355, 3.355, 3.355, 3.355, 3.355, 3.355, 3.355, 3.355, 3.355, 3.354, 3.355, 3.355, 3.355, 3.355, 3.355, 3.355, 3.355, 3.355, 3.355, 3.355, 3.355, 3.355, 3.355, 3.355, 3.355, 3.355, 3.355, 3.355, 3.355, 3.355, 3.355, 3.355, 3.355, 3.355, 3.355, 3.355, 3.355, 3.355, 3.355, 3.355, 3.355, 3.355, 3.355, 3.355, 3.355, 3.355, 3.355, 3.355, 3.355, 3.355, 3.355, 3.355, 3.355, 3.355, 3.355, 3.355, 3.355, 3.355, 3.355, 3.355, 3.355, 3.355, 3.355, 3.355, 3.355, 3.355, 3.355, 3.355, 3.355, 3.355, 3.355, 3.355, 3.355, 3.355, 3.355, 3.355, 3.355, 3.355, 3.355, 3.355, 3.355, 3.355, 3.355, 3.355, 3.355, 3.355, 3.355, 3.355, 3.355, 3.355, 3.355, 3.355, 3.355, 3.355, 3.355, 3.355, 3.355, 3.355, 3.355, 3.355, 3.355, 3.355, 3.355, 3.355, 3.355, 3.355, 3.355, 3.355, 3.355, 3.355, 3.355, 3.355, 3.355, 3.355, 3.355, 3.355, 3.355, 3.355, 3.355, 3.355, 3.355, 3.355, 3.355, 3.355, 3.355, 3.355, 3.355, 3.355, 3.355, 3.355, 3.355, 3.355, 3.355, 3.355, 3.355, 3.355, 3.355, 3.355, 3.355, 3.355, 3.355, 3.355, 3.355, 3.355, 3.355, 3.355, 3.355, 3.355, 3.355, 3.355, 3.355, 3.355, 3.355, 3.355, 3.355, 3.355, 3.355, 3.355, 3.355, 3.355, 3.355, 3.355, 3.355, 3.355, 3.355, 3.355, 3.355, 3.355, 3.355, 3.355, 3.355, 3.355, 3.355, 3.355, 3.355, 3.355, 3.355, 3.355, 3.355, 3.355, 3.355, 3.355, 3.355, 3.355, 3.355, 3.355, 3.355, 3.355, 3.355, 3.355, 3.355, 3.355, 3.355, 3.355, 3.355, 3.355, 3.355, 3.355, 3.355, 3.355, 3.355, 3.355, 3.355, 3.355, 3.355, 3.355, 3.355, 3.355, 3.355, 3.355, 3.355, 3.355, 3.355, 3.355, 3.355, 3.355, 3.355, 3.355, 3.355, 3.355, 3.355, 3.355, 3.355, 3.354, 3.355, 3.355, 3.355, 3.355, 3.355, 3.355, 3.355, 3.355, 3.355, 3.355, 3.355, 3.355, 3.355, 3.355, 3.355, 3.355, 3.355, 3.355, 3.355, 3.355, 3.355, 3.355, 3.355, 3.355, 3.355, 3.355, 3.355, 3.355, 3.355, 3.355, 3.355, 3.355, 3.355, 3.355, 3.355, 3.355, 3.355, 3.355, 3.355, 3.355, 3.355, 3.355, 3.355, 3.355, 3.355, 3.355, 3.355, 3.355, 3.355, 3.355, 3.355, 3.355, 3.355, 3.355, 3.355, 3.355, 3.355, 3.355, 3.355, 3.355, 3.355, 3.355, 3.355, 3.355, 3.355, 3.355, 3.355, 3.355, 3.355, 3.355, 3.355, 3.355, 3.355, 3.355, 3.355, 3.355, 3.355, 3.355, 3.355, 3.355, 3.355, 3.355, 3.355, 3.355, 3.355, 3.355, 3.355, 3.355, 3.355, 3.355, 3.355, 3.355, 3.355, 3.355, 3.355, 3.355, 3.355, 3.355, 3.355, 3.355, 3.355, 3.355, 3.355, 3.355, 3.355, 3.355, 3.355, 3.355, 3.355, 3.355, 3.355, 3.355, 3.355, 3.355, 3.355, 3.355, 3.355, 3.355, 3.355, 3.355, 3.355, 3.355, 3.355, 3.355, 3.355, 3.355, 3.355, 3.355, 3.355, 3.355, 3.355, 3.355, 3.355, 3.355, 3.355, 3.355, 3.355, 3.355, 3.355, 3.355, 3.355, 3.355, 3.355, 3.355, 3.355, 3.355, 3.355, 3.355, 3.355, 3.355, 3.355, 3.355, 3.355, 3.355, 3.355, 3.354, 3.355, 3.355, 3.355, 3.355, 3.355, 3.355, 3.355, 3.355, 3.355, 3.355, 3.355, 3.355, 3.355, 3.355, 3.355, 3.355, 3.355, 3.355, 3.355, 3.355, 3.355, 3.355, 3.355, 3.355, 3.355, 3.355, 3.355, 3.355, 3.355, 3.355, 3.355, 3.355, 3.355, 3.355, 3.355, 3.355, 3.355, 3.355, 3.355, 3.355, 3.355, 3.355, 3.355, 3.355, 3.355, 3.355, 3.355, 3.355, 3.355, 3.355, 3.355, 3.355, 3.355, 3.355, 3.355, 3.355, 3.355, 3.355, 3.355, 3.355, 3.355, 3.355, 3.355, 3.355, 3.355, 3.355, 3.355, 3.355, 3.355, 3.355, 3.355, 3.355, 3.355, 3.355, 3.355, 3.355, 3.355, 3.355, 3.355, 3.355, 3.355, 3.355, 3.355, 3.354, 3.355, 3.355, 3.355, 3.355, 3.355, 3.355, 3.355, 3.355, 3.355, 3.355, 3.355, 3.355, 3.355, 3.355, 3.355, 3.355, 3.355, 3.355, 3.355, 3.355, 3.355, 3.355, 3.355, 3.355, 3.355, 3.355, 3.355, 3.355, 3.355, 3.355, 3.355, 3.355, 3.355, 3.355, 3.355, 3.355, 3.355, 3.355, 3.355, 3.355, 3.355, 3.355, 3.355, 3.355, 3.355, 3.355, 3.355, 3.355, 3.355, 3.355, 3.355, 3.355, 3.355, 3.355, 3.355, 3.355, 3.355, 3.355, 3.355, 3.355, 3.355, 3.355, 3.355, 3.355, 3.355, 3.355, 3.355, 3.355, 3.355, 3.355, 3.355, 3.355, 3.355, 3.355, 3.355, 3.355, 3.355, 3.355, 3.355, 3.355, 3.355, 3.355, 3.355, 3.355, 3.355, 3.355, 3.355, 3.355, 3.355, 3.355, 3.355, 3.355, 3.355, 3.355, 3.355, 3.355, 3.355, 3.355, 3.355, 3.355, 3.355, 3.355, 3.355, 3.355, 3.355, 3.355, 3.355, 3.355, 3.355, 3.355, 3.355, 3.355, 3.355, 3.355, 3.355, 3.355, 3.355, 3.355, 3.355, 3.355, 3.355, 3.355, 3.355, 3.355, 3.355, 3.355, 3.355, 3.355, 3.355, 3.355, 3.355, 3.355, 3.355, 3.355, 3.355, 3.355, 3.355, 3.355, 3.355, 3.355, 3.355, 3.355, 3.355, 3.355, 3.355, 3.355, 3.355, 3.355, 3.355, 3.355, 3.355, 3.355, 3.355, 3.355, 3.355, 3.355, 3.355, 3.355, 3.355, 3.355, 3.354, 3.355, 3.355, 3.355, 3.355, 3.355, 3.355, 3.355, 3.355, 3.355, 3.355, 3.355, 3.355, 3.355, 3.355, 3.355, 3.355, 3.355, 3.355, 3.355, 3.355, 3.355, 3.355, 3.355, 3.355, 3.355, 3.355, 3.355, 3.355, 3.355, 3.355, 3.355, 3.355, 3.355, 3.355, 3.355, 3.355, 3.355, 3.355, 3.355, 3.355, 3.355, 3.355, 3.354, 3.355, 3.355, 3.355, 3.355, 3.355, 3.355, 3.355, 3.355, 3.355, 3.355, 3.355, 3.355, 3.355, 3.355, 3.355, 3.355, 3.355, 3.355, 3.355, 3.355, 3.355, 3.355, 3.355, 3.355, 3.355, 3.355, 3.355, 3.355, 3.355, 3.355, 3.355, 3.355, 3.355, 3.355, 3.355, 3.355, 3.355, 3.355, 3.355, 3.354, 3.355, 3.355, 3.355, 3.355, 3.355, 3.355, 3.355, 3.355, 3.355, 3.355, 3.355, 3.355, 3.355, 3.355, 3.355, 3.355, 3.355, 3.355, 3.355, 3.355, 3.355, 3.355, 3.355, 3.355, 3.355, 3.355, 3.355, 3.355, 3.355, 3.355, 3.355, 3.355, 3.355, 3.355, 3.355, 3.355, 3.355, 3.355, 3.355, 3.355, 3.355, 3.355, 3.355, 3.355, 3.355, 3.354, 3.355, 3.355, 3.355, 3.355, 3.355, 3.355, 3.355, 3.355, 3.355, 3.355, 3.355, 3.355, 3.355, 3.355, 3.355, 3.355, 3.355, 3.355, 3.355, 3.355, 3.355, 3.355, 3.355, 3.355, 3.355, 3.355, 3.355, 3.355, 3.355, 3.355, 3.355, 3.355, 3.355, 3.355, 3.355, 3.355, 3.355, 3.355, 3.355, 3.355, 3.355, 3.355, 3.355, 3.355, 3.355, 3.355, 3.355, 3.355, 3.355, 3.355, 3.355, 3.355, 3.355, 3.355, 3.355, 3.355, 3.355, 3.355, 3.355, 3.355, 3.355, 3.355, 3.355, 3.355, 3.355, 3.355, 3.355, 3.355, 3.355, 3.354, 3.355, 3.355, 3.355, 3.355, 3.355, 3.355, 3.355, 3.355, 3.355, 3.355, 3.355, 3.355, 3.355, 3.355, 3.355, 3.355, 3.355, 3.355, 3.355, 3.355, 3.355, 3.355, 3.355, 3.355, 3.355, 3.355, 3.355, 3.355, 3.355, 3.355, 3.355, 3.355, 3.355, 3.355, 3.355, 3.355, 3.355, 3.355, 3.355, 3.355, 3.355, 3.355, 3.355, 3.355, 3.355, 3.355, 3.355, 3.355, 3.355, 3.355, 3.355, 3.355, 3.355, 3.355, 3.355, 3.355, 3.355, 3.355, 3.355, 3.355, 3.355, 3.355, 3.355, 3.355, 3.355, 3.355, 3.355, 3.355, 3.355, 3.355, 3.355, 3.354, 3.355, 3.355, 3.355, 3.355, 3.355, 3.355, 3.355, 3.355, 3.355, 3.355, 3.355, 3.355, 3.355, 3.355, 3.355, 3.355, 3.355, 3.355, 3.355, 3.355, 3.355, 3.355, 3.355, 3.355, 3.355, 3.355, 3.355, 3.355, 3.355, 3.355, 3.355, 3.355, 3.355, 3.355, 3.354, 3.355, 3.355, 3.355, 3.355, 3.355, 3.355, 3.355, 3.355, 3.355, 3.355, 3.355, 3.355, 3.355, 3.355, 3.355, 3.355, 3.355, 3.355, 3.355, 3.355, 3.355, 3.355, 3.355, 3.355, 3.355, 3.355, 3.355, 3.355, 3.355, 3.355, 3.355, 3.355, 3.355, 3.355, 3.355, 3.355, 3.355, 3.355, 3.355, 3.355, 3.355, 3.355, 3.355, 3.355, 3.355, 3.355, 3.355, 3.355, 3.355, 3.355, 3.355, 3.355, 3.355, 3.355, 3.355, 3.355, 3.355, 3.355, 3.355, 3.355, 3.355, 3.354, 3.355, 3.355, 3.355, 3.355, 3.355, 3.355, 3.355, 3.355, 3.355, 3.355, 3.355, 3.355, 3.355, 3.355, 3.355, 3.355, 3.355, 3.355, 3.355, 3.355, 3.355, 3.355, 3.355, 3.355, 3.355, 3.355, 3.355, 3.355, 3.355, 3.355, 3.355, 3.355, 3.355, 3.355, 3.355, 3.355, 3.355, 3.355, 3.355, 3.355, 3.355, 3.355, 3.355, 3.355, 3.355, 3.355, 3.355, 3.355, 3.355, 3.354, 3.355, 3.355, 3.355, 3.355, 3.355, 3.355, 3.355, 3.355, 3.355, 3.355, 3.355, 3.355, 3.355, 3.355, 3.355, 3.355, 3.355, 3.355, 3.355, 3.355, 3.355, 3.355, 3.355, 3.355, 3.355, 3.355, 3.355, 3.355, 3.355, 3.355, 3.355, 3.355, 3.355, 3.355, 3.355, 3.355, 3.355, 3.355, 3.355, 3.355, 3.355, 3.355, 3.355, 3.355, 3.355, 3.355, 3.355, 3.355, 3.355, 3.355, 3.355, 3.355, 3.355, 3.355, 3.355, 3.355, 3.355, 3.355, 3.355, 3.355, 3.355, 3.355, 3.355, 3.355, 3.355, 3.355, 3.355, 3.355, 3.355, 3.355, 3.355, 3.355, 3.355, 3.355, 3.355, 3.355, 3.355, 3.355, 3.355, 3.355, 3.355, 3.355, 3.355, 3.355, 3.355, 3.355, 3.355, 3.355, 3.355]\n"
          ],
          "name": "stdout"
        },
        {
          "output_type": "execute_result",
          "data": {
            "text/plain": [
              "{3.354: 16, 3.355: 1520}"
            ]
          },
          "metadata": {
            "tags": []
          },
          "execution_count": 176
        }
      ]
    },
    {
      "cell_type": "markdown",
      "metadata": {
        "id": "RKjR82Dwyfjc"
      },
      "source": [
        "### LDA - PCA"
      ]
    },
    {
      "cell_type": "code",
      "metadata": {
        "colab": {
          "base_uri": "https://localhost:8080/"
        },
        "id": "peNQzVsiyfjd",
        "outputId": "03a900a2-81ec-44de-b24e-83e22978ccdc"
      },
      "source": [
        "from sklearn.discriminant_analysis import LinearDiscriminantAnalysis\n",
        "from sklearn.decomposition import PCA\n",
        "\n",
        "X2 = make_dataset(data_f2.drop(columns=['Age','Gender','Status']),'f2')\n",
        "clf = LinearDiscriminantAnalysis()\n",
        "x2_reduced = clf.fit_transform(X2,data_f2.Status)\n",
        "\n",
        "print('Label : Status')\n",
        "print('LDA features :', x2_reduced.shape)\n",
        "find_best_pca_n(X2)"
      ],
      "execution_count": null,
      "outputs": [
        {
          "output_type": "stream",
          "text": [
            "Label : Status\n",
            "LDA features : (2283, 2)\n",
            "PCA : Optimum Feature number is 28\n",
            "\n"
          ],
          "name": "stdout"
        }
      ]
    },
    {
      "cell_type": "code",
      "metadata": {
        "colab": {
          "base_uri": "https://localhost:8080/"
        },
        "id": "Vahml4ft1D1l",
        "outputId": "41475bd2-8c99-4b49-fc4d-81a23a989204"
      },
      "source": [
        "X2 = make_dataset(data_f2.drop(columns=['Age','Gender','Status']),'f2')\n",
        "clf = LinearDiscriminantAnalysis()\n",
        "x2_reduced = clf.fit_transform(X2,data_f2.Age)\n",
        "\n",
        "print('Label : Age')\n",
        "print('LDA features :', x2_reduced.shape)\n",
        "find_best_pca_n(X2)"
      ],
      "execution_count": null,
      "outputs": [
        {
          "output_type": "stream",
          "text": [
            "Label : Age\n",
            "LDA features : (2283, 46)\n",
            "PCA : Optimum Feature number is 28\n",
            "\n"
          ],
          "name": "stdout"
        }
      ]
    },
    {
      "cell_type": "code",
      "metadata": {
        "colab": {
          "base_uri": "https://localhost:8080/"
        },
        "id": "YyCwW-Uw1ETm",
        "outputId": "a41d85ea-725a-44b9-8fea-bf59828df447"
      },
      "source": [
        "X2 = make_dataset(data_f2.drop(columns=['Age','Gender','Status']),'f2')\n",
        "clf = LinearDiscriminantAnalysis()\n",
        "x2_reduced = clf.fit_transform(X2,data_f2.Gender)\n",
        "\n",
        "print('Label : Gender')\n",
        "print('LDA features :', x2_reduced.shape)\n",
        "find_best_pca_n(X2)"
      ],
      "execution_count": null,
      "outputs": [
        {
          "output_type": "stream",
          "text": [
            "Label : Gender\n",
            "LDA features : (2283, 1)\n",
            "PCA : Optimum Feature number is 28\n",
            "\n"
          ],
          "name": "stdout"
        }
      ]
    },
    {
      "cell_type": "markdown",
      "metadata": {
        "id": "LfxnxcD6c80d"
      },
      "source": [
        "## F3"
      ]
    },
    {
      "cell_type": "markdown",
      "metadata": {
        "id": "7mfS9jR4dDdR"
      },
      "source": [
        "### Linear imporatnce"
      ]
    },
    {
      "cell_type": "code",
      "metadata": {
        "colab": {
          "base_uri": "https://localhost:8080/"
        },
        "id": "qBURqzYDdYxR",
        "outputId": "f8c8cb8f-86e9-43b3-93f8-2a6ae6c768a1"
      },
      "source": [
        "X3 = make_dataset(data_f3.drop(columns=['Age','Gender','Status']),'f3')\n",
        "x3_reduced = get_feature_importance(X3,data_f3.Age)\n",
        "print(x3_reduced[x3_reduced>importance])\n",
        "print(\"Label : Age\")\n",
        "print(\"number of all features: \", X3.shape[1])\n",
        "print(\"number of selected features : \", x3_reduced[x3_reduced>importance].shape[0])"
      ],
      "execution_count": null,
      "outputs": [
        {
          "output_type": "stream",
          "text": [
            "54       69.865301\n",
            "79       77.662362\n",
            "136      41.206079\n",
            "209      49.288022\n",
            "292      52.305740\n",
            "300      68.890913\n",
            "303      40.877035\n",
            "307      44.141173\n",
            "322      41.795982\n",
            "350      76.137983\n",
            "351      59.121589\n",
            "358      51.159178\n",
            "468      42.448353\n",
            "504      43.776041\n",
            "510      44.863409\n",
            "579      55.392225\n",
            "592      56.843318\n",
            "615      72.002524\n",
            "642      40.175018\n",
            "679      41.871385\n",
            "704      95.388409\n",
            "708      42.960507\n",
            "765      50.870214\n",
            "974      57.891202\n",
            "1045     58.878541\n",
            "1055     79.258467\n",
            "1094     68.681599\n",
            "1111     46.893010\n",
            "1187     44.352266\n",
            "1199     52.468725\n",
            "1245     50.329595\n",
            "1255     40.925838\n",
            "1303     47.760363\n",
            "1339     66.048928\n",
            "1351     75.421641\n",
            "1373     49.468344\n",
            "1501     90.008792\n",
            "1513     45.906132\n",
            "1548     51.490429\n",
            "1591     48.291423\n",
            "1716     42.990606\n",
            "1726     46.822229\n",
            "1832     43.428805\n",
            "1842     73.931803\n",
            "1850     43.292548\n",
            "1863     60.231462\n",
            "1894     79.044718\n",
            "1912    100.000000\n",
            "1921     56.549945\n",
            "1953     51.104189\n",
            "1958     83.264685\n",
            "1999     61.967709\n",
            "2055     44.044478\n",
            "2139     41.630027\n",
            "2205     44.455383\n",
            "2220     61.880104\n",
            "2229     65.235761\n",
            "2239     41.473822\n",
            "2241     49.059251\n",
            "Name: importance_normalized, dtype: float64\n",
            "Label : Age\n",
            "number of all features:  2304\n",
            "number of selected features :  59\n"
          ],
          "name": "stdout"
        }
      ]
    },
    {
      "cell_type": "code",
      "metadata": {
        "colab": {
          "base_uri": "https://localhost:8080/"
        },
        "id": "pBUJuE56dhjd",
        "outputId": "d129913f-aac5-43a8-878b-b29ebab63fd2"
      },
      "source": [
        "X3 = make_dataset(data_f3.drop(columns=['Age','Gender','Status']),'f3')\n",
        "x3_reduced = get_feature_importance(X3,data_f3.Gender)\n",
        "print(x3_reduced[x3_reduced>importance])\n",
        "print(\"Label : Gender\")\n",
        "print(\"number of all features: \", X3.shape[1])\n",
        "print(\"number of selected features : \", x3_reduced[x3_reduced>importance].shape[0])"
      ],
      "execution_count": null,
      "outputs": [
        {
          "output_type": "stream",
          "text": [
            "91       79.391024\n",
            "114      49.399559\n",
            "253      42.064377\n",
            "307      46.453180\n",
            "321      45.901497\n",
            "337      50.514899\n",
            "342      45.196420\n",
            "463      74.138048\n",
            "482      44.322751\n",
            "489      47.501237\n",
            "510      69.342125\n",
            "592      60.554105\n",
            "616      72.031024\n",
            "627      80.178028\n",
            "639      45.316166\n",
            "800      64.679179\n",
            "825      43.396843\n",
            "858      59.368678\n",
            "907      48.111347\n",
            "970      52.798432\n",
            "980      47.680880\n",
            "995      42.322096\n",
            "1039     54.336649\n",
            "1102     78.733079\n",
            "1187     46.764684\n",
            "1237     55.104565\n",
            "1247     67.701675\n",
            "1330     45.015784\n",
            "1339     43.646039\n",
            "1469     50.269603\n",
            "1511     43.829031\n",
            "1545     45.648616\n",
            "1554     46.534441\n",
            "1591     43.567140\n",
            "1615     53.745926\n",
            "1734     44.333219\n",
            "1806     43.207394\n",
            "1856     66.380817\n",
            "1882     49.562456\n",
            "2116     75.470051\n",
            "2139     75.504331\n",
            "2157     46.525157\n",
            "2181     61.512471\n",
            "2204     64.390094\n",
            "2215    100.000000\n",
            "2293     57.747588\n",
            "Name: importance_normalized, dtype: float64\n",
            "Label : Gender\n",
            "number of all features:  2304\n",
            "number of selected features :  46\n"
          ],
          "name": "stdout"
        }
      ]
    },
    {
      "cell_type": "code",
      "metadata": {
        "colab": {
          "base_uri": "https://localhost:8080/"
        },
        "id": "u9MvvAfAdiVE",
        "outputId": "f0b88aea-3e77-4d69-a98c-c3ca434f4446"
      },
      "source": [
        "X3 = make_dataset(data_f3.drop(columns=['Age','Gender','Status']),'f3')\n",
        "x3_reduced = get_feature_importance(X3,data_f3.Status)\n",
        "print(x3_reduced[x3_reduced>importance])\n",
        "print(\"Label : Status\")\n",
        "print(\"number of all features: \", X3.shape[1])\n",
        "print(\"number of selected features : \", x3_reduced[x3_reduced>importance].shape[0])"
      ],
      "execution_count": null,
      "outputs": [
        {
          "output_type": "stream",
          "text": [
            "94       56.496407\n",
            "158      40.068855\n",
            "178      57.962982\n",
            "209      53.444372\n",
            "297      81.374927\n",
            "331      56.768407\n",
            "350      82.192437\n",
            "468      57.313971\n",
            "538      54.386329\n",
            "592      41.035154\n",
            "594      46.077544\n",
            "661      40.228730\n",
            "763      51.590159\n",
            "771      50.344487\n",
            "800      60.129043\n",
            "822      43.450002\n",
            "855      44.300462\n",
            "908      41.264367\n",
            "914      63.124484\n",
            "932      44.019114\n",
            "1229     44.919515\n",
            "1237     68.550490\n",
            "1245     44.444360\n",
            "1339    100.000000\n",
            "1345     63.394138\n",
            "1373     72.625054\n",
            "1584     41.172464\n",
            "1591     66.166444\n",
            "1611     41.845179\n",
            "1615     64.980121\n",
            "1801     41.686816\n",
            "1861     55.329944\n",
            "1958     42.525410\n",
            "2116     45.324351\n",
            "2136     51.165010\n",
            "2139     51.816987\n",
            "2148     78.788281\n",
            "Name: importance_normalized, dtype: float64\n",
            "Label : Status\n",
            "number of all features:  2304\n",
            "number of selected features :  37\n"
          ],
          "name": "stdout"
        }
      ]
    },
    {
      "cell_type": "markdown",
      "metadata": {
        "id": "rJ24xbNRdDdS"
      },
      "source": [
        "### Mutual Information"
      ]
    },
    {
      "cell_type": "code",
      "metadata": {
        "colab": {
          "base_uri": "https://localhost:8080/"
        },
        "id": "n3bI2W-ddNsR",
        "outputId": "f37a29d6-7c94-46f0-a5b7-d34cda78a965"
      },
      "source": [
        "X3 = make_dataset(data_f3.drop(columns=['Age','Gender','Status']),'f3')\n",
        "gains = feature_importance_mutual(X3,data_f3.Age)\n",
        "print(list(gains))\n",
        "my_dict = {i:list(gains).count(i) for i in list(gains)}\n",
        "my_dict"
      ],
      "execution_count": null,
      "outputs": [
        {
          "output_type": "stream",
          "text": [
            "[3.354, 3.355, 3.355, 3.355, 3.352, 3.355, 3.354, 3.355, 3.355, 3.353, 3.355, 3.355, 3.355, 3.354, 3.355, 3.355, 3.355, 3.355, 3.355, 3.354, 3.355, 3.355, 3.354, 3.355, 3.355, 3.355, 3.355, 3.355, 3.355, 3.355, 3.355, 3.354, 3.355, 3.355, 3.355, 3.355, 3.355, 3.355, 3.355, 3.355, 3.355, 3.355, 3.355, 3.355, 3.355, 3.354, 3.355, 3.355, 3.355, 3.355, 3.354, 3.355, 3.355, 3.355, 3.355, 3.355, 3.355, 3.355, 3.355, 3.355, 3.355, 3.355, 3.355, 3.355, 3.355, 3.355, 3.355, 3.355, 3.355, 3.355, 3.355, 3.355, 3.355, 3.355, 3.355, 3.307, 3.355, 3.354, 3.355, 3.355, 3.355, 3.355, 3.355, 3.355, 3.355, 3.354, 3.355, 3.355, 3.353, 3.355, 3.354, 3.355, 3.355, 3.355, 3.355, 3.355, 3.355, 3.355, 3.355, 3.355, 3.355, 3.355, 3.355, 3.355, 3.355, 3.355, 3.355, 3.355, 3.355, 3.355, 3.355, 3.355, 3.355, 3.355, 3.355, 3.355, 3.355, 3.355, 3.355, 3.355, 3.355, 3.355, 3.355, 3.355, 3.355, 3.355, 3.355, 3.355, 3.355, 3.355, 3.355, 3.355, 3.355, 3.355, 3.355, 3.355, 3.355, 3.355, 3.355, 3.355, 3.354, 3.354, 3.355, 3.355, 3.355, 3.355, 3.355, 3.355, 3.355, 3.354, 3.355, 3.355, 3.355, 3.355, 3.355, 3.355, 3.355, 3.355, 3.355, 3.355, 3.351, 3.355, 3.355, 3.354, 3.355, 3.354, 3.355, 3.355, 3.355, 3.355, 3.353, 3.355, 3.355, 3.355, 3.355, 3.355, 3.355, 3.355, 3.355, 3.355, 3.355, 3.355, 3.355, 3.355, 3.355, 3.355, 3.355, 3.355, 3.355, 3.355, 3.355, 3.355, 3.355, 3.355, 3.355, 3.355, 3.354, 3.355, 3.355, 3.354, 3.355, 3.355, 3.355, 3.355, 3.355, 3.355, 3.355, 3.355, 3.355, 3.355, 3.355, 3.355, 3.333, 3.354, 3.355, 3.354, 3.354, 3.355, 3.355, 3.355, 3.354, 3.355, 3.355, 3.355, 3.355, 3.355, 3.355, 3.355, 3.355, 3.352, 3.355, 3.355, 3.355, 3.355, 3.355, 3.355, 3.355, 3.355, 3.355, 3.355, 3.354, 3.355, 3.355, 3.355, 3.355, 3.355, 3.355, 3.355, 3.355, 3.355, 3.355, 3.355, 3.355, 3.355, 3.355, 3.355, 3.355, 3.355, 3.354, 3.355, 3.355, 3.355, 3.355, 3.355, 3.355, 3.355, 3.355, 3.355, 3.354, 3.355, 3.355, 3.355, 3.355, 3.355, 3.355, 3.354, 3.355, 3.355, 3.355, 3.355, 3.355, 3.354, 3.355, 3.355, 3.355, 3.355, 3.355, 3.354, 3.355, 3.355, 3.355, 3.355, 3.354, 3.355, 3.355, 3.355, 3.355, 3.355, 3.355, 3.355, 3.355, 3.355, 3.355, 3.355, 3.355, 3.355, 3.355, 3.355, 3.355, 3.354, 3.355, 3.355, 3.355, 3.355, 3.355, 3.355, 3.355, 3.355, 3.355, 3.355, 3.355, 3.355, 3.355, 3.353, 3.355, 3.354, 3.355, 3.355, 3.355, 3.354, 3.355, 3.355, 3.355, 3.355, 3.355, 3.355, 3.354, 3.355, 3.355, 3.355, 3.355, 3.355, 3.355, 3.355, 3.355, 3.355, 3.355, 3.355, 3.355, 3.355, 3.355, 3.355, 3.355, 3.355, 3.355, 3.355, 3.355, 3.355, 3.355, 3.355, 3.355, 3.355, 3.355, 3.355, 3.355, 3.354, 3.355, 3.355, 3.355, 3.355, 3.355, 3.355, 3.355, 3.354, 3.355, 3.353, 3.355, 3.355, 3.355, 3.355, 3.355, 3.355, 3.355, 3.355, 3.355, 3.355, 3.355, 3.355, 3.355, 3.355, 3.355, 3.355, 3.355, 3.355, 3.355, 3.355, 3.355, 3.355, 3.355, 3.355, 3.355, 3.355, 3.355, 3.342, 3.355, 3.355, 3.355, 3.355, 3.354, 3.355, 3.355, 3.355, 3.355, 3.354, 3.355, 3.355, 3.355, 3.355, 3.352, 3.355, 3.355, 3.355, 3.346, 3.349, 3.355, 3.355, 3.355, 3.355, 3.354, 3.355, 3.355, 3.355, 3.355, 3.355, 3.355, 3.355, 3.355, 3.355, 3.355, 3.355, 3.355, 3.355, 3.355, 3.355, 3.355, 3.355, 3.355, 3.355, 3.354, 3.355, 3.355, 3.355, 3.355, 3.355, 3.355, 3.355, 3.355, 3.355, 3.355, 3.355, 3.355, 3.355, 3.355, 3.355, 3.355, 3.355, 3.355, 3.355, 3.355, 3.354, 3.355, 3.355, 3.355, 3.355, 3.355, 3.355, 3.355, 3.355, 3.355, 3.354, 3.355, 3.355, 3.355, 3.355, 3.355, 3.355, 3.354, 3.355, 3.355, 3.355, 3.355, 3.355, 3.355, 3.354, 3.355, 3.355, 3.355, 3.355, 3.353, 3.355, 3.355, 3.355, 3.355, 3.355, 3.355, 3.355, 3.355, 3.355, 3.355, 3.355, 3.355, 3.355, 3.355, 3.355, 3.355, 3.355, 3.355, 3.355, 3.355, 3.355, 3.354, 3.355, 3.355, 3.355, 3.355, 3.355, 3.355, 3.355, 3.355, 3.355, 3.355, 3.355, 3.355, 3.354, 3.355, 3.355, 3.355, 3.355, 3.355, 3.355, 3.355, 3.355, 3.354, 3.355, 3.355, 3.355, 3.355, 3.355, 3.355, 3.355, 3.355, 3.355, 3.355, 3.355, 3.355, 3.355, 3.355, 3.2, 3.355, 3.355, 3.355, 3.355, 3.353, 3.355, 3.355, 3.355, 3.355, 3.336, 3.355, 3.355, 3.355, 3.355, 3.355, 3.355, 3.355, 3.355, 3.355, 3.355, 3.355, 3.355, 3.355, 3.355, 3.355, 3.355, 3.355, 3.353, 3.355, 3.355, 3.355, 3.354, 3.355, 3.355, 3.355, 3.353, 3.355, 3.355, 3.354, 3.355, 3.355, 3.355, 3.355, 3.355, 3.355, 3.355, 3.355, 3.355, 3.355, 3.355, 3.355, 3.355, 3.355, 3.355, 3.355, 3.355, 3.355, 3.355, 3.355, 3.354, 3.354, 3.355, 3.355, 3.355, 3.355, 3.355, 3.355, 3.355, 3.355, 3.355, 3.355, 3.355, 3.355, 3.355, 3.355, 3.355, 3.355, 3.355, 3.355, 3.355, 3.355, 3.355, 3.355, 3.355, 3.355, 3.355, 3.355, 3.355, 3.355, 3.355, 3.355, 3.355, 3.355, 3.355, 3.355, 3.355, 3.355, 3.355, 3.355, 3.354, 3.355, 3.355, 3.355, 3.355, 3.354, 3.355, 3.355, 3.355, 3.355, 3.355, 3.355, 3.355, 3.355, 3.355, 3.355, 3.355, 3.355, 3.353, 3.355, 3.355, 3.355, 3.355, 3.355, 3.06, 3.355, 3.355, 3.351, 3.355, 3.355, 3.355, 3.355, 3.355, 3.355, 3.355, 3.355, 3.355, 3.355, 3.355, 3.355, 3.355, 3.354, 3.355, 3.354, 3.355, 3.355, 3.355, 3.355, 3.355, 3.355, 3.354, 3.355, 3.354, 3.355, 3.354, 3.355, 3.355, 3.355, 3.355, 3.355, 3.355, 3.355, 3.355, 3.355, 3.355, 3.355, 3.355, 3.355, 3.355, 3.355, 3.355, 3.355, 3.354, 3.355, 3.355, 3.355, 3.355, 3.355, 3.355, 3.355, 3.355, 3.355, 3.355, 3.355, 3.355, 3.355, 3.355, 3.354, 3.355, 3.355, 3.355, 3.355, 3.355, 3.355, 3.354, 3.355, 3.355, 3.355, 3.355, 3.355, 3.355, 3.355, 3.355, 3.355, 3.355, 3.355, 3.355, 3.355, 3.355, 3.355, 3.354, 3.355, 3.355, 3.355, 3.355, 3.355, 3.355, 3.355, 3.355, 3.355, 3.355, 3.355, 3.355, 3.355, 3.355, 3.355, 3.354, 3.353, 3.355, 3.355, 3.355, 3.355, 3.354, 3.354, 3.355, 3.355, 3.354, 3.354, 3.355, 3.355, 3.355, 3.355, 3.355, 3.355, 3.353, 3.355, 3.355, 3.355, 3.355, 3.355, 3.355, 3.355, 3.355, 3.355, 3.354, 3.355, 3.353, 3.355, 3.355, 3.355, 3.355, 3.355, 3.355, 3.355, 3.355, 3.355, 3.355, 3.355, 3.355, 3.353, 3.355, 3.355, 3.355, 3.354, 3.355, 3.355, 3.355, 3.355, 3.355, 3.355, 3.355, 3.355, 3.355, 3.354, 3.354, 3.353, 3.355, 3.355, 3.355, 3.355, 3.355, 3.355, 3.355, 3.355, 3.355, 3.355, 3.355, 3.355, 3.355, 3.355, 3.355, 3.355, 3.354, 3.355, 3.354, 3.355, 3.354, 3.355, 3.355, 3.354, 3.355, 3.355, 3.355, 3.355, 3.355, 3.355, 3.354, 3.355, 3.355, 3.355, 3.355, 3.355, 3.355, 3.355, 3.355, 3.355, 3.355, 3.355, 3.355, 3.355, 3.355, 3.354, 3.355, 3.355, 3.353, 3.355, 3.355, 3.355, 3.355, 3.354, 3.355, 3.355, 3.355, 3.355, 3.355, 3.355, 3.355, 3.355, 3.355, 3.355, 3.354, 3.355, 3.355, 3.355, 3.355, 3.355, 3.355, 3.355, 3.354, 3.354, 3.355, 3.354, 3.355, 3.355, 3.355, 3.355, 3.355, 3.355, 3.355, 3.355, 3.355, 3.354, 3.355, 3.355, 3.355, 3.355, 3.355, 3.355, 3.355, 3.355, 3.353, 3.355, 3.354, 3.355, 3.355, 3.353, 3.355, 3.355, 3.355, 3.355, 3.353, 3.354, 3.355, 3.355, 3.355, 3.355, 3.355, 3.355, 3.355, 3.355, 3.355, 3.355, 3.354, 3.355, 3.355, 3.355, 3.355, 3.355, 3.355, 3.355, 3.355, 3.355, 3.355, 3.355, 3.355, 3.355, 3.355, 3.355, 3.355, 3.355, 3.355, 3.355, 3.355, 3.355, 3.355, 3.355, 3.355, 3.355, 3.355, 3.355, 3.355, 3.355, 3.355, 3.355, 3.355, 3.354, 3.355, 3.354, 3.355, 3.355, 3.355, 3.354, 3.355, 3.355, 3.355, 3.355, 3.355, 3.353, 3.355, 3.355, 3.355, 3.355, 3.355, 3.355, 3.355, 3.355, 3.355, 3.354, 3.355, 3.355, 3.355, 3.355, 3.355, 3.355, 3.355, 3.353, 3.355, 3.355, 3.355, 3.355, 3.354, 3.355, 3.355, 3.29, 3.355, 3.355, 3.355, 3.355, 3.355, 3.355, 3.338, 3.355, 3.355, 3.354, 3.355, 3.355, 3.355, 3.355, 3.355, 3.355, 3.355, 3.355, 3.355, 3.352, 3.355, 3.355, 3.355, 3.355, 3.355, 3.355, 3.355, 3.355, 3.355, 3.355, 3.355, 3.355, 3.354, 3.355, 3.355, 3.355, 3.355, 3.355, 3.355, 3.355, 3.355, 3.355, 3.355, 3.355, 3.355, 3.355, 3.355, 3.355, 3.355, 3.355, 3.355, 3.355, 3.355, 3.355, 3.339, 3.355, 3.355, 3.355, 3.355, 3.355, 3.355, 3.355, 3.355, 3.355, 3.355, 3.355, 3.352, 3.355, 3.355, 3.355, 3.355, 3.355, 3.355, 3.355, 3.355, 3.355, 3.355, 3.355, 3.355, 3.355, 3.355, 3.355, 3.355, 3.355, 3.355, 3.355, 3.353, 3.355, 3.355, 3.355, 3.355, 3.355, 3.354, 3.355, 3.355, 3.355, 3.355, 3.355, 3.355, 3.355, 3.355, 3.355, 3.355, 3.355, 3.355, 3.355, 3.354, 3.355, 3.355, 3.355, 3.355, 3.355, 3.355, 3.355, 3.355, 3.355, 3.354, 3.355, 3.355, 3.355, 3.355, 3.355, 3.355, 3.354, 3.355, 3.355, 3.355, 3.355, 3.355, 3.355, 3.355, 3.355, 3.355, 3.355, 3.355, 3.355, 3.355, 3.355, 3.355, 3.355, 3.355, 3.355, 3.352, 3.355, 3.342, 3.355, 3.355, 3.354, 3.354, 3.355, 3.355, 3.355, 3.355, 3.355, 3.355, 3.355, 3.355, 3.354, 3.354, 3.354, 3.355, 3.355, 3.355, 3.355, 3.355, 3.355, 3.355, 3.355, 3.355, 3.355, 3.355, 3.355, 3.355, 3.355, 3.355, 3.355, 3.355, 3.355, 3.355, 3.355, 3.355, 3.355, 3.355, 3.355, 3.355, 3.355, 3.355, 3.355, 3.355, 3.355, 3.355, 3.355, 3.355, 3.355, 3.355, 3.355, 3.355, 3.355, 3.355, 3.355, 3.355, 3.355, 3.355, 3.355, 3.354, 3.355, 3.355, 3.355, 3.355, 3.355, 3.355, 3.355, 3.355, 3.355, 3.355, 3.355, 3.355, 3.355, 3.355, 3.355, 3.355, 3.355, 3.354, 3.354, 3.355, 3.355, 3.353, 3.355, 3.355, 3.355, 3.354, 3.355, 3.355, 3.355, 3.355, 3.355, 3.355, 3.354, 3.355, 3.355, 3.355, 3.355, 3.354, 3.355, 3.353, 3.355, 3.355, 3.355, 3.355, 3.354, 3.355, 3.355, 3.355, 3.355, 3.354, 3.355, 3.355, 3.355, 3.355, 3.354, 3.355, 3.355, 3.342, 3.355, 3.354, 3.354, 3.355, 3.355, 3.354, 3.354, 3.354, 3.355, 3.355, 3.355, 3.355, 3.355, 3.355, 3.355, 3.355, 3.355, 3.355, 3.355, 3.355, 3.355, 3.355, 3.354, 3.355, 3.355, 3.355, 3.355, 3.355, 3.355, 3.355, 3.355, 3.355, 3.355, 3.355, 3.354, 3.354, 3.355, 3.355, 3.355, 3.355, 3.355, 3.355, 3.355, 3.355, 3.355, 3.355, 3.355, 3.355, 3.355, 3.355, 3.355, 3.355, 3.355, 3.355, 3.355, 3.343, 3.355, 3.355, 3.354, 3.355, 3.355, 3.355, 3.355, 3.355, 3.355, 3.355, 3.355, 3.355, 3.355, 3.354, 3.355, 3.355, 3.355, 3.355, 3.355, 3.355, 3.355, 3.355, 3.355, 3.353, 3.355, 3.355, 3.355, 3.355, 3.355, 3.355, 3.354, 3.355, 3.355, 3.355, 3.355, 3.355, 3.355, 3.353, 3.355, 3.355, 3.355, 3.355, 3.355, 3.355, 3.354, 3.355, 3.354, 3.355, 3.355, 3.355, 3.355, 3.355, 3.355, 3.355, 3.355, 3.355, 3.355, 3.355, 3.355, 3.355, 3.355, 3.355, 3.355, 3.355, 3.355, 3.355, 3.355, 3.354, 3.355, 3.355, 3.355, 3.355, 3.355, 3.355, 3.355, 3.355, 3.354, 3.355, 3.355, 3.355, 3.355, 3.35, 3.355, 3.355, 3.355, 3.355, 3.355, 3.355, 3.355, 3.355, 3.354, 3.353, 3.355, 3.355, 3.355, 3.355, 3.352, 3.354, 3.355, 3.355, 3.354, 3.355, 3.355, 3.355, 3.355, 3.355, 3.355, 3.355, 3.355, 3.355, 3.355, 3.355, 3.354, 3.337, 3.355, 3.355, 3.355, 3.355, 3.355, 3.355, 3.355, 3.355, 3.355, 3.355, 3.355, 3.355, 3.355, 3.355, 3.355, 3.355, 3.355, 3.355, 3.355, 3.355, 3.355, 3.355, 3.355, 3.353, 3.355, 3.355, 3.355, 3.355, 3.355, 3.355, 3.355, 3.355, 3.355, 3.355, 3.355, 3.355, 3.355, 3.355, 3.355, 3.355, 3.355, 3.355, 3.354, 3.355, 3.355, 3.355, 3.355, 3.355, 3.355, 3.355, 3.355, 3.355, 3.355, 3.355, 3.355, 3.355, 3.352, 3.355, 3.355, 3.355, 3.355, 3.355, 3.355, 3.355, 3.355, 3.355, 3.355, 3.355, 3.355, 3.355, 3.355, 3.355, 3.355, 3.355, 3.355, 3.355, 3.355, 3.355, 3.355, 3.355, 3.355, 3.355, 3.354, 3.354, 3.355, 3.355, 3.355, 3.355, 3.355, 3.355, 3.355, 3.355, 3.354, 3.355, 3.355, 3.355, 3.355, 3.355, 3.355, 3.355, 3.355, 3.355, 3.355, 3.354, 3.355, 3.354, 3.355, 3.355, 3.355, 3.355, 3.355, 3.355, 3.355, 3.355, 3.355, 3.355, 3.355, 3.355, 3.352, 3.346, 3.355, 3.355, 3.355, 3.355, 3.355, 3.355, 3.355, 3.355, 3.355, 3.355, 3.355, 3.355, 3.354, 3.354, 3.355, 3.355, 3.355, 3.355, 3.355, 3.355, 3.355, 3.355, 3.355, 3.355, 3.353, 3.355, 3.355, 3.355, 3.355, 3.355, 3.355, 3.355, 3.355, 3.355, 3.354, 3.355, 3.354, 3.355, 3.355, 3.355, 3.355, 3.353, 3.355, 3.355, 3.355, 3.355, 3.355, 3.355, 3.353, 3.355, 3.355, 3.355, 3.355, 3.355, 3.355, 3.355, 3.349, 3.354, 3.355, 3.355, 3.355, 3.355, 3.354, 3.355, 3.355, 3.355, 3.355, 3.354, 3.355, 3.355, 3.355, 3.355, 3.355, 3.355, 3.354, 3.354, 3.355, 3.355, 3.355, 3.355, 3.355, 3.355, 3.355, 3.355, 3.355, 3.355, 3.355, 3.355, 3.355, 3.355, 3.355, 3.355, 3.355, 3.355, 3.355, 3.355, 3.355, 3.355, 3.355, 3.355, 3.355, 3.355, 3.355, 3.355, 3.355, 3.355, 3.355, 3.355, 3.355, 3.355, 3.355, 3.355, 3.355, 3.355, 3.355, 3.355, 3.355, 3.355, 3.355, 3.354, 3.355, 3.355, 3.355, 3.355, 3.355, 3.355, 3.355, 3.355, 3.355, 3.355, 3.355, 3.355, 3.355, 3.355, 3.355, 3.355, 3.354, 3.355, 3.355, 3.355, 3.355, 3.355, 3.355, 3.355, 3.355, 3.355, 3.355, 3.355, 3.355, 3.355, 3.355, 3.355, 3.355, 3.355, 3.353, 3.355, 3.354, 3.355, 3.355, 3.355, 3.355, 3.355, 3.355, 3.355, 3.355, 3.355, 3.355, 3.355, 3.354, 3.355, 3.355, 3.355, 3.355, 3.355, 3.355, 3.355, 3.355, 3.355, 3.355, 3.355, 3.355, 3.355, 3.355, 3.355, 3.355, 3.355, 3.355, 3.355, 3.355, 3.355, 3.355, 3.355, 3.355, 3.355, 3.355, 3.355, 3.355, 3.355, 3.355, 3.355, 3.354, 3.355, 3.354, 3.355, 3.355, 3.355, 3.355, 3.355, 3.355, 3.21, 3.355, 3.354, 3.354, 3.355, 3.354, 3.306, 3.355, 3.355, 3.355, 3.355, 3.354, 3.355, 3.354, 3.355, 3.355, 3.355, 3.355, 3.355, 3.355, 3.355, 3.355, 3.355, 3.355, 3.355, 3.355, 3.355, 3.355, 3.355, 3.355, 3.355, 3.355, 3.355, 3.355, 3.355, 3.355, 3.355, 3.355, 3.355, 3.355, 3.355, 3.355, 3.355, 3.355, 3.354, 3.354, 3.355, 3.35, 3.354, 3.355, 3.355, 3.355, 3.355, 3.355, 3.355, 3.355, 3.353, 3.355, 3.355, 3.355, 3.355, 3.355, 3.355, 3.354, 3.354, 3.355, 3.355, 3.355, 3.355, 3.355, 3.355, 3.355, 3.355, 3.355, 3.355, 3.355, 3.355, 3.355, 3.355, 3.355, 3.355, 3.355, 3.355, 3.355, 3.355, 3.355, 3.354, 3.355, 3.355, 3.355, 3.355, 3.355, 3.355, 3.355, 3.355, 3.355, 3.355, 3.354, 3.355, 3.355, 3.355, 3.355, 3.355, 3.355, 3.355, 3.355, 3.355, 3.355, 3.355, 3.355, 3.355, 3.355, 3.355, 3.355, 3.355, 3.355, 3.355, 3.355, 3.354, 3.355, 3.355, 3.355, 3.355, 3.355, 3.353, 3.355, 3.355, 3.355, 3.355, 3.355, 3.355, 3.354, 3.355, 3.354, 3.355, 3.354, 3.355, 3.355, 3.355, 3.355, 3.355, 3.355, 3.355, 3.355, 3.355, 3.355, 3.355, 3.355, 3.355, 3.355, 3.355, 3.355, 3.355, 3.355, 3.355, 3.355, 3.355, 3.354, 3.354, 3.355, 3.355, 3.355, 3.355, 3.355, 3.355, 3.355, 3.355, 3.355, 3.355, 3.355, 3.355, 3.355, 3.355, 3.355, 3.355, 3.355, 3.355, 3.35, 3.355, 3.355, 3.354, 3.355, 3.355, 3.355, 3.355, 3.355, 3.355, 3.355, 3.355, 3.355, 3.355, 3.355, 3.352, 3.355, 3.355, 3.355, 3.355, 3.355, 3.355, 3.355, 3.355, 3.355, 3.355, 3.355, 3.355, 3.355, 3.355, 3.355, 3.355, 3.355, 3.355, 3.346, 3.337, 3.355, 3.355, 3.354, 3.355, 3.355, 3.355, 3.355, 3.355, 3.355, 3.355, 3.355, 3.355, 3.355, 3.355, 3.355, 3.35, 3.355, 3.355, 3.355, 3.354, 3.355, 3.355, 3.355, 3.355, 3.355, 3.355, 3.355, 3.355, 3.355, 3.355, 3.355, 3.355, 3.355, 3.355, 3.355, 3.355, 3.355, 3.355, 3.355, 3.355, 3.355, 3.355, 3.355, 3.355, 3.355, 3.355, 3.355, 3.355, 3.353, 3.355, 3.355, 3.355, 3.355, 3.355, 3.305, 3.355, 3.355, 3.355, 3.355, 3.355, 3.355, 3.355, 3.353, 3.355, 3.355, 3.355, 3.355, 3.355, 3.355, 3.355, 3.355, 3.355, 3.355, 3.355, 3.354, 3.355, 3.355, 3.354, 3.355, 3.353, 3.355, 3.355, 3.355, 3.355, 3.355, 3.355, 3.355, 3.355, 3.355, 3.355, 3.355, 3.354, 3.355, 3.355, 3.354, 3.355, 3.355, 3.355, 3.355, 3.34, 3.355, 3.355, 3.355, 3.355, 3.354, 3.355, 3.355, 3.355, 3.354, 3.355, 3.355, 3.355, 3.355, 3.355, 3.355, 3.355, 3.355, 3.355, 3.355, 3.355, 3.355, 3.355, 3.355, 3.355, 3.354, 3.355, 3.355, 3.355, 3.355, 3.355, 3.355, 3.355, 3.355, 3.355, 3.355, 3.355, 3.355, 3.355, 3.355, 3.354, 3.355, 3.355, 3.355, 3.355, 3.355, 3.355, 3.355, 3.355, 3.355, 3.354, 3.355, 3.355, 3.353, 3.355, 3.355, 3.355, 3.355, 3.355, 3.355, 3.355, 3.355, 3.355, 3.355, 3.355, 3.355, 3.355, 3.355, 3.355, 3.355, 3.355, 3.355, 3.355, 3.355, 3.355, 3.355, 3.355, 3.354, 3.355, 3.355, 3.355, 3.355, 3.355, 3.355, 3.355, 3.355, 3.355, 3.355, 3.355, 3.355, 3.355, 3.355, 3.355, 3.355, 3.355, 3.355, 3.355, 3.355, 3.355, 3.355, 3.355, 3.355, 3.355, 3.354, 3.355, 3.355, 3.354, 3.354, 3.355, 3.355, 3.355, 3.355, 3.353, 3.355, 3.355, 3.355, 3.355, 3.355, 3.355, 3.355, 3.355, 3.355, 3.355, 3.355, 3.354, 3.353, 3.355, 3.355, 3.353, 3.355, 3.355, 3.355, 3.355, 3.355, 3.355, 3.353, 3.355, 3.355, 3.355, 3.355, 3.355, 3.355, 3.355, 3.355, 3.355, 3.355, 3.355, 3.355, 3.355, 3.355, 3.355, 3.355, 3.355, 3.346, 3.355, 3.355, 3.355, 3.355, 3.355, 3.355, 3.355, 3.355, 3.355, 3.354, 3.354, 3.355, 3.352, 3.355, 3.355, 3.355, 3.355, 3.355, 3.355, 3.355, 3.355, 3.355, 3.355, 3.355, 3.355, 3.355, 3.355, 3.355, 3.355, 3.354, 3.355, 3.351, 3.355, 3.355, 3.353, 3.354, 3.352, 3.355, 3.355, 3.355, 3.355, 3.355, 3.355, 3.355, 3.355]\n"
          ],
          "name": "stdout"
        },
        {
          "output_type": "execute_result",
          "data": {
            "text/plain": [
              "{3.06: 1,\n",
              " 3.2: 1,\n",
              " 3.21: 1,\n",
              " 3.29: 1,\n",
              " 3.305: 1,\n",
              " 3.306: 1,\n",
              " 3.307: 1,\n",
              " 3.333: 1,\n",
              " 3.336: 1,\n",
              " 3.337: 2,\n",
              " 3.338: 1,\n",
              " 3.339: 1,\n",
              " 3.34: 1,\n",
              " 3.342: 3,\n",
              " 3.343: 1,\n",
              " 3.346: 4,\n",
              " 3.349: 2,\n",
              " 3.35: 4,\n",
              " 3.351: 3,\n",
              " 3.352: 12,\n",
              " 3.353: 43,\n",
              " 3.354: 189,\n",
              " 3.355: 2029}"
            ]
          },
          "metadata": {
            "tags": []
          },
          "execution_count": 177
        }
      ]
    },
    {
      "cell_type": "code",
      "metadata": {
        "colab": {
          "base_uri": "https://localhost:8080/"
        },
        "id": "cDgNr9nZdS-_",
        "outputId": "d020974d-9b0f-4aff-a807-51d9161a9d78"
      },
      "source": [
        "X3 = make_dataset(data_f3.drop(columns=['Age','Gender','Status']),'f3')\n",
        "gains = feature_importance_mutual(X3,data_f3.Gender)\n",
        "print(list(gains))\n",
        "my_dict = {i:list(gains).count(i) for i in list(gains)}\n",
        "my_dict"
      ],
      "execution_count": null,
      "outputs": [
        {
          "output_type": "stream",
          "text": [
            "[0.618, 0.619, 0.619, 0.619, 0.618, 0.619, 0.619, 0.619, 0.619, 0.618, 0.619, 0.619, 0.619, 0.618, 0.619, 0.619, 0.619, 0.619, 0.619, 0.618, 0.619, 0.619, 0.618, 0.619, 0.619, 0.619, 0.619, 0.619, 0.619, 0.619, 0.619, 0.619, 0.619, 0.619, 0.619, 0.619, 0.619, 0.619, 0.619, 0.619, 0.619, 0.619, 0.619, 0.619, 0.618, 0.619, 0.619, 0.619, 0.619, 0.619, 0.619, 0.619, 0.619, 0.619, 0.619, 0.619, 0.619, 0.619, 0.619, 0.619, 0.619, 0.619, 0.619, 0.619, 0.619, 0.619, 0.619, 0.619, 0.619, 0.619, 0.619, 0.619, 0.619, 0.619, 0.619, 0.591, 0.619, 0.618, 0.619, 0.619, 0.619, 0.619, 0.619, 0.619, 0.619, 0.619, 0.619, 0.619, 0.617, 0.619, 0.619, 0.619, 0.619, 0.619, 0.619, 0.619, 0.619, 0.619, 0.619, 0.619, 0.619, 0.619, 0.619, 0.619, 0.619, 0.619, 0.619, 0.619, 0.619, 0.619, 0.619, 0.619, 0.619, 0.619, 0.619, 0.619, 0.619, 0.619, 0.619, 0.619, 0.619, 0.619, 0.619, 0.619, 0.619, 0.619, 0.619, 0.619, 0.619, 0.619, 0.619, 0.619, 0.619, 0.619, 0.619, 0.619, 0.619, 0.619, 0.619, 0.619, 0.619, 0.619, 0.619, 0.619, 0.619, 0.619, 0.619, 0.619, 0.619, 0.619, 0.619, 0.619, 0.619, 0.619, 0.619, 0.619, 0.619, 0.619, 0.619, 0.619, 0.619, 0.619, 0.619, 0.619, 0.619, 0.619, 0.619, 0.619, 0.619, 0.619, 0.619, 0.619, 0.619, 0.619, 0.619, 0.619, 0.619, 0.619, 0.619, 0.619, 0.619, 0.619, 0.619, 0.619, 0.619, 0.619, 0.619, 0.619, 0.619, 0.619, 0.619, 0.619, 0.619, 0.619, 0.619, 0.619, 0.618, 0.619, 0.619, 0.619, 0.619, 0.619, 0.619, 0.619, 0.619, 0.619, 0.619, 0.619, 0.619, 0.619, 0.619, 0.619, 0.609, 0.619, 0.619, 0.619, 0.619, 0.619, 0.619, 0.619, 0.618, 0.619, 0.619, 0.619, 0.619, 0.619, 0.619, 0.619, 0.619, 0.618, 0.619, 0.619, 0.619, 0.619, 0.619, 0.619, 0.619, 0.619, 0.619, 0.619, 0.619, 0.619, 0.619, 0.619, 0.619, 0.619, 0.619, 0.619, 0.619, 0.619, 0.619, 0.619, 0.619, 0.619, 0.619, 0.619, 0.619, 0.619, 0.619, 0.619, 0.619, 0.619, 0.619, 0.619, 0.619, 0.619, 0.619, 0.619, 0.619, 0.619, 0.619, 0.619, 0.619, 0.619, 0.619, 0.618, 0.619, 0.619, 0.619, 0.619, 0.619, 0.618, 0.619, 0.619, 0.619, 0.619, 0.619, 0.619, 0.619, 0.619, 0.619, 0.619, 0.619, 0.619, 0.619, 0.619, 0.619, 0.619, 0.619, 0.619, 0.619, 0.619, 0.619, 0.619, 0.619, 0.619, 0.619, 0.619, 0.619, 0.619, 0.619, 0.619, 0.619, 0.619, 0.619, 0.619, 0.619, 0.619, 0.619, 0.619, 0.619, 0.619, 0.619, 0.618, 0.619, 0.619, 0.619, 0.619, 0.619, 0.618, 0.619, 0.619, 0.619, 0.619, 0.619, 0.619, 0.618, 0.619, 0.619, 0.619, 0.619, 0.619, 0.619, 0.619, 0.619, 0.619, 0.619, 0.619, 0.619, 0.619, 0.619, 0.619, 0.619, 0.619, 0.619, 0.619, 0.619, 0.619, 0.619, 0.619, 0.619, 0.619, 0.619, 0.619, 0.619, 0.618, 0.619, 0.619, 0.619, 0.619, 0.619, 0.619, 0.619, 0.619, 0.619, 0.618, 0.619, 0.619, 0.619, 0.619, 0.619, 0.619, 0.619, 0.619, 0.619, 0.619, 0.619, 0.619, 0.619, 0.619, 0.619, 0.619, 0.619, 0.619, 0.619, 0.619, 0.619, 0.619, 0.619, 0.619, 0.619, 0.619, 0.619, 0.615, 0.619, 0.619, 0.619, 0.619, 0.618, 0.619, 0.619, 0.619, 0.619, 0.618, 0.619, 0.619, 0.619, 0.619, 0.617, 0.619, 0.619, 0.619, 0.614, 0.616, 0.619, 0.619, 0.619, 0.619, 0.619, 0.619, 0.619, 0.619, 0.619, 0.619, 0.619, 0.619, 0.619, 0.619, 0.619, 0.619, 0.619, 0.619, 0.619, 0.619, 0.619, 0.619, 0.619, 0.619, 0.619, 0.619, 0.619, 0.619, 0.619, 0.619, 0.619, 0.619, 0.619, 0.619, 0.619, 0.619, 0.619, 0.619, 0.619, 0.619, 0.619, 0.619, 0.619, 0.619, 0.619, 0.618, 0.619, 0.619, 0.619, 0.619, 0.619, 0.619, 0.619, 0.619, 0.619, 0.619, 0.619, 0.619, 0.619, 0.619, 0.619, 0.619, 0.619, 0.619, 0.619, 0.619, 0.619, 0.619, 0.619, 0.618, 0.619, 0.619, 0.619, 0.619, 0.619, 0.619, 0.619, 0.619, 0.619, 0.619, 0.619, 0.619, 0.619, 0.619, 0.619, 0.619, 0.619, 0.619, 0.619, 0.619, 0.619, 0.619, 0.619, 0.619, 0.619, 0.619, 0.619, 0.619, 0.619, 0.619, 0.619, 0.619, 0.619, 0.619, 0.619, 0.619, 0.619, 0.619, 0.619, 0.618, 0.619, 0.619, 0.619, 0.619, 0.619, 0.619, 0.619, 0.619, 0.618, 0.619, 0.619, 0.619, 0.619, 0.619, 0.619, 0.619, 0.619, 0.619, 0.619, 0.619, 0.619, 0.619, 0.619, 0.556, 0.619, 0.619, 0.619, 0.619, 0.617, 0.619, 0.619, 0.619, 0.619, 0.609, 0.619, 0.619, 0.619, 0.619, 0.619, 0.619, 0.619, 0.619, 0.619, 0.619, 0.619, 0.619, 0.619, 0.619, 0.619, 0.619, 0.619, 0.619, 0.619, 0.619, 0.619, 0.619, 0.619, 0.619, 0.619, 0.619, 0.619, 0.619, 0.618, 0.619, 0.619, 0.619, 0.619, 0.619, 0.619, 0.619, 0.619, 0.619, 0.619, 0.619, 0.619, 0.619, 0.619, 0.619, 0.619, 0.619, 0.619, 0.619, 0.619, 0.618, 0.619, 0.619, 0.619, 0.619, 0.619, 0.619, 0.619, 0.619, 0.619, 0.619, 0.619, 0.619, 0.619, 0.619, 0.619, 0.619, 0.619, 0.619, 0.619, 0.619, 0.619, 0.619, 0.619, 0.619, 0.619, 0.619, 0.619, 0.619, 0.619, 0.619, 0.619, 0.619, 0.619, 0.619, 0.618, 0.619, 0.619, 0.619, 0.619, 0.619, 0.619, 0.619, 0.619, 0.619, 0.619, 0.619, 0.619, 0.619, 0.619, 0.619, 0.619, 0.619, 0.619, 0.619, 0.619, 0.619, 0.619, 0.619, 0.619, 0.619, 0.619, 0.619, 0.619, 0.514, 0.619, 0.619, 0.617, 0.619, 0.619, 0.619, 0.619, 0.619, 0.619, 0.619, 0.619, 0.619, 0.619, 0.619, 0.619, 0.619, 0.619, 0.619, 0.619, 0.619, 0.619, 0.619, 0.619, 0.619, 0.619, 0.619, 0.619, 0.618, 0.619, 0.619, 0.619, 0.619, 0.619, 0.619, 0.619, 0.619, 0.619, 0.619, 0.619, 0.619, 0.619, 0.619, 0.619, 0.619, 0.619, 0.619, 0.619, 0.618, 0.619, 0.619, 0.619, 0.619, 0.618, 0.619, 0.619, 0.619, 0.619, 0.619, 0.619, 0.619, 0.619, 0.619, 0.618, 0.619, 0.619, 0.619, 0.619, 0.619, 0.619, 0.618, 0.619, 0.619, 0.619, 0.619, 0.619, 0.619, 0.619, 0.619, 0.619, 0.619, 0.619, 0.619, 0.619, 0.619, 0.619, 0.619, 0.619, 0.619, 0.619, 0.619, 0.619, 0.619, 0.619, 0.619, 0.619, 0.619, 0.619, 0.619, 0.619, 0.619, 0.619, 0.619, 0.619, 0.619, 0.619, 0.619, 0.619, 0.619, 0.618, 0.619, 0.619, 0.618, 0.618, 0.619, 0.619, 0.619, 0.619, 0.619, 0.619, 0.618, 0.619, 0.619, 0.619, 0.619, 0.618, 0.619, 0.619, 0.619, 0.619, 0.619, 0.619, 0.618, 0.619, 0.619, 0.619, 0.619, 0.619, 0.619, 0.619, 0.619, 0.619, 0.619, 0.619, 0.619, 0.617, 0.619, 0.619, 0.619, 0.618, 0.619, 0.619, 0.619, 0.619, 0.619, 0.619, 0.619, 0.619, 0.619, 0.619, 0.618, 0.619, 0.619, 0.619, 0.619, 0.619, 0.619, 0.619, 0.619, 0.619, 0.619, 0.619, 0.619, 0.619, 0.619, 0.619, 0.619, 0.619, 0.619, 0.619, 0.619, 0.619, 0.619, 0.619, 0.619, 0.619, 0.619, 0.619, 0.619, 0.619, 0.619, 0.619, 0.619, 0.619, 0.619, 0.619, 0.619, 0.619, 0.619, 0.619, 0.619, 0.619, 0.619, 0.619, 0.619, 0.619, 0.619, 0.618, 0.619, 0.619, 0.618, 0.619, 0.619, 0.619, 0.619, 0.619, 0.619, 0.619, 0.619, 0.619, 0.619, 0.619, 0.619, 0.619, 0.619, 0.619, 0.619, 0.619, 0.619, 0.619, 0.619, 0.619, 0.619, 0.619, 0.619, 0.619, 0.619, 0.618, 0.619, 0.619, 0.619, 0.619, 0.619, 0.619, 0.619, 0.619, 0.619, 0.619, 0.619, 0.619, 0.619, 0.619, 0.619, 0.619, 0.619, 0.619, 0.618, 0.619, 0.618, 0.619, 0.619, 0.619, 0.619, 0.619, 0.619, 0.619, 0.619, 0.618, 0.619, 0.619, 0.619, 0.619, 0.619, 0.619, 0.619, 0.619, 0.619, 0.619, 0.618, 0.619, 0.619, 0.619, 0.619, 0.619, 0.619, 0.619, 0.619, 0.619, 0.619, 0.619, 0.619, 0.619, 0.619, 0.619, 0.619, 0.619, 0.619, 0.619, 0.619, 0.619, 0.619, 0.619, 0.619, 0.619, 0.619, 0.619, 0.619, 0.619, 0.619, 0.619, 0.619, 0.618, 0.619, 0.619, 0.619, 0.619, 0.619, 0.619, 0.619, 0.619, 0.619, 0.619, 0.619, 0.618, 0.619, 0.619, 0.619, 0.619, 0.619, 0.619, 0.619, 0.619, 0.619, 0.619, 0.619, 0.619, 0.619, 0.619, 0.619, 0.619, 0.619, 0.618, 0.619, 0.619, 0.619, 0.619, 0.618, 0.619, 0.619, 0.59, 0.619, 0.619, 0.619, 0.619, 0.619, 0.619, 0.61, 0.619, 0.619, 0.618, 0.619, 0.619, 0.619, 0.619, 0.619, 0.619, 0.619, 0.619, 0.619, 0.618, 0.619, 0.619, 0.619, 0.619, 0.619, 0.619, 0.619, 0.619, 0.619, 0.619, 0.619, 0.619, 0.619, 0.619, 0.619, 0.619, 0.619, 0.619, 0.619, 0.619, 0.619, 0.619, 0.619, 0.619, 0.619, 0.619, 0.619, 0.619, 0.619, 0.619, 0.619, 0.619, 0.619, 0.619, 0.611, 0.619, 0.619, 0.619, 0.619, 0.619, 0.619, 0.619, 0.619, 0.619, 0.619, 0.619, 0.619, 0.619, 0.619, 0.619, 0.619, 0.619, 0.619, 0.619, 0.619, 0.619, 0.619, 0.619, 0.619, 0.619, 0.619, 0.619, 0.619, 0.619, 0.619, 0.619, 0.619, 0.619, 0.619, 0.619, 0.619, 0.619, 0.619, 0.619, 0.619, 0.619, 0.619, 0.619, 0.619, 0.619, 0.619, 0.619, 0.619, 0.619, 0.619, 0.619, 0.619, 0.619, 0.619, 0.619, 0.619, 0.619, 0.619, 0.619, 0.619, 0.619, 0.619, 0.619, 0.619, 0.619, 0.619, 0.619, 0.619, 0.619, 0.619, 0.619, 0.619, 0.619, 0.619, 0.619, 0.619, 0.619, 0.619, 0.619, 0.619, 0.619, 0.619, 0.619, 0.619, 0.619, 0.619, 0.619, 0.617, 0.619, 0.612, 0.619, 0.619, 0.619, 0.618, 0.619, 0.619, 0.619, 0.619, 0.619, 0.619, 0.619, 0.619, 0.618, 0.619, 0.619, 0.619, 0.619, 0.619, 0.619, 0.619, 0.619, 0.619, 0.619, 0.619, 0.619, 0.619, 0.619, 0.619, 0.619, 0.619, 0.619, 0.619, 0.619, 0.619, 0.619, 0.619, 0.619, 0.619, 0.619, 0.619, 0.619, 0.619, 0.619, 0.619, 0.619, 0.619, 0.619, 0.619, 0.619, 0.619, 0.619, 0.619, 0.619, 0.619, 0.619, 0.619, 0.619, 0.619, 0.619, 0.619, 0.619, 0.619, 0.619, 0.619, 0.619, 0.619, 0.619, 0.619, 0.619, 0.619, 0.619, 0.619, 0.619, 0.619, 0.619, 0.619, 0.619, 0.619, 0.618, 0.619, 0.619, 0.618, 0.619, 0.619, 0.619, 0.619, 0.619, 0.619, 0.619, 0.619, 0.619, 0.619, 0.618, 0.619, 0.619, 0.619, 0.619, 0.619, 0.619, 0.619, 0.619, 0.619, 0.619, 0.619, 0.619, 0.619, 0.619, 0.619, 0.619, 0.619, 0.619, 0.619, 0.619, 0.619, 0.618, 0.619, 0.619, 0.613, 0.619, 0.619, 0.619, 0.619, 0.619, 0.618, 0.619, 0.618, 0.619, 0.619, 0.619, 0.619, 0.619, 0.619, 0.619, 0.619, 0.619, 0.619, 0.619, 0.619, 0.619, 0.619, 0.619, 0.619, 0.619, 0.619, 0.619, 0.619, 0.619, 0.619, 0.619, 0.619, 0.619, 0.619, 0.619, 0.619, 0.619, 0.619, 0.619, 0.619, 0.619, 0.619, 0.619, 0.619, 0.619, 0.619, 0.619, 0.619, 0.619, 0.619, 0.619, 0.619, 0.619, 0.619, 0.619, 0.614, 0.619, 0.619, 0.618, 0.619, 0.619, 0.619, 0.619, 0.619, 0.619, 0.619, 0.619, 0.619, 0.619, 0.618, 0.619, 0.619, 0.619, 0.619, 0.619, 0.619, 0.619, 0.619, 0.619, 0.619, 0.619, 0.619, 0.619, 0.619, 0.619, 0.619, 0.619, 0.619, 0.619, 0.619, 0.619, 0.619, 0.619, 0.618, 0.619, 0.619, 0.619, 0.619, 0.619, 0.619, 0.618, 0.619, 0.619, 0.619, 0.619, 0.619, 0.619, 0.619, 0.619, 0.619, 0.619, 0.619, 0.619, 0.619, 0.619, 0.619, 0.619, 0.619, 0.619, 0.619, 0.619, 0.619, 0.619, 0.619, 0.619, 0.619, 0.619, 0.619, 0.619, 0.619, 0.619, 0.619, 0.619, 0.619, 0.619, 0.619, 0.619, 0.616, 0.619, 0.619, 0.619, 0.619, 0.619, 0.619, 0.619, 0.619, 0.619, 0.618, 0.619, 0.619, 0.619, 0.619, 0.619, 0.619, 0.619, 0.619, 0.619, 0.619, 0.619, 0.619, 0.619, 0.619, 0.619, 0.619, 0.619, 0.619, 0.619, 0.619, 0.618, 0.609, 0.619, 0.619, 0.619, 0.619, 0.619, 0.619, 0.619, 0.619, 0.619, 0.619, 0.619, 0.619, 0.619, 0.619, 0.619, 0.619, 0.619, 0.619, 0.619, 0.619, 0.619, 0.619, 0.619, 0.619, 0.619, 0.619, 0.619, 0.619, 0.619, 0.619, 0.619, 0.619, 0.619, 0.619, 0.619, 0.619, 0.619, 0.619, 0.619, 0.619, 0.619, 0.619, 0.619, 0.619, 0.619, 0.619, 0.619, 0.619, 0.619, 0.619, 0.619, 0.619, 0.619, 0.619, 0.619, 0.619, 0.618, 0.619, 0.619, 0.619, 0.619, 0.619, 0.619, 0.619, 0.619, 0.619, 0.619, 0.619, 0.619, 0.619, 0.619, 0.619, 0.619, 0.619, 0.619, 0.619, 0.619, 0.619, 0.619, 0.619, 0.619, 0.619, 0.619, 0.619, 0.619, 0.619, 0.619, 0.619, 0.619, 0.619, 0.619, 0.619, 0.619, 0.619, 0.619, 0.619, 0.619, 0.619, 0.619, 0.619, 0.619, 0.619, 0.619, 0.619, 0.619, 0.619, 0.619, 0.619, 0.619, 0.619, 0.619, 0.619, 0.619, 0.619, 0.619, 0.619, 0.619, 0.619, 0.617, 0.615, 0.619, 0.619, 0.619, 0.619, 0.619, 0.619, 0.619, 0.619, 0.619, 0.619, 0.619, 0.619, 0.619, 0.619, 0.619, 0.619, 0.619, 0.619, 0.619, 0.619, 0.619, 0.619, 0.619, 0.619, 0.618, 0.619, 0.619, 0.619, 0.619, 0.619, 0.619, 0.619, 0.619, 0.619, 0.619, 0.619, 0.619, 0.619, 0.619, 0.619, 0.619, 0.618, 0.618, 0.619, 0.619, 0.619, 0.619, 0.619, 0.618, 0.619, 0.619, 0.619, 0.619, 0.619, 0.619, 0.619, 0.616, 0.619, 0.619, 0.619, 0.619, 0.619, 0.618, 0.619, 0.619, 0.619, 0.619, 0.618, 0.619, 0.619, 0.619, 0.619, 0.619, 0.619, 0.619, 0.619, 0.619, 0.619, 0.619, 0.619, 0.619, 0.619, 0.619, 0.619, 0.619, 0.619, 0.619, 0.619, 0.619, 0.619, 0.619, 0.619, 0.619, 0.619, 0.619, 0.619, 0.619, 0.619, 0.619, 0.619, 0.619, 0.619, 0.619, 0.619, 0.619, 0.619, 0.619, 0.619, 0.619, 0.619, 0.619, 0.619, 0.619, 0.619, 0.619, 0.619, 0.619, 0.619, 0.619, 0.618, 0.619, 0.619, 0.619, 0.619, 0.619, 0.619, 0.619, 0.619, 0.619, 0.619, 0.619, 0.619, 0.619, 0.619, 0.619, 0.619, 0.618, 0.619, 0.619, 0.619, 0.619, 0.619, 0.619, 0.619, 0.619, 0.619, 0.619, 0.619, 0.619, 0.619, 0.619, 0.619, 0.619, 0.619, 0.619, 0.619, 0.619, 0.619, 0.619, 0.619, 0.619, 0.619, 0.619, 0.619, 0.619, 0.619, 0.619, 0.619, 0.619, 0.619, 0.619, 0.619, 0.619, 0.619, 0.619, 0.619, 0.619, 0.619, 0.619, 0.619, 0.619, 0.619, 0.619, 0.619, 0.619, 0.619, 0.619, 0.619, 0.619, 0.619, 0.619, 0.619, 0.619, 0.619, 0.619, 0.619, 0.619, 0.619, 0.619, 0.619, 0.619, 0.619, 0.618, 0.619, 0.619, 0.619, 0.619, 0.619, 0.619, 0.557, 0.619, 0.619, 0.618, 0.619, 0.619, 0.604, 0.619, 0.619, 0.619, 0.619, 0.619, 0.619, 0.619, 0.619, 0.619, 0.619, 0.619, 0.619, 0.619, 0.619, 0.619, 0.619, 0.619, 0.619, 0.619, 0.619, 0.619, 0.619, 0.619, 0.619, 0.619, 0.619, 0.619, 0.619, 0.619, 0.619, 0.619, 0.619, 0.619, 0.619, 0.619, 0.619, 0.619, 0.618, 0.619, 0.619, 0.618, 0.619, 0.619, 0.619, 0.619, 0.619, 0.619, 0.619, 0.619, 0.618, 0.619, 0.619, 0.619, 0.619, 0.619, 0.619, 0.619, 0.618, 0.619, 0.619, 0.619, 0.619, 0.619, 0.619, 0.619, 0.619, 0.619, 0.619, 0.619, 0.619, 0.619, 0.619, 0.619, 0.619, 0.619, 0.619, 0.619, 0.619, 0.619, 0.619, 0.619, 0.619, 0.619, 0.619, 0.619, 0.619, 0.619, 0.619, 0.619, 0.619, 0.619, 0.619, 0.619, 0.619, 0.619, 0.619, 0.619, 0.619, 0.619, 0.619, 0.619, 0.619, 0.619, 0.619, 0.619, 0.619, 0.619, 0.619, 0.619, 0.619, 0.619, 0.619, 0.619, 0.619, 0.619, 0.619, 0.619, 0.617, 0.619, 0.619, 0.619, 0.619, 0.619, 0.619, 0.619, 0.619, 0.619, 0.619, 0.618, 0.619, 0.619, 0.619, 0.619, 0.619, 0.619, 0.619, 0.619, 0.619, 0.619, 0.619, 0.619, 0.619, 0.619, 0.619, 0.619, 0.619, 0.619, 0.619, 0.619, 0.619, 0.619, 0.618, 0.619, 0.619, 0.619, 0.619, 0.619, 0.619, 0.619, 0.619, 0.619, 0.619, 0.619, 0.619, 0.619, 0.619, 0.619, 0.619, 0.619, 0.619, 0.617, 0.619, 0.619, 0.619, 0.619, 0.619, 0.619, 0.619, 0.619, 0.619, 0.619, 0.619, 0.619, 0.619, 0.619, 0.618, 0.619, 0.619, 0.619, 0.619, 0.619, 0.619, 0.619, 0.619, 0.619, 0.619, 0.619, 0.619, 0.619, 0.619, 0.619, 0.619, 0.619, 0.619, 0.616, 0.611, 0.619, 0.619, 0.618, 0.619, 0.619, 0.619, 0.619, 0.619, 0.619, 0.619, 0.619, 0.619, 0.619, 0.619, 0.619, 0.617, 0.619, 0.619, 0.619, 0.619, 0.619, 0.619, 0.619, 0.619, 0.619, 0.619, 0.619, 0.619, 0.619, 0.619, 0.619, 0.619, 0.619, 0.619, 0.618, 0.619, 0.619, 0.619, 0.619, 0.619, 0.619, 0.619, 0.619, 0.619, 0.619, 0.619, 0.619, 0.619, 0.617, 0.619, 0.619, 0.619, 0.619, 0.619, 0.592, 0.619, 0.619, 0.619, 0.619, 0.619, 0.619, 0.619, 0.618, 0.619, 0.619, 0.619, 0.619, 0.619, 0.619, 0.619, 0.619, 0.619, 0.619, 0.619, 0.618, 0.619, 0.619, 0.618, 0.619, 0.618, 0.619, 0.619, 0.619, 0.619, 0.619, 0.619, 0.619, 0.619, 0.619, 0.619, 0.619, 0.619, 0.619, 0.619, 0.619, 0.619, 0.619, 0.619, 0.619, 0.613, 0.619, 0.619, 0.619, 0.619, 0.619, 0.619, 0.619, 0.619, 0.619, 0.619, 0.619, 0.619, 0.619, 0.619, 0.619, 0.619, 0.619, 0.619, 0.619, 0.619, 0.619, 0.619, 0.619, 0.619, 0.618, 0.619, 0.619, 0.619, 0.619, 0.619, 0.619, 0.619, 0.619, 0.619, 0.619, 0.619, 0.619, 0.619, 0.619, 0.619, 0.619, 0.619, 0.619, 0.619, 0.619, 0.619, 0.619, 0.619, 0.619, 0.619, 0.619, 0.619, 0.619, 0.619, 0.619, 0.619, 0.619, 0.619, 0.619, 0.619, 0.619, 0.619, 0.619, 0.619, 0.619, 0.619, 0.619, 0.619, 0.619, 0.619, 0.619, 0.619, 0.619, 0.619, 0.619, 0.619, 0.618, 0.619, 0.619, 0.619, 0.619, 0.619, 0.619, 0.619, 0.619, 0.619, 0.619, 0.619, 0.619, 0.619, 0.619, 0.619, 0.619, 0.619, 0.619, 0.619, 0.619, 0.619, 0.619, 0.619, 0.619, 0.619, 0.619, 0.619, 0.619, 0.619, 0.619, 0.619, 0.619, 0.619, 0.619, 0.619, 0.619, 0.619, 0.619, 0.619, 0.619, 0.619, 0.619, 0.619, 0.619, 0.619, 0.619, 0.618, 0.618, 0.619, 0.619, 0.618, 0.619, 0.619, 0.619, 0.619, 0.619, 0.619, 0.618, 0.619, 0.619, 0.619, 0.619, 0.619, 0.619, 0.619, 0.619, 0.619, 0.619, 0.619, 0.619, 0.619, 0.619, 0.619, 0.619, 0.619, 0.615, 0.619, 0.619, 0.619, 0.619, 0.619, 0.619, 0.619, 0.619, 0.619, 0.618, 0.618, 0.619, 0.618, 0.619, 0.619, 0.619, 0.619, 0.619, 0.619, 0.619, 0.619, 0.619, 0.619, 0.619, 0.619, 0.619, 0.619, 0.619, 0.619, 0.618, 0.619, 0.617, 0.619, 0.619, 0.618, 0.618, 0.617, 0.619, 0.619, 0.619, 0.619, 0.619, 0.619, 0.619, 0.619]\n"
          ],
          "name": "stdout"
        },
        {
          "output_type": "execute_result",
          "data": {
            "text/plain": [
              "{0.514: 1,\n",
              " 0.556: 1,\n",
              " 0.557: 1,\n",
              " 0.59: 1,\n",
              " 0.591: 1,\n",
              " 0.592: 1,\n",
              " 0.604: 1,\n",
              " 0.609: 3,\n",
              " 0.61: 1,\n",
              " 0.611: 2,\n",
              " 0.612: 1,\n",
              " 0.613: 2,\n",
              " 0.614: 2,\n",
              " 0.615: 3,\n",
              " 0.616: 4,\n",
              " 0.617: 13,\n",
              " 0.618: 103,\n",
              " 0.619: 2163}"
            ]
          },
          "metadata": {
            "tags": []
          },
          "execution_count": 178
        }
      ]
    },
    {
      "cell_type": "code",
      "metadata": {
        "colab": {
          "base_uri": "https://localhost:8080/"
        },
        "id": "cy6eRPHfdTYr",
        "outputId": "385b5540-5205-40f8-853d-2245f2f73736"
      },
      "source": [
        "X3 = make_dataset(data_f3.drop(columns=['Age','Gender','Status']),'f3')\n",
        "gains = feature_importance_mutual(X3,data_f3.Status)\n",
        "print(list(gains))\n",
        "my_dict = {i:list(gains).count(i) for i in list(gains)}\n",
        "my_dict"
      ],
      "execution_count": null,
      "outputs": [
        {
          "output_type": "stream",
          "text": [
            "[1.03, 1.031, 1.031, 1.031, 1.029, 1.031, 1.031, 1.031, 1.031, 1.03, 1.031, 1.031, 1.031, 1.029, 1.031, 1.031, 1.031, 1.031, 1.031, 1.031, 1.031, 1.031, 1.03, 1.031, 1.031, 1.031, 1.031, 1.031, 1.031, 1.031, 1.031, 1.031, 1.031, 1.031, 1.031, 1.031, 1.031, 1.031, 1.031, 1.031, 1.031, 1.031, 1.031, 1.031, 1.03, 1.03, 1.031, 1.031, 1.031, 1.031, 1.03, 1.031, 1.031, 1.031, 1.031, 1.031, 1.031, 1.031, 1.031, 1.031, 1.031, 1.031, 1.031, 1.031, 1.031, 1.031, 1.031, 1.031, 1.031, 1.031, 1.031, 1.031, 1.031, 1.031, 1.031, 0.999, 1.031, 1.03, 1.031, 1.031, 1.031, 1.031, 1.031, 1.031, 1.031, 1.031, 1.031, 1.031, 1.03, 1.031, 1.031, 1.031, 1.031, 1.031, 1.031, 1.031, 1.031, 1.031, 1.031, 1.031, 1.031, 1.031, 1.031, 1.031, 1.031, 1.031, 1.031, 1.031, 1.031, 1.031, 1.031, 1.031, 1.031, 1.031, 1.031, 1.031, 1.031, 1.031, 1.031, 1.031, 1.031, 1.031, 1.031, 1.031, 1.031, 1.031, 1.031, 1.031, 1.031, 1.031, 1.031, 1.031, 1.031, 1.031, 1.031, 1.031, 1.031, 1.031, 1.031, 1.031, 1.031, 1.031, 1.031, 1.031, 1.031, 1.031, 1.031, 1.031, 1.031, 1.03, 1.031, 1.031, 1.031, 1.031, 1.031, 1.031, 1.031, 1.031, 1.031, 1.031, 1.029, 1.031, 1.031, 1.03, 1.031, 1.03, 1.031, 1.031, 1.031, 1.031, 1.03, 1.031, 1.031, 1.031, 1.031, 1.031, 1.031, 1.031, 1.031, 1.031, 1.031, 1.031, 1.031, 1.031, 1.031, 1.031, 1.031, 1.031, 1.031, 1.031, 1.031, 1.031, 1.031, 1.031, 1.031, 1.031, 1.03, 1.031, 1.031, 1.03, 1.031, 1.031, 1.031, 1.031, 1.031, 1.031, 1.031, 1.031, 1.031, 1.031, 1.031, 1.031, 1.019, 1.031, 1.031, 1.031, 1.031, 1.031, 1.031, 1.031, 1.031, 1.031, 1.031, 1.031, 1.031, 1.031, 1.031, 1.031, 1.031, 1.028, 1.031, 1.031, 1.031, 1.031, 1.031, 1.031, 1.031, 1.031, 1.031, 1.031, 1.03, 1.031, 1.031, 1.031, 1.031, 1.031, 1.031, 1.031, 1.031, 1.031, 1.031, 1.031, 1.031, 1.031, 1.031, 1.031, 1.031, 1.031, 1.031, 1.031, 1.031, 1.031, 1.031, 1.031, 1.031, 1.031, 1.031, 1.031, 1.031, 1.031, 1.031, 1.031, 1.031, 1.031, 1.031, 1.03, 1.031, 1.031, 1.031, 1.031, 1.031, 1.031, 1.031, 1.031, 1.031, 1.031, 1.031, 1.031, 1.031, 1.031, 1.031, 1.031, 1.031, 1.031, 1.031, 1.031, 1.031, 1.031, 1.031, 1.031, 1.031, 1.031, 1.031, 1.031, 1.031, 1.031, 1.031, 1.031, 1.031, 1.031, 1.031, 1.031, 1.031, 1.031, 1.031, 1.031, 1.031, 1.031, 1.031, 1.031, 1.031, 1.031, 1.031, 1.029, 1.031, 1.031, 1.031, 1.031, 1.031, 1.03, 1.031, 1.031, 1.031, 1.031, 1.031, 1.031, 1.03, 1.031, 1.031, 1.031, 1.031, 1.031, 1.031, 1.031, 1.031, 1.031, 1.031, 1.031, 1.031, 1.031, 1.031, 1.031, 1.031, 1.031, 1.031, 1.031, 1.031, 1.031, 1.031, 1.031, 1.031, 1.031, 1.031, 1.031, 1.031, 1.03, 1.031, 1.031, 1.031, 1.031, 1.031, 1.031, 1.031, 1.03, 1.031, 1.029, 1.031, 1.031, 1.031, 1.031, 1.031, 1.031, 1.031, 1.031, 1.031, 1.031, 1.031, 1.031, 1.031, 1.031, 1.031, 1.031, 1.031, 1.031, 1.031, 1.031, 1.031, 1.031, 1.031, 1.031, 1.031, 1.031, 1.031, 1.022, 1.031, 1.031, 1.031, 1.031, 1.03, 1.031, 1.031, 1.031, 1.031, 1.03, 1.031, 1.031, 1.031, 1.031, 1.029, 1.031, 1.031, 1.031, 1.025, 1.027, 1.031, 1.031, 1.031, 1.031, 1.031, 1.031, 1.031, 1.031, 1.031, 1.031, 1.031, 1.031, 1.031, 1.031, 1.031, 1.031, 1.031, 1.031, 1.031, 1.031, 1.031, 1.031, 1.031, 1.031, 1.031, 1.031, 1.031, 1.031, 1.031, 1.031, 1.031, 1.031, 1.031, 1.031, 1.031, 1.031, 1.031, 1.031, 1.031, 1.031, 1.031, 1.031, 1.031, 1.031, 1.031, 1.031, 1.031, 1.031, 1.031, 1.031, 1.031, 1.031, 1.031, 1.031, 1.031, 1.03, 1.031, 1.031, 1.031, 1.031, 1.031, 1.031, 1.03, 1.031, 1.031, 1.031, 1.031, 1.031, 1.031, 1.031, 1.031, 1.031, 1.031, 1.031, 1.03, 1.031, 1.031, 1.031, 1.031, 1.031, 1.031, 1.031, 1.031, 1.031, 1.031, 1.031, 1.031, 1.031, 1.031, 1.031, 1.031, 1.031, 1.031, 1.031, 1.031, 1.031, 1.03, 1.031, 1.031, 1.031, 1.031, 1.031, 1.031, 1.031, 1.031, 1.031, 1.031, 1.031, 1.031, 1.03, 1.031, 1.031, 1.031, 1.031, 1.031, 1.031, 1.031, 1.031, 1.03, 1.031, 1.031, 1.031, 1.031, 1.031, 1.031, 1.031, 1.031, 1.031, 1.031, 1.031, 1.031, 1.031, 1.031, 0.926, 1.031, 1.031, 1.031, 1.031, 1.03, 1.031, 1.031, 1.031, 1.031, 1.02, 1.031, 1.031, 1.031, 1.031, 1.031, 1.031, 1.031, 1.031, 1.031, 1.031, 1.031, 1.031, 1.031, 1.031, 1.031, 1.031, 1.031, 1.029, 1.031, 1.031, 1.031, 1.03, 1.031, 1.031, 1.031, 1.029, 1.031, 1.031, 1.031, 1.031, 1.031, 1.031, 1.031, 1.031, 1.031, 1.031, 1.031, 1.031, 1.031, 1.031, 1.031, 1.031, 1.031, 1.031, 1.031, 1.031, 1.031, 1.031, 1.031, 1.031, 1.03, 1.031, 1.031, 1.031, 1.031, 1.031, 1.031, 1.031, 1.031, 1.031, 1.031, 1.031, 1.031, 1.031, 1.031, 1.031, 1.031, 1.031, 1.031, 1.031, 1.031, 1.031, 1.031, 1.031, 1.031, 1.031, 1.031, 1.031, 1.031, 1.031, 1.031, 1.031, 1.031, 1.031, 1.03, 1.031, 1.031, 1.031, 1.031, 1.03, 1.031, 1.031, 1.031, 1.031, 1.03, 1.031, 1.031, 1.031, 1.031, 1.031, 1.031, 1.031, 1.031, 1.031, 1.031, 1.031, 1.031, 1.03, 1.031, 1.031, 1.031, 1.031, 1.031, 0.836, 1.031, 1.031, 1.029, 1.031, 1.031, 1.031, 1.031, 1.031, 1.031, 1.031, 1.031, 1.031, 1.031, 1.031, 1.031, 1.031, 1.03, 1.031, 1.03, 1.031, 1.031, 1.031, 1.031, 1.031, 1.031, 1.03, 1.031, 1.03, 1.031, 1.031, 1.031, 1.031, 1.031, 1.031, 1.031, 1.031, 1.031, 1.031, 1.031, 1.031, 1.031, 1.031, 1.031, 1.031, 1.031, 1.031, 1.031, 1.03, 1.031, 1.031, 1.031, 1.031, 1.031, 1.031, 1.031, 1.031, 1.031, 1.031, 1.031, 1.031, 1.031, 1.031, 1.031, 1.031, 1.031, 1.031, 1.031, 1.031, 1.031, 1.03, 1.031, 1.031, 1.031, 1.031, 1.031, 1.031, 1.031, 1.031, 1.031, 1.031, 1.031, 1.031, 1.031, 1.031, 1.031, 1.03, 1.031, 1.031, 1.031, 1.031, 1.031, 1.031, 1.031, 1.031, 1.031, 1.031, 1.031, 1.031, 1.031, 1.031, 1.031, 1.031, 1.029, 1.031, 1.031, 1.031, 1.031, 1.031, 1.03, 1.031, 1.031, 1.031, 1.031, 1.031, 1.031, 1.031, 1.031, 1.031, 1.031, 1.029, 1.031, 1.031, 1.031, 1.031, 1.03, 1.031, 1.031, 1.031, 1.031, 1.031, 1.031, 1.03, 1.031, 1.031, 1.031, 1.031, 1.031, 1.031, 1.031, 1.031, 1.031, 1.031, 1.031, 1.031, 1.031, 1.031, 1.031, 1.031, 1.031, 1.031, 1.031, 1.031, 1.031, 1.031, 1.031, 1.031, 1.031, 1.031, 1.03, 1.031, 1.03, 1.031, 1.031, 1.031, 1.031, 1.031, 1.031, 1.031, 1.031, 1.031, 1.031, 1.031, 1.031, 1.031, 1.031, 1.031, 1.031, 1.03, 1.031, 1.03, 1.031, 1.031, 1.031, 1.031, 1.03, 1.031, 1.031, 1.031, 1.031, 1.031, 1.031, 1.031, 1.031, 1.031, 1.031, 1.031, 1.031, 1.031, 1.031, 1.031, 1.031, 1.031, 1.031, 1.031, 1.031, 1.031, 1.03, 1.031, 1.031, 1.029, 1.031, 1.031, 1.031, 1.031, 1.03, 1.031, 1.031, 1.031, 1.031, 1.031, 1.031, 1.031, 1.031, 1.031, 1.031, 1.031, 1.031, 1.031, 1.031, 1.031, 1.031, 1.031, 1.031, 1.031, 1.031, 1.031, 1.03, 1.031, 1.031, 1.031, 1.031, 1.031, 1.031, 1.031, 1.031, 1.031, 1.03, 1.031, 1.031, 1.031, 1.031, 1.031, 1.031, 1.031, 1.031, 1.03, 1.031, 1.031, 1.031, 1.031, 1.029, 1.031, 1.031, 1.031, 1.031, 1.03, 1.03, 1.031, 1.031, 1.031, 1.031, 1.031, 1.031, 1.031, 1.031, 1.031, 1.031, 1.03, 1.031, 1.031, 1.031, 1.031, 1.031, 1.031, 1.031, 1.031, 1.031, 1.031, 1.031, 1.031, 1.031, 1.031, 1.031, 1.031, 1.031, 1.031, 1.031, 1.031, 1.031, 1.031, 1.031, 1.031, 1.031, 1.031, 1.031, 1.031, 1.031, 1.031, 1.031, 1.031, 1.031, 1.031, 1.031, 1.031, 1.031, 1.031, 1.03, 1.031, 1.031, 1.031, 1.031, 1.031, 1.03, 1.031, 1.031, 1.031, 1.031, 1.031, 1.031, 1.031, 1.031, 1.031, 1.031, 1.031, 1.031, 1.031, 1.031, 1.031, 1.031, 1.031, 1.03, 1.031, 1.031, 1.031, 1.031, 1.031, 1.031, 1.031, 0.982, 1.031, 1.031, 1.031, 1.031, 1.031, 1.031, 1.018, 1.031, 1.031, 1.03, 1.031, 1.031, 1.031, 1.031, 1.031, 1.031, 1.031, 1.031, 1.031, 1.029, 1.031, 1.031, 1.031, 1.031, 1.031, 1.031, 1.031, 1.031, 1.031, 1.031, 1.031, 1.031, 1.03, 1.031, 1.031, 1.031, 1.031, 1.031, 1.031, 1.031, 1.031, 1.031, 1.031, 1.031, 1.031, 1.031, 1.031, 1.031, 1.031, 1.031, 1.031, 1.031, 1.031, 1.031, 1.02, 1.031, 1.031, 1.031, 1.031, 1.031, 1.031, 1.031, 1.031, 1.031, 1.031, 1.031, 1.029, 1.031, 1.031, 1.031, 1.031, 1.031, 1.031, 1.031, 1.031, 1.031, 1.031, 1.03, 1.031, 1.031, 1.031, 1.031, 1.031, 1.031, 1.031, 1.031, 1.03, 1.031, 1.031, 1.031, 1.031, 1.031, 1.031, 1.031, 1.031, 1.031, 1.031, 1.031, 1.031, 1.031, 1.031, 1.031, 1.031, 1.031, 1.031, 1.031, 1.031, 1.031, 1.031, 1.031, 1.031, 1.031, 1.031, 1.031, 1.031, 1.031, 1.031, 1.031, 1.031, 1.031, 1.031, 1.031, 1.031, 1.031, 1.031, 1.031, 1.031, 1.031, 1.031, 1.031, 1.031, 1.031, 1.031, 1.031, 1.031, 1.031, 1.031, 1.031, 1.031, 1.031, 1.031, 1.031, 1.028, 1.031, 1.023, 1.031, 1.031, 1.03, 1.03, 1.031, 1.031, 1.031, 1.031, 1.031, 1.031, 1.031, 1.031, 1.03, 1.031, 1.031, 1.031, 1.031, 1.031, 1.031, 1.031, 1.031, 1.031, 1.031, 1.031, 1.031, 1.031, 1.031, 1.031, 1.031, 1.031, 1.031, 1.031, 1.031, 1.031, 1.031, 1.031, 1.031, 1.031, 1.031, 1.031, 1.031, 1.031, 1.031, 1.031, 1.031, 1.031, 1.031, 1.031, 1.031, 1.031, 1.031, 1.031, 1.031, 1.031, 1.031, 1.031, 1.031, 1.031, 1.031, 1.031, 1.031, 1.031, 1.031, 1.031, 1.031, 1.031, 1.031, 1.031, 1.031, 1.031, 1.031, 1.031, 1.031, 1.031, 1.031, 1.031, 1.031, 1.03, 1.03, 1.031, 1.031, 1.031, 1.031, 1.031, 1.031, 1.031, 1.031, 1.031, 1.031, 1.031, 1.031, 1.031, 1.031, 1.031, 1.031, 1.031, 1.031, 1.03, 1.031, 1.031, 1.031, 1.031, 1.031, 1.031, 1.031, 1.031, 1.031, 1.031, 1.031, 1.031, 1.031, 1.031, 1.031, 1.031, 1.03, 1.031, 1.031, 1.021, 1.031, 1.031, 1.03, 1.031, 1.031, 1.031, 1.031, 1.031, 1.031, 1.031, 1.031, 1.031, 1.031, 1.031, 1.031, 1.031, 1.031, 1.031, 1.031, 1.031, 1.031, 1.031, 1.031, 1.031, 1.031, 1.031, 1.031, 1.031, 1.031, 1.031, 1.031, 1.031, 1.031, 1.031, 1.03, 1.031, 1.031, 1.031, 1.031, 1.031, 1.031, 1.031, 1.031, 1.031, 1.031, 1.031, 1.031, 1.031, 1.031, 1.031, 1.031, 1.031, 1.031, 1.031, 1.031, 1.023, 1.031, 1.031, 1.031, 1.031, 1.031, 1.031, 1.031, 1.031, 1.031, 1.031, 1.031, 1.031, 1.031, 1.031, 1.031, 1.031, 1.031, 1.031, 1.031, 1.031, 1.031, 1.031, 1.031, 1.03, 1.031, 1.031, 1.031, 1.031, 1.031, 1.031, 1.031, 1.031, 1.031, 1.031, 1.031, 1.031, 1.031, 1.03, 1.031, 1.031, 1.031, 1.031, 1.031, 1.031, 1.031, 1.031, 1.031, 1.031, 1.031, 1.031, 1.031, 1.031, 1.031, 1.031, 1.031, 1.031, 1.031, 1.031, 1.031, 1.031, 1.031, 1.031, 1.031, 1.031, 1.031, 1.031, 1.031, 1.031, 1.031, 1.031, 1.031, 1.031, 1.031, 1.031, 1.031, 1.031, 1.03, 1.031, 1.031, 1.031, 1.031, 1.029, 1.031, 1.031, 1.031, 1.031, 1.031, 1.031, 1.031, 1.031, 1.031, 1.029, 1.031, 1.031, 1.031, 1.031, 1.03, 1.031, 1.031, 1.031, 1.031, 1.031, 1.031, 1.031, 1.031, 1.031, 1.031, 1.031, 1.031, 1.031, 1.031, 1.031, 1.029, 1.017, 1.031, 1.031, 1.031, 1.031, 1.031, 1.031, 1.031, 1.031, 1.031, 1.031, 1.031, 1.031, 1.031, 1.031, 1.031, 1.031, 1.031, 1.031, 1.031, 1.031, 1.031, 1.031, 1.031, 1.03, 1.031, 1.031, 1.031, 1.031, 1.031, 1.031, 1.031, 1.031, 1.031, 1.031, 1.031, 1.031, 1.031, 1.031, 1.031, 1.031, 1.031, 1.031, 1.03, 1.031, 1.031, 1.031, 1.031, 1.031, 1.031, 1.031, 1.031, 1.031, 1.031, 1.031, 1.031, 1.031, 1.029, 1.031, 1.031, 1.031, 1.031, 1.031, 1.031, 1.031, 1.031, 1.031, 1.031, 1.031, 1.031, 1.031, 1.031, 1.031, 1.031, 1.031, 1.031, 1.031, 1.031, 1.031, 1.031, 1.031, 1.031, 1.031, 1.03, 1.031, 1.031, 1.031, 1.031, 1.031, 1.031, 1.031, 1.031, 1.031, 1.03, 1.031, 1.031, 1.031, 1.031, 1.031, 1.031, 1.031, 1.031, 1.031, 1.031, 1.03, 1.031, 1.031, 1.031, 1.031, 1.031, 1.031, 1.031, 1.031, 1.031, 1.031, 1.031, 1.031, 1.031, 1.031, 1.029, 1.024, 1.031, 1.031, 1.031, 1.031, 1.031, 1.031, 1.031, 1.031, 1.031, 1.031, 1.031, 1.031, 1.03, 1.031, 1.031, 1.031, 1.031, 1.031, 1.031, 1.031, 1.031, 1.031, 1.031, 1.031, 1.031, 1.031, 1.031, 1.031, 1.031, 1.031, 1.031, 1.031, 1.031, 1.031, 1.031, 1.031, 1.03, 1.031, 1.031, 1.031, 1.031, 1.029, 1.03, 1.031, 1.031, 1.031, 1.031, 1.031, 1.03, 1.031, 1.031, 1.031, 1.031, 1.031, 1.031, 1.031, 1.028, 1.03, 1.031, 1.031, 1.031, 1.031, 1.03, 1.031, 1.031, 1.031, 1.031, 1.03, 1.031, 1.031, 1.031, 1.031, 1.031, 1.031, 1.03, 1.031, 1.031, 1.031, 1.031, 1.031, 1.031, 1.031, 1.031, 1.031, 1.031, 1.031, 1.031, 1.031, 1.03, 1.031, 1.031, 1.031, 1.031, 1.031, 1.031, 1.031, 1.031, 1.031, 1.031, 1.031, 1.031, 1.031, 1.031, 1.031, 1.031, 1.031, 1.031, 1.031, 1.031, 1.031, 1.031, 1.031, 1.031, 1.031, 1.031, 1.031, 1.031, 1.031, 1.031, 1.03, 1.031, 1.031, 1.031, 1.031, 1.031, 1.031, 1.031, 1.031, 1.031, 1.031, 1.031, 1.031, 1.031, 1.031, 1.031, 1.031, 1.03, 1.031, 1.031, 1.031, 1.031, 1.031, 1.031, 1.031, 1.031, 1.031, 1.031, 1.031, 1.031, 1.031, 1.031, 1.031, 1.031, 1.031, 1.029, 1.031, 1.031, 1.031, 1.031, 1.031, 1.031, 1.031, 1.031, 1.031, 1.031, 1.031, 1.031, 1.031, 1.031, 1.031, 1.031, 1.031, 1.031, 1.031, 1.031, 1.031, 1.031, 1.031, 1.031, 1.031, 1.031, 1.031, 1.031, 1.031, 1.031, 1.031, 1.031, 1.031, 1.031, 1.031, 1.031, 1.031, 1.031, 1.031, 1.031, 1.031, 1.031, 1.031, 1.031, 1.031, 1.031, 1.031, 1.03, 1.031, 1.031, 1.031, 1.031, 1.031, 1.031, 0.942, 1.031, 1.03, 1.031, 1.031, 1.03, 0.992, 1.031, 1.031, 1.031, 1.031, 1.03, 1.031, 1.03, 1.031, 1.031, 1.031, 1.031, 1.031, 1.031, 1.031, 1.031, 1.031, 1.031, 1.031, 1.031, 1.031, 1.031, 1.031, 1.031, 1.031, 1.031, 1.031, 1.031, 1.031, 1.031, 1.031, 1.031, 1.031, 1.031, 1.031, 1.031, 1.031, 1.031, 1.03, 1.031, 1.031, 1.028, 1.03, 1.031, 1.031, 1.031, 1.031, 1.031, 1.031, 1.031, 1.03, 1.031, 1.031, 1.031, 1.031, 1.031, 1.031, 1.03, 1.03, 1.031, 1.031, 1.031, 1.031, 1.031, 1.031, 1.031, 1.031, 1.031, 1.031, 1.031, 1.031, 1.031, 1.031, 1.031, 1.031, 1.031, 1.031, 1.031, 1.031, 1.031, 1.031, 1.031, 1.031, 1.031, 1.031, 1.031, 1.031, 1.031, 1.031, 1.031, 1.031, 1.03, 1.031, 1.031, 1.031, 1.031, 1.031, 1.031, 1.031, 1.031, 1.031, 1.031, 1.031, 1.031, 1.031, 1.031, 1.031, 1.031, 1.031, 1.031, 1.031, 1.031, 1.031, 1.031, 1.031, 1.031, 1.031, 1.031, 1.03, 1.031, 1.031, 1.031, 1.031, 1.031, 1.031, 1.03, 1.031, 1.031, 1.031, 1.03, 1.031, 1.031, 1.031, 1.031, 1.031, 1.031, 1.031, 1.031, 1.031, 1.031, 1.031, 1.031, 1.031, 1.031, 1.031, 1.031, 1.031, 1.031, 1.031, 1.031, 1.031, 1.03, 1.031, 1.031, 1.031, 1.031, 1.031, 1.031, 1.031, 1.031, 1.031, 1.031, 1.031, 1.031, 1.031, 1.031, 1.031, 1.031, 1.031, 1.031, 1.031, 1.025, 1.031, 1.031, 1.03, 1.031, 1.031, 1.031, 1.031, 1.031, 1.031, 1.031, 1.031, 1.031, 1.031, 1.031, 1.03, 1.031, 1.031, 1.031, 1.031, 1.031, 1.031, 1.031, 1.031, 1.031, 1.031, 1.031, 1.031, 1.031, 1.031, 1.031, 1.031, 1.031, 1.031, 1.026, 1.018, 1.031, 1.031, 1.031, 1.031, 1.031, 1.031, 1.031, 1.031, 1.031, 1.031, 1.031, 1.031, 1.031, 1.031, 1.031, 1.027, 1.031, 1.031, 1.031, 1.03, 1.031, 1.031, 1.031, 1.031, 1.031, 1.031, 1.031, 1.031, 1.031, 1.031, 1.031, 1.031, 1.031, 1.031, 1.03, 1.031, 1.031, 1.031, 1.031, 1.031, 1.031, 1.031, 1.031, 1.031, 1.031, 1.031, 1.031, 1.031, 1.03, 1.031, 1.031, 1.031, 1.031, 1.031, 0.994, 1.031, 1.031, 1.031, 1.031, 1.031, 1.031, 1.031, 1.029, 1.031, 1.031, 1.031, 1.031, 1.031, 1.031, 1.031, 1.031, 1.031, 1.031, 1.031, 1.03, 1.031, 1.031, 1.03, 1.031, 1.03, 1.031, 1.031, 1.031, 1.031, 1.031, 1.031, 1.031, 1.031, 1.031, 1.031, 1.031, 1.03, 1.031, 1.031, 1.03, 1.031, 1.031, 1.031, 1.031, 1.02, 1.031, 1.031, 1.031, 1.031, 1.03, 1.031, 1.031, 1.031, 1.03, 1.031, 1.031, 1.031, 1.031, 1.031, 1.031, 1.031, 1.031, 1.031, 1.031, 1.031, 1.031, 1.031, 1.031, 1.031, 1.031, 1.031, 1.031, 1.031, 1.031, 1.031, 1.031, 1.031, 1.031, 1.031, 1.031, 1.031, 1.031, 1.031, 1.031, 1.03, 1.031, 1.031, 1.031, 1.031, 1.031, 1.031, 1.031, 1.031, 1.031, 1.03, 1.031, 1.031, 1.03, 1.031, 1.031, 1.031, 1.031, 1.031, 1.031, 1.031, 1.031, 1.031, 1.031, 1.031, 1.031, 1.031, 1.031, 1.031, 1.031, 1.031, 1.031, 1.031, 1.031, 1.031, 1.031, 1.031, 1.031, 1.031, 1.031, 1.031, 1.031, 1.031, 1.031, 1.031, 1.031, 1.031, 1.031, 1.031, 1.031, 1.031, 1.031, 1.031, 1.031, 1.031, 1.031, 1.031, 1.031, 1.031, 1.031, 1.031, 1.031, 1.031, 1.031, 1.031, 1.031, 1.031, 1.031, 1.031, 1.031, 1.031, 1.031, 1.03, 1.031, 1.031, 1.031, 1.031, 1.031, 1.031, 1.031, 1.031, 1.031, 1.031, 1.031, 1.031, 1.03, 1.031, 1.031, 1.029, 1.031, 1.031, 1.031, 1.031, 1.031, 1.031, 1.029, 1.031, 1.031, 1.031, 1.031, 1.031, 1.031, 1.031, 1.031, 1.031, 1.031, 1.031, 1.031, 1.031, 1.031, 1.031, 1.031, 1.031, 1.025, 1.031, 1.031, 1.031, 1.031, 1.031, 1.031, 1.031, 1.031, 1.031, 1.031, 1.031, 1.031, 1.03, 1.031, 1.031, 1.031, 1.031, 1.031, 1.031, 1.031, 1.031, 1.031, 1.031, 1.031, 1.031, 1.03, 1.031, 1.031, 1.031, 1.03, 1.031, 1.027, 1.031, 1.031, 1.029, 1.03, 1.028, 1.031, 1.031, 1.031, 1.031, 1.031, 1.031, 1.031, 1.031]\n"
          ],
          "name": "stdout"
        },
        {
          "output_type": "execute_result",
          "data": {
            "text/plain": [
              "{0.836: 1,\n",
              " 0.926: 1,\n",
              " 0.942: 1,\n",
              " 0.982: 1,\n",
              " 0.992: 1,\n",
              " 0.994: 1,\n",
              " 0.999: 1,\n",
              " 1.017: 1,\n",
              " 1.018: 2,\n",
              " 1.019: 1,\n",
              " 1.02: 3,\n",
              " 1.021: 1,\n",
              " 1.022: 1,\n",
              " 1.023: 2,\n",
              " 1.024: 1,\n",
              " 1.025: 3,\n",
              " 1.026: 1,\n",
              " 1.027: 3,\n",
              " 1.028: 5,\n",
              " 1.029: 26,\n",
              " 1.03: 130,\n",
              " 1.031: 2117}"
            ]
          },
          "metadata": {
            "tags": []
          },
          "execution_count": 179
        }
      ]
    },
    {
      "cell_type": "markdown",
      "metadata": {
        "id": "bNGBqMtHy7c6"
      },
      "source": [
        "### LDA - PCA"
      ]
    },
    {
      "cell_type": "code",
      "metadata": {
        "colab": {
          "base_uri": "https://localhost:8080/"
        },
        "id": "zcz-0WSay7dQ",
        "outputId": "98c0c606-5f91-4156-a6b3-c68708a9897c"
      },
      "source": [
        "from sklearn.discriminant_analysis import LinearDiscriminantAnalysis\n",
        "from sklearn.decomposition import PCA\n",
        "\n",
        "X3 = make_dataset(data_f3.drop(columns=['Age','Gender','Status']),'f3')\n",
        "clf = LinearDiscriminantAnalysis()\n",
        "x3_reduced = clf.fit_transform(X3,data_f3.Status)\n",
        "\n",
        "print('Label : Status')\n",
        "print('LDA features :', x3_reduced.shape)\n",
        "find_best_pca_n(X3)"
      ],
      "execution_count": null,
      "outputs": [
        {
          "output_type": "stream",
          "text": [
            "Label : Status\n",
            "LDA features : (2283, 2)\n",
            "PCA : Optimum Feature number is 12\n",
            "\n"
          ],
          "name": "stdout"
        }
      ]
    },
    {
      "cell_type": "code",
      "metadata": {
        "colab": {
          "base_uri": "https://localhost:8080/"
        },
        "id": "ocdi_h42zUBb",
        "outputId": "8acffff3-0a0b-40d0-edc4-44a0c295a5a4"
      },
      "source": [
        "X3 = make_dataset(data_f3.drop(columns=['Age','Gender','Status']),'f3')\n",
        "clf = LinearDiscriminantAnalysis()\n",
        "x3_reduced = clf.fit_transform(X3,data_f3.Age)\n",
        "\n",
        "print('Label : Age')\n",
        "print('LDA features :', x3_reduced.shape)\n",
        "find_best_pca_n(X3)"
      ],
      "execution_count": null,
      "outputs": [
        {
          "output_type": "stream",
          "text": [
            "Label : Age\n",
            "LDA features : (2283, 46)\n",
            "PCA : Optimum Feature number is 12\n",
            "\n"
          ],
          "name": "stdout"
        }
      ]
    },
    {
      "cell_type": "code",
      "metadata": {
        "colab": {
          "base_uri": "https://localhost:8080/"
        },
        "id": "2DX1ssKWzXmj",
        "outputId": "009cf22e-8dfa-4529-d29c-f80c5e3d2ec5"
      },
      "source": [
        "X3 = make_dataset(data_f3.drop(columns=['Age','Gender','Status']),'f3')\n",
        "clf = LinearDiscriminantAnalysis()\n",
        "x3_reduced = clf.fit_transform(X3,data_f3.Gender)\n",
        "\n",
        "print('Label : Gender')\n",
        "print('LDA features :', x3_reduced.shape)\n",
        "find_best_pca_n(X3)"
      ],
      "execution_count": null,
      "outputs": [
        {
          "output_type": "stream",
          "text": [
            "Label : Gender\n",
            "LDA features : (2283, 1)\n",
            "PCA : Optimum Feature number is 12\n",
            "\n"
          ],
          "name": "stdout"
        }
      ]
    },
    {
      "cell_type": "markdown",
      "metadata": {
        "id": "Iqo8DTEtdGnH"
      },
      "source": [
        "## F4"
      ]
    },
    {
      "cell_type": "markdown",
      "metadata": {
        "id": "Asud4WrEdGnI"
      },
      "source": [
        "### Linear imporatnce"
      ]
    },
    {
      "cell_type": "code",
      "metadata": {
        "colab": {
          "base_uri": "https://localhost:8080/"
        },
        "id": "PciZTF9yd7vL",
        "outputId": "d99d5451-bb13-400a-d835-49268cfe43a3"
      },
      "source": [
        "X4 = make_dataset(data_f4.drop(columns=['Age','Gender','Status']),'f4')\n",
        "x4_reduced = get_feature_importance(X4,data_f4.Gender)\n",
        "print(x4_reduced[x4_reduced>importance])\n",
        "print(\"Label : Gender\")\n",
        "print(\"number of all features: \", X4.shape[1])\n",
        "print(\"number of selected features : \", x4_reduced[x4_reduced>importance].shape[0])"
      ],
      "execution_count": null,
      "outputs": [
        {
          "output_type": "stream",
          "text": [
            "5       46.872860\n",
            "23      53.232659\n",
            "81      53.899251\n",
            "95      50.582726\n",
            "114     52.049895\n",
            "          ...    \n",
            "2361    55.292128\n",
            "2380    41.477080\n",
            "2405    47.601690\n",
            "2418    71.023680\n",
            "2534    42.548469\n",
            "Name: importance_normalized, Length: 83, dtype: float64\n",
            "Label : Gender\n",
            "number of all features:  2560\n",
            "number of selected features :  83\n"
          ],
          "name": "stdout"
        }
      ]
    },
    {
      "cell_type": "code",
      "metadata": {
        "colab": {
          "base_uri": "https://localhost:8080/"
        },
        "id": "nb759oIMeDuT",
        "outputId": "5b9a900e-a480-42fe-95e6-bb29f17b3f05"
      },
      "source": [
        "X4 = make_dataset(data_f4.drop(columns=['Age','Gender','Status']),'f4')\n",
        "x4_reduced = get_feature_importance(X4,data_f4.Status)\n",
        "print(x4_reduced[x4_reduced>importance])\n",
        "print(\"Label : Status\")\n",
        "print(\"number of all features: \", X4.shape[1])\n",
        "print(\"number of selected features : \", x4_reduced[x4_reduced>importance].shape[0])"
      ],
      "execution_count": null,
      "outputs": [
        {
          "output_type": "stream",
          "text": [
            "5       46.872861\n",
            "23      53.232659\n",
            "81      53.899253\n",
            "95      50.582729\n",
            "114     52.049896\n",
            "          ...    \n",
            "2361    55.292127\n",
            "2380    41.477081\n",
            "2405    47.601691\n",
            "2418    71.023682\n",
            "2534    42.548470\n",
            "Name: importance_normalized, Length: 83, dtype: float64\n",
            "Label : Status\n",
            "number of all features:  2560\n",
            "number of selected features :  83\n"
          ],
          "name": "stdout"
        }
      ]
    },
    {
      "cell_type": "code",
      "metadata": {
        "colab": {
          "base_uri": "https://localhost:8080/"
        },
        "id": "nu9q0CeleF-O",
        "outputId": "3cb9d520-d496-4332-c599-32b2ccbd2e36"
      },
      "source": [
        "X4 = make_dataset(data_f4.drop(columns=['Age','Gender','Status']),'f4')\n",
        "x4_reduced = get_feature_importance(X4,data_f4.Age)\n",
        "print(x4_reduced[x4_reduced>importance])\n",
        "print(\"Label : Age\")\n",
        "print(\"number of all features: \", X4.shape[1])\n",
        "print(\"number of selected features : \", x4_reduced[x4_reduced>importance].shape[0])"
      ],
      "execution_count": null,
      "outputs": [
        {
          "output_type": "stream",
          "text": [
            "5       46.872859\n",
            "23      53.232659\n",
            "81      53.899251\n",
            "95      50.582727\n",
            "114     52.049893\n",
            "          ...    \n",
            "2361    55.292127\n",
            "2380    41.477081\n",
            "2405    47.601691\n",
            "2418    71.023675\n",
            "2534    42.548467\n",
            "Name: importance_normalized, Length: 83, dtype: float64\n",
            "Label : Age\n",
            "number of all features:  2560\n",
            "number of selected features :  83\n"
          ],
          "name": "stdout"
        }
      ]
    },
    {
      "cell_type": "markdown",
      "metadata": {
        "id": "m5qdDkCddGnI"
      },
      "source": [
        "### Mutual Information"
      ]
    },
    {
      "cell_type": "code",
      "metadata": {
        "colab": {
          "base_uri": "https://localhost:8080/"
        },
        "id": "uKl2nFX9du1s",
        "outputId": "19fab17a-c530-4cca-eebe-24f42198d4b1"
      },
      "source": [
        "X4 = make_dataset(data_f4.drop(columns=['Age','Gender','Status']),'f4')\n",
        "gains = feature_importance_mutual(X4,data_f4.Age)\n",
        "print(list(gains))\n",
        "my_dict = {i:list(gains).count(i) for i in list(gains)}\n",
        "my_dict"
      ],
      "execution_count": null,
      "outputs": [
        {
          "output_type": "stream",
          "text": [
            "[2.0, 2.0, 3.0, 3.0, 2.0, 3.0, 2.0, 3.0, 3.0, 3.0, 3.0, 2.0, 3.0, 2.0, 3.0, 3.0, 3.0, 3.0, 3.0, 3.0, 2.0, 3.0, 2.0, 3.0, 3.0, 3.0, 3.0, 2.0, 3.0, 2.0, 3.0, 3.0, 3.0, 2.0, 3.0, 2.0, 2.0, 2.0, 2.0, 2.0, 3.0, 3.0, 2.0, 3.0, 3.0, 3.0, 3.0, 2.0, 3.0, 1.0, 3.0, 3.0, 0.0, 3.0, 2.0, 3.0, 2.0, 2.0, 2.0, 3.0, 3.0, 3.0, 3.0, 3.0, 3.0, 3.0, 1.0, 2.0, 3.0, 2.0, 1.0, 3.0, 3.0, 3.0, 2.0, 2.0, 2.0, 3.0, 3.0, 3.0, 3.0, 3.0, 1.0, 3.0, 2.0, 0.0, 3.0, 2.0, 2.0, 2.0, 2.0, 3.0, 2.0, 3.0, 2.0, 3.0, 3.0, 2.0, 2.0, 2.0, 2.0, 2.0, 3.0, 2.0, 2.0, 2.0, 0.0, 1.0, 3.0, 3.0, 3.0, 2.0, 3.0, 2.0, 3.0, 3.0, 2.0, 3.0, 2.0, 2.0, 2.0, 3.0, 2.0, 1.0, 3.0, 0.0, 1.0, 2.0, 2.0, 2.0, 2.0, 3.0, 1.0, 3.0, 2.0, 2.0, 1.0, 3.0, 3.0, 3.0, 2.0, 3.0, 2.0, 2.0, 2.0, 3.0, 1.0, 2.0, 2.0, 3.0, 3.0, 2.0, 2.0, 1.0, 3.0, 3.0, 3.0, 3.0, 3.0, 1.0, 2.0, 3.0, 1.0, 3.0, 0.0, 3.0, 1.0, 2.0, 2.0, 3.0, 2.0, 3.0, 3.0, 2.0, 3.0, 3.0, 3.0, 3.0, 2.0, 3.0, 3.0, 2.0, 3.0, 3.0, 3.0, 2.0, 3.0, 3.0, 1.0, 3.0, 3.0, 2.0, 2.0, 2.0, 3.0, 3.0, 3.0, 2.0, 3.0, 3.0, 1.0, 3.0, 2.0, 2.0, 2.0, 2.0, 2.0, 2.0, 2.0, 3.0, 2.0, 2.0, 2.0, 3.0, 3.0, 1.0, 3.0, 2.0, 2.0, 2.0, 3.0, 3.0, 3.0, 3.0, 2.0, 3.0, 3.0, 3.0, 3.0, 1.0, 2.0, 2.0, 1.0, 2.0, 3.0, 3.0, 2.0, 3.0, 2.0, 3.0, 2.0, 3.0, 3.0, 2.0, 1.0, 2.0, 3.0, 1.0, 2.0, 3.0, 3.0, 3.0, 2.0, 1.0, 3.0, 1.0, 3.0, 3.0, 2.0, 3.0, 3.0, 3.0, 3.0, 3.0, 2.0, 2.0, 3.0, 1.0, 3.0, 1.0, 2.0, 2.0, 3.0, 3.0, 1.0, 1.0, 3.0, 3.0, 3.0, 3.0, 3.0, 2.0, 3.0, 3.0, 2.0, 3.0, 1.0, 3.0, 2.0, 3.0, 3.0, 1.0, 3.0, 3.0, 3.0, 3.0, 3.0, 3.0, 2.0, 2.0, 0.0, 2.0, 3.0, 2.0, 3.0, 2.0, 3.0, 1.0, 3.0, 2.0, 1.0, 3.0, 3.0, 3.0, 2.0, 3.0, 2.0, 3.0, 3.0, 3.0, 3.0, 2.0, 1.0, 2.0, 2.0, 1.0, 2.0, 3.0, 2.0, 3.0, 3.0, 3.0, 3.0, 3.0, 3.0, 1.0, 2.0, 2.0, 3.0, 3.0, 2.0, 2.0, 3.0, 3.0, 3.0, 2.0, 3.0, 3.0, 2.0, 3.0, 3.0, 2.0, 3.0, 2.0, 2.0, 2.0, 2.0, 3.0, 2.0, 3.0, 2.0, 1.0, 3.0, 3.0, 1.0, 2.0, 3.0, 3.0, 3.0, 3.0, 3.0, 3.0, 2.0, 2.0, 1.0, 3.0, 3.0, 2.0, 1.0, 2.0, 2.0, 3.0, 3.0, 3.0, 3.0, 2.0, 2.0, 2.0, 3.0, 3.0, 2.0, 3.0, 3.0, 3.0, 3.0, 1.0, 2.0, 3.0, 3.0, 3.0, 2.0, 3.0, 2.0, 3.0, 2.0, 2.0, 3.0, 3.0, 2.0, 2.0, 2.0, 2.0, 3.0, 3.0, 3.0, 3.0, 2.0, 3.0, 2.0, 3.0, 3.0, 3.0, 3.0, 1.0, 3.0, 2.0, 2.0, 3.0, 3.0, 3.0, 2.0, 3.0, 2.0, 3.0, 3.0, 3.0, 1.0, 3.0, 3.0, 3.0, 2.0, 3.0, 1.0, 2.0, 2.0, 3.0, 3.0, 1.0, 3.0, 2.0, 3.0, 3.0, 3.0, 3.0, 3.0, 3.0, 2.0, 3.0, 2.0, 3.0, 2.0, 3.0, 1.0, 3.0, 3.0, 2.0, 3.0, 2.0, 3.0, 2.0, 2.0, 3.0, 3.0, 2.0, 3.0, 3.0, 3.0, 2.0, 3.0, 1.0, 3.0, 3.0, 1.0, 2.0, 0.0, 2.0, 2.0, 2.0, 2.0, 3.0, 3.0, 2.0, 3.0, 3.0, 2.0, 3.0, 1.0, 2.0, 2.0, 3.0, 2.0, 3.0, 3.0, 3.0, 3.0, 3.0, 1.0, 3.0, 2.0, 2.0, 3.0, 1.0, 2.0, 2.0, 3.0, 3.0, 2.0, 3.0, 2.0, 3.0, 3.0, 3.0, 3.0, 2.0, 3.0, 2.0, 3.0, 3.0, 3.0, 3.0, 3.0, 3.0, 2.0, 3.0, 2.0, 3.0, 3.0, 2.0, 3.0, 2.0, 3.0, 2.0, 3.0, 3.0, 2.0, 2.0, 3.0, 2.0, 2.0, 2.0, 2.0, 2.0, 3.0, 3.0, 2.0, 3.0, 3.0, 3.0, 3.0, 2.0, 2.0, 1.0, 3.0, 3.0, 0.0, 3.0, 2.0, 3.0, 2.0, 2.0, 2.0, 3.0, 3.0, 3.0, 3.0, 3.0, 3.0, 3.0, 1.0, 2.0, 3.0, 2.0, 1.0, 3.0, 3.0, 3.0, 2.0, 2.0, 2.0, 3.0, 3.0, 3.0, 3.0, 3.0, 1.0, 3.0, 2.0, 0.0, 3.0, 3.0, 2.0, 2.0, 2.0, 3.0, 2.0, 3.0, 2.0, 3.0, 3.0, 2.0, 2.0, 2.0, 2.0, 2.0, 3.0, 2.0, 2.0, 2.0, 0.0, 1.0, 3.0, 3.0, 2.0, 2.0, 2.0, 2.0, 3.0, 3.0, 2.0, 3.0, 2.0, 2.0, 2.0, 3.0, 2.0, 1.0, 3.0, 0.0, 1.0, 2.0, 2.0, 2.0, 2.0, 3.0, 1.0, 3.0, 2.0, 2.0, 1.0, 3.0, 3.0, 3.0, 2.0, 3.0, 2.0, 2.0, 2.0, 3.0, 1.0, 2.0, 2.0, 3.0, 3.0, 2.0, 2.0, 2.0, 3.0, 3.0, 3.0, 3.0, 2.0, 2.0, 2.0, 3.0, 2.0, 3.0, 0.0, 3.0, 1.0, 2.0, 2.0, 3.0, 2.0, 3.0, 3.0, 2.0, 3.0, 3.0, 3.0, 3.0, 2.0, 3.0, 3.0, 2.0, 3.0, 3.0, 3.0, 3.0, 3.0, 3.0, 1.0, 3.0, 3.0, 2.0, 2.0, 2.0, 3.0, 3.0, 3.0, 2.0, 3.0, 3.0, 1.0, 3.0, 2.0, 2.0, 2.0, 2.0, 3.0, 2.0, 2.0, 3.0, 2.0, 3.0, 2.0, 3.0, 3.0, 1.0, 3.0, 2.0, 2.0, 2.0, 3.0, 3.0, 3.0, 3.0, 2.0, 3.0, 3.0, 3.0, 3.0, 0.0, 2.0, 2.0, 0.0, 2.0, 3.0, 3.0, 2.0, 3.0, 2.0, 3.0, 2.0, 3.0, 3.0, 2.0, 1.0, 2.0, 3.0, 1.0, 2.0, 3.0, 3.0, 3.0, 2.0, 1.0, 3.0, 2.0, 3.0, 3.0, 2.0, 3.0, 3.0, 3.0, 3.0, 2.0, 2.0, 2.0, 3.0, 1.0, 3.0, 1.0, 2.0, 2.0, 3.0, 3.0, 1.0, 1.0, 3.0, 3.0, 2.0, 3.0, 3.0, 2.0, 3.0, 3.0, 2.0, 3.0, 2.0, 3.0, 2.0, 3.0, 3.0, 1.0, 3.0, 3.0, 3.0, 3.0, 3.0, 3.0, 2.0, 2.0, 0.0, 2.0, 2.0, 2.0, 3.0, 2.0, 3.0, 1.0, 3.0, 2.0, 1.0, 3.0, 3.0, 3.0, 2.0, 3.0, 2.0, 3.0, 3.0, 3.0, 3.0, 1.0, 1.0, 2.0, 2.0, 1.0, 2.0, 3.0, 2.0, 3.0, 2.0, 3.0, 3.0, 3.0, 3.0, 1.0, 2.0, 2.0, 3.0, 3.0, 2.0, 2.0, 2.0, 3.0, 3.0, 2.0, 3.0, 3.0, 2.0, 3.0, 3.0, 2.0, 3.0, 2.0, 2.0, 2.0, 2.0, 3.0, 2.0, 3.0, 2.0, 1.0, 3.0, 3.0, 1.0, 2.0, 3.0, 3.0, 3.0, 3.0, 3.0, 2.0, 2.0, 2.0, 1.0, 3.0, 3.0, 2.0, 1.0, 2.0, 3.0, 3.0, 3.0, 3.0, 3.0, 2.0, 2.0, 2.0, 3.0, 2.0, 3.0, 3.0, 3.0, 3.0, 3.0, 1.0, 2.0, 3.0, 3.0, 3.0, 2.0, 3.0, 1.0, 3.0, 3.0, 2.0, 3.0, 3.0, 2.0, 2.0, 3.0, 2.0, 3.0, 3.0, 3.0, 3.0, 3.0, 3.0, 2.0, 3.0, 3.0, 3.0, 3.0, 1.0, 3.0, 2.0, 2.0, 3.0, 3.0, 3.0, 2.0, 3.0, 2.0, 3.0, 3.0, 3.0, 1.0, 3.0, 3.0, 3.0, 2.0, 3.0, 1.0, 2.0, 2.0, 3.0, 3.0, 1.0, 3.0, 2.0, 3.0, 3.0, 3.0, 3.0, 3.0, 3.0, 2.0, 3.0, 2.0, 3.0, 2.0, 3.0, 1.0, 3.0, 3.0, 2.0, 3.0, 2.0, 3.0, 2.0, 1.0, 3.0, 3.0, 2.0, 3.0, 3.0, 3.0, 2.0, 3.0, 1.0, 3.0, 3.0, 1.0, 2.0, 0.0, 2.0, 2.0, 2.0, 2.0, 3.0, 3.0, 2.0, 3.0, 3.0, 2.0, 3.0, 1.0, 2.0, 2.0, 3.0, 2.0, 3.0, 3.0, 3.0, 3.0, 3.0, 1.0, 3.0, 2.0, 2.0, 3.0, 1.0, 2.0, 2.0, 3.0, 3.0, 2.0, 3.0, 2.0, 3.0, 3.0, 3.0, 3.0, 2.0, 3.0, 2.0, 3.0, 3.0, 3.0, 3.0, 3.0, 3.0, 2.0, 3.0, 2.0, 3.0, 3.0, 3.0, 3.0, 2.0, 3.0, 3.0, 3.0, 3.0, 3.0, 2.0, 3.0, 2.0, 2.0, 2.0, 2.0, 2.0, 3.0, 3.0, 2.0, 3.0, 3.0, 3.0, 2.0, 2.0, 3.0, 1.0, 3.0, 3.0, 1.0, 3.0, 2.0, 3.0, 2.0, 2.0, 2.0, 3.0, 3.0, 3.0, 3.0, 3.0, 3.0, 3.0, 1.0, 2.0, 3.0, 2.0, 1.0, 3.0, 3.0, 3.0, 2.0, 2.0, 2.0, 3.0, 3.0, 3.0, 3.0, 3.0, 1.0, 3.0, 2.0, 0.0, 3.0, 2.0, 2.0, 2.0, 2.0, 3.0, 2.0, 3.0, 2.0, 3.0, 3.0, 2.0, 2.0, 2.0, 2.0, 2.0, 3.0, 2.0, 2.0, 2.0, 0.0, 1.0, 3.0, 3.0, 3.0, 2.0, 3.0, 2.0, 3.0, 3.0, 2.0, 3.0, 2.0, 2.0, 2.0, 3.0, 2.0, 1.0, 3.0, 0.0, 1.0, 3.0, 2.0, 2.0, 2.0, 3.0, 1.0, 3.0, 2.0, 2.0, 2.0, 3.0, 3.0, 3.0, 3.0, 3.0, 2.0, 2.0, 2.0, 3.0, 1.0, 2.0, 2.0, 3.0, 3.0, 2.0, 2.0, 2.0, 3.0, 3.0, 3.0, 3.0, 3.0, 1.0, 2.0, 3.0, 1.0, 3.0, 0.0, 3.0, 1.0, 2.0, 2.0, 3.0, 2.0, 3.0, 3.0, 2.0, 3.0, 3.0, 3.0, 3.0, 2.0, 3.0, 3.0, 2.0, 3.0, 3.0, 2.0, 2.0, 2.0, 3.0, 1.0, 3.0, 3.0, 2.0, 2.0, 2.0, 3.0, 3.0, 3.0, 2.0, 3.0, 3.0, 1.0, 3.0, 2.0, 2.0, 2.0, 2.0, 2.0, 2.0, 2.0, 3.0, 2.0, 2.0, 2.0, 3.0, 3.0, 1.0, 3.0, 3.0, 2.0, 2.0, 3.0, 3.0, 3.0, 3.0, 2.0, 3.0, 3.0, 3.0, 2.0, 1.0, 2.0, 2.0, 1.0, 2.0, 3.0, 3.0, 2.0, 3.0, 2.0, 3.0, 2.0, 3.0, 3.0, 2.0, 1.0, 2.0, 3.0, 1.0, 2.0, 3.0, 3.0, 3.0, 2.0, 1.0, 3.0, 1.0, 3.0, 3.0, 2.0, 3.0, 3.0, 3.0, 3.0, 3.0, 2.0, 2.0, 3.0, 1.0, 3.0, 1.0, 2.0, 2.0, 3.0, 3.0, 1.0, 1.0, 3.0, 3.0, 3.0, 3.0, 3.0, 2.0, 3.0, 3.0, 2.0, 3.0, 2.0, 3.0, 2.0, 3.0, 3.0, 1.0, 3.0, 3.0, 3.0, 3.0, 3.0, 3.0, 2.0, 2.0, 0.0, 2.0, 3.0, 2.0, 3.0, 2.0, 3.0, 1.0, 3.0, 2.0, 1.0, 3.0, 3.0, 3.0, 2.0, 3.0, 2.0, 3.0, 3.0, 3.0, 3.0, 2.0, 1.0, 2.0, 2.0, 1.0, 3.0, 3.0, 2.0, 3.0, 3.0, 3.0, 3.0, 3.0, 3.0, 1.0, 2.0, 2.0, 3.0, 3.0, 3.0, 2.0, 3.0, 3.0, 3.0, 2.0, 3.0, 3.0, 2.0, 3.0, 3.0, 2.0, 2.0, 2.0, 2.0, 2.0, 2.0, 3.0, 2.0, 3.0, 2.0, 1.0, 3.0, 3.0, 2.0, 2.0, 3.0, 3.0, 3.0, 3.0, 3.0, 2.0, 2.0, 2.0, 1.0, 3.0, 3.0, 2.0, 1.0, 2.0, 2.0, 3.0, 3.0, 3.0, 3.0, 2.0, 2.0, 2.0, 3.0, 3.0, 2.0, 3.0, 3.0, 3.0, 3.0, 2.0, 2.0, 3.0, 3.0, 3.0, 2.0, 3.0, 2.0, 3.0, 2.0, 2.0, 3.0, 3.0, 2.0, 2.0, 2.0, 2.0, 3.0, 3.0, 3.0, 3.0, 2.0, 3.0, 2.0, 3.0, 3.0, 3.0, 3.0, 1.0, 3.0, 2.0, 2.0, 3.0, 3.0, 3.0, 2.0, 3.0, 2.0, 3.0, 3.0, 3.0, 1.0, 3.0, 3.0, 3.0, 2.0, 3.0, 1.0, 2.0, 2.0, 3.0, 3.0, 1.0, 3.0, 3.0, 3.0, 3.0, 3.0, 3.0, 3.0, 3.0, 2.0, 3.0, 2.0, 2.0, 2.0, 3.0, 1.0, 3.0, 3.0, 2.0, 3.0, 3.0, 3.0, 2.0, 2.0, 3.0, 3.0, 2.0, 3.0, 3.0, 3.0, 2.0, 3.0, 1.0, 3.0, 3.0, 1.0, 2.0, 0.0, 2.0, 3.0, 2.0, 2.0, 3.0, 3.0, 2.0, 3.0, 3.0, 2.0, 3.0, 1.0, 2.0, 2.0, 3.0, 2.0, 3.0, 3.0, 3.0, 3.0, 3.0, 1.0, 3.0, 2.0, 1.0, 3.0, 1.0, 2.0, 2.0, 3.0, 3.0, 2.0, 3.0, 2.0, 3.0, 3.0, 3.0, 3.0, 2.0, 3.0, 2.0, 3.0, 3.0, 3.0, 3.0, 3.0, 3.0, 2.0, 3.0, 2.0, 3.0, 3.0, 3.0, 3.0, 2.0, 3.0, 3.0, 3.0, 3.0, 3.0, 2.0, 3.0, 2.0, 2.0, 2.0, 2.0, 2.0, 3.0, 3.0, 2.0, 3.0, 3.0, 3.0, 2.0, 2.0, 3.0, 1.0, 3.0, 3.0, 0.0, 3.0, 2.0, 3.0, 2.0, 2.0, 2.0, 3.0, 3.0, 3.0, 3.0, 3.0, 3.0, 3.0, 1.0, 2.0, 3.0, 2.0, 1.0, 3.0, 3.0, 3.0, 2.0, 2.0, 2.0, 3.0, 3.0, 3.0, 3.0, 3.0, 1.0, 3.0, 2.0, 0.0, 3.0, 2.0, 2.0, 2.0, 2.0, 3.0, 2.0, 3.0, 2.0, 3.0, 3.0, 2.0, 2.0, 2.0, 2.0, 2.0, 3.0, 2.0, 2.0, 2.0, 0.0, 1.0, 3.0, 3.0, 3.0, 2.0, 3.0, 2.0, 3.0, 3.0, 2.0, 3.0, 2.0, 2.0, 2.0, 3.0, 2.0, 1.0, 3.0, 0.0, 1.0, 2.0, 2.0, 2.0, 2.0, 3.0, 1.0, 3.0, 2.0, 2.0, 2.0, 3.0, 3.0, 3.0, 2.0, 3.0, 2.0, 2.0, 2.0, 3.0, 1.0, 2.0, 2.0, 3.0, 3.0, 2.0, 2.0, 2.0, 3.0, 3.0, 3.0, 3.0, 3.0, 1.0, 2.0, 3.0, 1.0, 3.0, 0.0, 3.0, 1.0, 2.0, 2.0, 3.0, 2.0, 3.0, 3.0, 2.0, 3.0, 3.0, 3.0, 3.0, 2.0, 3.0, 3.0, 2.0, 3.0, 3.0, 2.0, 2.0, 2.0, 3.0, 1.0, 3.0, 3.0, 2.0, 2.0, 2.0, 3.0, 3.0, 3.0, 2.0, 3.0, 3.0, 1.0, 3.0, 2.0, 2.0, 2.0, 2.0, 3.0, 2.0, 2.0, 3.0, 2.0, 2.0, 2.0, 3.0, 3.0, 1.0, 3.0, 2.0, 2.0, 2.0, 3.0, 3.0, 3.0, 3.0, 2.0, 3.0, 3.0, 3.0, 2.0, 1.0, 2.0, 2.0, 1.0, 2.0, 3.0, 3.0, 2.0, 3.0, 2.0, 3.0, 2.0, 3.0, 3.0, 2.0, 1.0, 2.0, 3.0, 1.0, 2.0, 3.0, 3.0, 3.0, 2.0, 1.0, 3.0, 1.0, 3.0, 3.0, 2.0, 3.0, 3.0, 3.0, 3.0, 3.0, 2.0, 2.0, 3.0, 1.0, 3.0, 1.0, 2.0, 2.0, 3.0, 3.0, 1.0, 1.0, 3.0, 3.0, 2.0, 3.0, 3.0, 2.0, 3.0, 3.0, 2.0, 3.0, 1.0, 3.0, 2.0, 3.0, 3.0, 1.0, 3.0, 3.0, 3.0, 3.0, 3.0, 3.0, 2.0, 2.0, 0.0, 2.0, 3.0, 2.0, 3.0, 2.0, 3.0, 1.0, 3.0, 2.0, 1.0, 3.0, 3.0, 3.0, 2.0, 3.0, 2.0, 3.0, 3.0, 3.0, 3.0, 2.0, 1.0, 2.0, 2.0, 1.0, 2.0, 3.0, 2.0, 3.0, 3.0, 3.0, 3.0, 3.0, 3.0, 1.0, 2.0, 2.0, 3.0, 3.0, 3.0, 2.0, 3.0, 3.0, 3.0, 2.0, 3.0, 3.0, 2.0, 3.0, 3.0, 2.0, 2.0, 2.0, 2.0, 2.0, 2.0, 3.0, 2.0, 3.0, 2.0, 1.0, 3.0, 3.0, 2.0, 2.0, 3.0, 3.0, 3.0, 3.0, 3.0, 2.0, 2.0, 2.0, 1.0, 3.0, 3.0, 2.0, 1.0, 2.0, 3.0, 3.0, 3.0, 3.0, 3.0, 2.0, 2.0, 2.0, 3.0, 3.0, 3.0, 3.0, 3.0, 3.0, 3.0, 2.0, 2.0, 3.0, 3.0, 3.0, 2.0, 3.0, 2.0, 3.0, 2.0, 2.0, 3.0, 3.0, 2.0, 2.0, 2.0, 2.0, 3.0, 3.0, 3.0, 3.0, 2.0, 3.0, 2.0, 3.0, 3.0, 3.0, 3.0, 1.0, 3.0, 2.0, 2.0, 3.0, 3.0, 3.0, 2.0, 3.0, 2.0, 3.0, 3.0, 3.0, 1.0, 3.0, 3.0, 3.0, 2.0, 3.0, 1.0, 2.0, 2.0, 3.0, 3.0, 1.0, 3.0, 2.0, 3.0, 3.0, 3.0, 3.0, 3.0, 3.0, 2.0, 3.0, 2.0, 3.0, 2.0, 3.0, 1.0, 3.0, 3.0, 2.0, 3.0, 3.0, 3.0, 2.0, 2.0, 3.0, 3.0, 2.0, 3.0, 3.0, 3.0, 1.0, 3.0, 1.0, 3.0, 3.0, 1.0, 2.0, 0.0, 2.0, 2.0, 2.0, 2.0, 3.0, 3.0, 2.0, 3.0, 3.0, 2.0, 3.0, 1.0, 2.0, 2.0, 3.0, 2.0, 3.0, 3.0, 3.0, 3.0, 3.0, 1.0, 3.0, 2.0, 2.0, 3.0, 1.0, 2.0, 2.0, 3.0, 3.0, 2.0, 3.0, 2.0, 3.0, 3.0, 3.0, 3.0, 2.0, 3.0, 2.0, 3.0, 3.0, 3.0, 3.0, 3.0, 3.0, 2.0, 3.0, 2.0, 3.0, 3.0, 2.0, 3.0, 2.0, 3.0, 3.0, 3.0, 3.0, 3.0, 2.0, 3.0, 2.0, 2.0, 2.0, 2.0, 2.0, 3.0, 3.0, 2.0, 3.0, 3.0, 3.0, 3.0, 2.0, 3.0, 1.0, 3.0, 3.0, 0.0, 3.0, 2.0, 3.0, 2.0, 2.0, 2.0, 3.0, 3.0, 3.0, 3.0, 3.0, 3.0, 3.0, 1.0, 2.0, 3.0, 2.0, 1.0, 3.0, 3.0, 3.0, 2.0, 2.0, 2.0, 3.0, 3.0, 3.0, 3.0, 3.0, 1.0, 3.0, 2.0, 0.0, 3.0, 2.0, 2.0, 2.0, 2.0, 3.0, 2.0, 3.0, 2.0, 3.0, 3.0, 2.0, 2.0, 2.0, 2.0, 2.0, 3.0, 2.0, 2.0, 2.0, 0.0, 1.0, 3.0, 3.0, 3.0, 2.0, 3.0, 2.0, 3.0, 3.0, 2.0, 3.0, 2.0, 2.0, 2.0, 3.0, 2.0, 1.0, 3.0, 0.0, 1.0, 2.0, 2.0, 2.0, 2.0, 3.0, 1.0, 3.0, 2.0, 2.0, 2.0, 3.0, 3.0, 3.0, 2.0, 3.0, 2.0, 2.0, 2.0, 3.0, 1.0, 2.0, 2.0, 3.0, 3.0, 2.0, 2.0, 1.0, 3.0, 3.0, 3.0, 3.0, 3.0, 1.0, 2.0, 3.0, 1.0, 3.0, 0.0, 3.0, 1.0, 2.0, 2.0, 3.0, 2.0, 3.0, 3.0, 2.0, 3.0, 3.0, 3.0, 3.0, 2.0, 3.0, 3.0, 2.0, 3.0, 3.0, 3.0, 2.0, 2.0, 3.0, 1.0, 3.0, 3.0, 2.0, 2.0, 2.0, 3.0, 3.0, 3.0, 2.0, 3.0, 3.0, 1.0, 3.0, 2.0, 2.0, 2.0, 2.0, 2.0, 2.0, 2.0, 3.0, 2.0, 2.0, 2.0, 3.0, 3.0, 1.0, 3.0, 2.0, 2.0, 2.0, 3.0, 3.0, 3.0, 3.0, 2.0, 3.0, 3.0, 3.0, 2.0, 1.0, 2.0, 2.0, 1.0, 2.0, 3.0, 3.0, 2.0, 3.0, 2.0, 3.0, 2.0, 3.0, 3.0, 2.0, 1.0, 2.0, 3.0, 1.0, 2.0, 3.0, 3.0, 3.0, 2.0, 1.0, 3.0, 1.0, 3.0, 3.0, 2.0, 3.0, 3.0, 3.0, 3.0, 3.0, 2.0, 2.0, 3.0, 1.0, 3.0, 1.0, 2.0, 2.0, 3.0, 3.0, 1.0, 1.0, 3.0, 3.0, 2.0, 3.0, 3.0, 2.0, 3.0, 3.0, 2.0, 3.0, 1.0, 3.0, 2.0, 3.0, 3.0, 1.0, 3.0, 3.0, 3.0, 3.0, 3.0, 3.0, 2.0, 2.0, 0.0, 2.0, 3.0, 2.0, 3.0, 2.0, 3.0, 1.0, 3.0, 2.0, 1.0, 3.0, 3.0, 3.0, 2.0, 3.0, 2.0, 3.0, 3.0, 3.0, 3.0, 2.0, 1.0, 2.0, 2.0, 1.0, 2.0, 3.0, 2.0, 3.0, 3.0, 3.0, 3.0, 3.0, 3.0, 1.0, 2.0, 2.0, 3.0, 3.0, 2.0, 2.0, 2.0, 3.0, 3.0, 2.0, 3.0, 3.0, 2.0, 3.0, 3.0, 2.0, 3.0, 2.0, 2.0, 2.0, 2.0, 3.0, 2.0, 3.0, 2.0, 1.0, 3.0, 3.0, 1.0, 2.0, 3.0, 3.0, 3.0, 3.0, 3.0, 2.0, 2.0, 2.0, 1.0, 3.0, 3.0, 2.0, 1.0, 2.0, 3.0, 3.0, 3.0, 3.0, 3.0, 2.0, 2.0, 2.0, 3.0, 3.0, 3.0, 3.0, 3.0, 3.0, 3.0, 1.0, 2.0, 3.0, 3.0, 3.0, 2.0, 3.0, 2.0, 3.0, 2.0, 2.0, 3.0, 3.0, 2.0, 2.0, 2.0, 2.0, 3.0, 3.0, 3.0, 3.0, 2.0, 3.0, 2.0, 3.0, 3.0, 3.0, 3.0, 1.0, 3.0, 2.0, 2.0, 3.0, 3.0, 3.0, 2.0, 3.0, 2.0, 3.0, 3.0, 3.0, 1.0, 3.0, 3.0, 3.0, 2.0, 3.0, 1.0, 2.0, 2.0, 3.0, 3.0, 1.0, 3.0, 2.0, 3.0, 3.0, 3.0, 3.0, 3.0, 3.0, 2.0, 3.0, 2.0, 3.0, 2.0, 3.0, 1.0, 3.0, 3.0, 2.0, 3.0, 2.0, 3.0, 2.0, 2.0, 3.0, 3.0, 2.0, 3.0, 3.0, 3.0, 2.0, 3.0, 1.0, 3.0, 3.0, 1.0, 2.0, 0.0, 2.0, 2.0, 2.0, 2.0, 3.0, 3.0, 2.0, 3.0, 3.0, 2.0, 3.0, 1.0, 2.0, 2.0, 3.0, 2.0, 3.0, 3.0, 3.0, 3.0, 3.0, 1.0, 3.0, 2.0, 2.0, 3.0, 1.0]\n"
          ],
          "name": "stdout"
        },
        {
          "output_type": "execute_result",
          "data": {
            "text/plain": [
              "{0.0: 36, 1.0: 234, 2.0: 931, 3.0: 1359}"
            ]
          },
          "metadata": {
            "tags": []
          },
          "execution_count": 184
        }
      ]
    },
    {
      "cell_type": "code",
      "metadata": {
        "colab": {
          "base_uri": "https://localhost:8080/"
        },
        "id": "F33Ph_7Ddz2W",
        "outputId": "a51270a5-5221-49f9-ae38-426f680a2917"
      },
      "source": [
        "X4 = make_dataset(data_f4.drop(columns=['Age','Gender','Status']),'f4')\n",
        "gains = feature_importance_mutual(X4,data_f4.Gender)\n",
        "print(list(gains))\n",
        "my_dict = {i:list(gains).count(i) for i in list(gains)}\n",
        "my_dict"
      ],
      "execution_count": null,
      "outputs": [
        {
          "output_type": "stream",
          "text": [
            "[0.0, 0.0, 0.0, 1.0, 0.0, 1.0, 0.0, 1.0, 1.0, 1.0, 1.0, 0.0, 0.0, 0.0, 1.0, 0.0, 1.0, 1.0, 1.0, 1.0, 0.0, 1.0, 0.0, 1.0, 1.0, 0.0, 1.0, 0.0, 1.0, 0.0, 0.0, 1.0, 0.0, 0.0, 0.0, 0.0, 0.0, 0.0, 0.0, 0.0, 1.0, 1.0, 0.0, 1.0, 0.0, 1.0, 0.0, 0.0, 0.0, 0.0, 1.0, 0.0, 0.0, 1.0, 0.0, 1.0, 0.0, 0.0, 0.0, 0.0, 1.0, 1.0, 1.0, 0.0, 1.0, 1.0, 0.0, 0.0, 0.0, 0.0, 0.0, 1.0, 0.0, 1.0, 0.0, 0.0, 0.0, 1.0, 1.0, 1.0, 1.0, 1.0, 0.0, 1.0, 0.0, 0.0, 1.0, 0.0, 0.0, 0.0, 0.0, 1.0, 0.0, 1.0, 0.0, 1.0, 0.0, 0.0, 0.0, 0.0, 0.0, 0.0, 1.0, 0.0, 0.0, 0.0, 0.0, 0.0, 0.0, 1.0, 0.0, 0.0, 0.0, 0.0, 1.0, 0.0, 0.0, 1.0, 0.0, 0.0, 0.0, 1.0, 0.0, 0.0, 1.0, 0.0, 0.0, 0.0, 0.0, 0.0, 0.0, 1.0, 0.0, 0.0, 0.0, 0.0, 0.0, 1.0, 1.0, 1.0, 0.0, 1.0, 0.0, 0.0, 0.0, 1.0, 0.0, 0.0, 0.0, 0.0, 1.0, 0.0, 0.0, 0.0, 1.0, 1.0, 1.0, 1.0, 0.0, 0.0, 0.0, 1.0, 0.0, 1.0, 0.0, 1.0, 0.0, 0.0, 0.0, 1.0, 0.0, 0.0, 1.0, 0.0, 1.0, 1.0, 1.0, 1.0, 0.0, 1.0, 0.0, 0.0, 1.0, 1.0, 0.0, 0.0, 0.0, 1.0, 0.0, 1.0, 1.0, 0.0, 0.0, 0.0, 1.0, 1.0, 0.0, 0.0, 1.0, 1.0, 0.0, 0.0, 0.0, 0.0, 0.0, 0.0, 0.0, 0.0, 0.0, 0.0, 0.0, 0.0, 0.0, 1.0, 1.0, 0.0, 1.0, 0.0, 0.0, 0.0, 1.0, 1.0, 1.0, 1.0, 0.0, 1.0, 1.0, 1.0, 0.0, 0.0, 0.0, 0.0, 0.0, 0.0, 1.0, 1.0, 0.0, 1.0, 0.0, 1.0, 0.0, 1.0, 1.0, 0.0, 0.0, 0.0, 0.0, 0.0, 0.0, 1.0, 0.0, 1.0, 0.0, 0.0, 0.0, 0.0, 1.0, 1.0, 0.0, 1.0, 1.0, 1.0, 1.0, 0.0, 0.0, 0.0, 0.0, 0.0, 1.0, 0.0, 0.0, 0.0, 1.0, 1.0, 0.0, 0.0, 1.0, 0.0, 0.0, 1.0, 1.0, 0.0, 1.0, 1.0, 0.0, 1.0, 0.0, 1.0, 0.0, 1.0, 0.0, 0.0, 1.0, 0.0, 1.0, 0.0, 1.0, 1.0, 0.0, 0.0, 0.0, 0.0, 0.0, 0.0, 1.0, 0.0, 0.0, 0.0, 1.0, 0.0, 0.0, 1.0, 1.0, 1.0, 0.0, 1.0, 0.0, 0.0, 1.0, 0.0, 0.0, 0.0, 0.0, 0.0, 0.0, 0.0, 0.0, 0.0, 0.0, 1.0, 0.0, 0.0, 1.0, 1.0, 1.0, 0.0, 0.0, 0.0, 1.0, 1.0, 0.0, 0.0, 0.0, 1.0, 1.0, 0.0, 1.0, 1.0, 0.0, 0.0, 0.0, 0.0, 0.0, 0.0, 0.0, 0.0, 0.0, 1.0, 0.0, 1.0, 0.0, 0.0, 1.0, 0.0, 0.0, 0.0, 1.0, 0.0, 1.0, 1.0, 1.0, 0.0, 0.0, 0.0, 0.0, 1.0, 1.0, 0.0, 0.0, 0.0, 0.0, 1.0, 1.0, 1.0, 0.0, 0.0, 0.0, 0.0, 1.0, 0.0, 0.0, 1.0, 1.0, 0.0, 1.0, 0.0, 0.0, 1.0, 1.0, 1.0, 0.0, 1.0, 0.0, 1.0, 0.0, 0.0, 1.0, 1.0, 0.0, 0.0, 0.0, 0.0, 1.0, 1.0, 1.0, 0.0, 0.0, 1.0, 0.0, 1.0, 1.0, 0.0, 1.0, 0.0, 1.0, 0.0, 0.0, 1.0, 1.0, 1.0, 0.0, 1.0, 0.0, 1.0, 0.0, 1.0, 0.0, 1.0, 0.0, 1.0, 0.0, 1.0, 0.0, 0.0, 0.0, 1.0, 0.0, 0.0, 1.0, 0.0, 1.0, 0.0, 1.0, 1.0, 1.0, 1.0, 0.0, 1.0, 0.0, 0.0, 0.0, 1.0, 0.0, 1.0, 0.0, 0.0, 1.0, 0.0, 1.0, 0.0, 0.0, 1.0, 1.0, 0.0, 1.0, 1.0, 1.0, 0.0, 0.0, 0.0, 1.0, 1.0, 0.0, 0.0, 0.0, 0.0, 0.0, 0.0, 0.0, 0.0, 0.0, 0.0, 1.0, 1.0, 0.0, 1.0, 0.0, 0.0, 0.0, 0.0, 0.0, 1.0, 1.0, 0.0, 1.0, 1.0, 0.0, 0.0, 0.0, 0.0, 1.0, 0.0, 0.0, 0.0, 0.0, 1.0, 0.0, 1.0, 0.0, 1.0, 1.0, 0.0, 1.0, 0.0, 0.0, 0.0, 0.0, 0.0, 1.0, 1.0, 1.0, 1.0, 0.0, 1.0, 0.0, 1.0, 1.0, 0.0, 1.0, 0.0, 1.0, 0.0, 0.0, 1.0, 0.0, 0.0, 0.0, 0.0, 0.0, 0.0, 0.0, 0.0, 1.0, 1.0, 0.0, 1.0, 0.0, 1.0, 0.0, 0.0, 0.0, 0.0, 1.0, 0.0, 0.0, 1.0, 0.0, 1.0, 0.0, 0.0, 0.0, 0.0, 1.0, 1.0, 1.0, 0.0, 1.0, 1.0, 0.0, 0.0, 0.0, 0.0, 0.0, 1.0, 0.0, 1.0, 0.0, 0.0, 0.0, 1.0, 1.0, 1.0, 1.0, 0.0, 0.0, 1.0, 0.0, 0.0, 1.0, 0.0, 0.0, 0.0, 0.0, 1.0, 0.0, 1.0, 0.0, 1.0, 0.0, 0.0, 0.0, 0.0, 0.0, 0.0, 1.0, 0.0, 0.0, 0.0, 0.0, 0.0, 1.0, 1.0, 0.0, 0.0, 0.0, 0.0, 1.0, 0.0, 0.0, 1.0, 0.0, 0.0, 0.0, 1.0, 0.0, 0.0, 1.0, 0.0, 0.0, 0.0, 0.0, 0.0, 0.0, 1.0, 0.0, 0.0, 0.0, 0.0, 0.0, 1.0, 1.0, 1.0, 0.0, 1.0, 0.0, 0.0, 0.0, 1.0, 0.0, 0.0, 0.0, 0.0, 1.0, 0.0, 0.0, 0.0, 1.0, 1.0, 1.0, 1.0, 0.0, 0.0, 0.0, 1.0, 0.0, 1.0, 0.0, 1.0, 0.0, 0.0, 0.0, 0.0, 0.0, 0.0, 1.0, 0.0, 1.0, 1.0, 1.0, 1.0, 0.0, 1.0, 0.0, 0.0, 1.0, 1.0, 0.0, 0.0, 0.0, 1.0, 0.0, 1.0, 1.0, 0.0, 0.0, 0.0, 1.0, 1.0, 0.0, 0.0, 1.0, 1.0, 0.0, 0.0, 0.0, 0.0, 0.0, 0.0, 0.0, 0.0, 0.0, 0.0, 0.0, 0.0, 0.0, 1.0, 1.0, 0.0, 1.0, 0.0, 0.0, 0.0, 1.0, 1.0, 1.0, 0.0, 0.0, 1.0, 1.0, 1.0, 0.0, 0.0, 0.0, 0.0, 0.0, 0.0, 1.0, 1.0, 0.0, 1.0, 0.0, 1.0, 0.0, 1.0, 1.0, 0.0, 0.0, 0.0, 0.0, 0.0, 0.0, 1.0, 0.0, 1.0, 0.0, 0.0, 0.0, 0.0, 1.0, 1.0, 0.0, 1.0, 1.0, 0.0, 1.0, 0.0, 0.0, 0.0, 0.0, 0.0, 1.0, 0.0, 0.0, 0.0, 0.0, 1.0, 0.0, 0.0, 1.0, 0.0, 0.0, 1.0, 1.0, 0.0, 1.0, 0.0, 0.0, 1.0, 0.0, 1.0, 0.0, 1.0, 0.0, 0.0, 1.0, 0.0, 1.0, 0.0, 1.0, 1.0, 0.0, 0.0, 0.0, 0.0, 0.0, 0.0, 1.0, 0.0, 0.0, 0.0, 1.0, 0.0, 0.0, 0.0, 1.0, 1.0, 0.0, 1.0, 0.0, 0.0, 1.0, 0.0, 0.0, 0.0, 0.0, 0.0, 0.0, 0.0, 0.0, 0.0, 0.0, 1.0, 0.0, 0.0, 1.0, 1.0, 1.0, 0.0, 0.0, 0.0, 1.0, 1.0, 0.0, 0.0, 0.0, 1.0, 1.0, 0.0, 1.0, 1.0, 0.0, 0.0, 0.0, 0.0, 0.0, 0.0, 0.0, 0.0, 0.0, 1.0, 0.0, 1.0, 0.0, 0.0, 1.0, 1.0, 0.0, 0.0, 1.0, 0.0, 1.0, 1.0, 1.0, 0.0, 0.0, 0.0, 0.0, 1.0, 1.0, 0.0, 0.0, 0.0, 0.0, 1.0, 1.0, 1.0, 0.0, 0.0, 0.0, 0.0, 1.0, 0.0, 0.0, 1.0, 1.0, 0.0, 1.0, 0.0, 0.0, 1.0, 1.0, 1.0, 0.0, 1.0, 0.0, 0.0, 0.0, 0.0, 1.0, 1.0, 0.0, 0.0, 0.0, 0.0, 1.0, 1.0, 1.0, 0.0, 0.0, 1.0, 0.0, 1.0, 1.0, 0.0, 1.0, 0.0, 1.0, 0.0, 0.0, 1.0, 1.0, 1.0, 0.0, 1.0, 0.0, 1.0, 0.0, 1.0, 0.0, 1.0, 0.0, 1.0, 0.0, 1.0, 0.0, 0.0, 0.0, 1.0, 0.0, 0.0, 1.0, 0.0, 0.0, 0.0, 1.0, 1.0, 1.0, 1.0, 0.0, 0.0, 0.0, 0.0, 0.0, 1.0, 0.0, 1.0, 0.0, 0.0, 1.0, 0.0, 1.0, 0.0, 0.0, 0.0, 1.0, 0.0, 1.0, 1.0, 1.0, 0.0, 0.0, 0.0, 1.0, 1.0, 0.0, 0.0, 0.0, 0.0, 0.0, 0.0, 0.0, 0.0, 1.0, 0.0, 1.0, 1.0, 0.0, 1.0, 0.0, 0.0, 0.0, 0.0, 0.0, 1.0, 1.0, 0.0, 1.0, 1.0, 0.0, 0.0, 0.0, 0.0, 1.0, 0.0, 0.0, 0.0, 0.0, 0.0, 0.0, 1.0, 0.0, 1.0, 1.0, 1.0, 1.0, 0.0, 0.0, 0.0, 1.0, 0.0, 1.0, 1.0, 1.0, 1.0, 0.0, 1.0, 0.0, 1.0, 1.0, 0.0, 1.0, 0.0, 1.0, 0.0, 1.0, 1.0, 0.0, 0.0, 0.0, 0.0, 0.0, 0.0, 0.0, 0.0, 1.0, 1.0, 0.0, 1.0, 0.0, 1.0, 0.0, 0.0, 0.0, 0.0, 1.0, 0.0, 0.0, 1.0, 0.0, 1.0, 0.0, 0.0, 0.0, 1.0, 1.0, 1.0, 1.0, 0.0, 1.0, 1.0, 0.0, 0.0, 0.0, 0.0, 0.0, 1.0, 0.0, 1.0, 0.0, 0.0, 0.0, 1.0, 1.0, 1.0, 1.0, 1.0, 0.0, 1.0, 0.0, 0.0, 1.0, 0.0, 0.0, 0.0, 0.0, 1.0, 0.0, 1.0, 0.0, 1.0, 0.0, 0.0, 0.0, 0.0, 0.0, 0.0, 1.0, 0.0, 0.0, 0.0, 0.0, 0.0, 0.0, 1.0, 0.0, 0.0, 0.0, 0.0, 1.0, 0.0, 0.0, 1.0, 0.0, 0.0, 0.0, 1.0, 0.0, 0.0, 1.0, 0.0, 0.0, 0.0, 0.0, 0.0, 0.0, 1.0, 0.0, 1.0, 0.0, 0.0, 0.0, 1.0, 1.0, 1.0, 0.0, 1.0, 0.0, 0.0, 0.0, 1.0, 0.0, 0.0, 0.0, 0.0, 1.0, 0.0, 0.0, 0.0, 1.0, 1.0, 1.0, 1.0, 0.0, 0.0, 0.0, 1.0, 0.0, 1.0, 0.0, 1.0, 0.0, 0.0, 0.0, 1.0, 0.0, 0.0, 1.0, 0.0, 1.0, 1.0, 1.0, 1.0, 0.0, 1.0, 0.0, 0.0, 1.0, 1.0, 0.0, 0.0, 0.0, 1.0, 0.0, 1.0, 1.0, 0.0, 0.0, 0.0, 1.0, 1.0, 0.0, 0.0, 1.0, 1.0, 0.0, 1.0, 0.0, 0.0, 0.0, 0.0, 0.0, 0.0, 0.0, 0.0, 0.0, 0.0, 0.0, 1.0, 1.0, 0.0, 1.0, 0.0, 0.0, 0.0, 1.0, 1.0, 1.0, 1.0, 0.0, 1.0, 1.0, 0.0, 0.0, 0.0, 0.0, 0.0, 0.0, 0.0, 1.0, 1.0, 0.0, 1.0, 0.0, 1.0, 0.0, 1.0, 1.0, 0.0, 0.0, 0.0, 0.0, 0.0, 0.0, 1.0, 1.0, 1.0, 0.0, 0.0, 0.0, 0.0, 1.0, 1.0, 0.0, 1.0, 1.0, 1.0, 0.0, 0.0, 0.0, 0.0, 0.0, 0.0, 1.0, 0.0, 0.0, 0.0, 1.0, 1.0, 0.0, 0.0, 1.0, 0.0, 0.0, 1.0, 1.0, 0.0, 1.0, 0.0, 0.0, 1.0, 0.0, 1.0, 0.0, 1.0, 0.0, 0.0, 1.0, 0.0, 1.0, 0.0, 1.0, 1.0, 0.0, 0.0, 0.0, 0.0, 0.0, 0.0, 1.0, 0.0, 0.0, 0.0, 1.0, 0.0, 0.0, 1.0, 1.0, 1.0, 0.0, 1.0, 0.0, 0.0, 1.0, 0.0, 0.0, 0.0, 0.0, 0.0, 0.0, 0.0, 0.0, 0.0, 0.0, 1.0, 0.0, 0.0, 1.0, 1.0, 1.0, 0.0, 0.0, 0.0, 1.0, 1.0, 0.0, 0.0, 0.0, 1.0, 1.0, 0.0, 1.0, 0.0, 0.0, 0.0, 0.0, 0.0, 0.0, 0.0, 0.0, 0.0, 0.0, 1.0, 0.0, 1.0, 0.0, 0.0, 1.0, 0.0, 0.0, 0.0, 1.0, 0.0, 1.0, 1.0, 1.0, 0.0, 0.0, 0.0, 0.0, 1.0, 1.0, 0.0, 0.0, 0.0, 0.0, 1.0, 1.0, 1.0, 0.0, 0.0, 0.0, 0.0, 1.0, 0.0, 0.0, 1.0, 1.0, 0.0, 1.0, 0.0, 0.0, 1.0, 1.0, 1.0, 0.0, 1.0, 0.0, 1.0, 0.0, 0.0, 1.0, 1.0, 0.0, 0.0, 0.0, 0.0, 1.0, 1.0, 1.0, 0.0, 0.0, 1.0, 0.0, 1.0, 1.0, 0.0, 1.0, 0.0, 1.0, 0.0, 0.0, 1.0, 1.0, 1.0, 0.0, 1.0, 0.0, 1.0, 0.0, 1.0, 0.0, 1.0, 0.0, 1.0, 0.0, 1.0, 0.0, 0.0, 0.0, 1.0, 0.0, 0.0, 1.0, 0.0, 1.0, 0.0, 1.0, 1.0, 1.0, 1.0, 0.0, 0.0, 0.0, 0.0, 0.0, 1.0, 0.0, 1.0, 0.0, 0.0, 1.0, 0.0, 1.0, 0.0, 0.0, 1.0, 1.0, 0.0, 1.0, 1.0, 1.0, 0.0, 0.0, 0.0, 1.0, 1.0, 0.0, 0.0, 0.0, 0.0, 0.0, 0.0, 0.0, 0.0, 0.0, 0.0, 1.0, 1.0, 0.0, 1.0, 0.0, 0.0, 0.0, 0.0, 0.0, 1.0, 1.0, 0.0, 1.0, 1.0, 0.0, 0.0, 0.0, 0.0, 1.0, 0.0, 0.0, 0.0, 0.0, 0.0, 0.0, 1.0, 0.0, 1.0, 1.0, 1.0, 1.0, 0.0, 0.0, 0.0, 1.0, 0.0, 1.0, 1.0, 1.0, 1.0, 0.0, 1.0, 0.0, 1.0, 1.0, 0.0, 1.0, 0.0, 1.0, 0.0, 1.0, 1.0, 0.0, 0.0, 0.0, 0.0, 0.0, 0.0, 0.0, 0.0, 1.0, 1.0, 0.0, 1.0, 0.0, 1.0, 0.0, 0.0, 0.0, 0.0, 1.0, 0.0, 0.0, 1.0, 0.0, 1.0, 0.0, 0.0, 0.0, 0.0, 1.0, 1.0, 1.0, 0.0, 1.0, 1.0, 0.0, 0.0, 0.0, 0.0, 0.0, 1.0, 0.0, 1.0, 0.0, 0.0, 0.0, 1.0, 1.0, 1.0, 1.0, 1.0, 0.0, 1.0, 0.0, 0.0, 1.0, 0.0, 0.0, 0.0, 0.0, 1.0, 0.0, 1.0, 0.0, 1.0, 0.0, 0.0, 0.0, 0.0, 0.0, 0.0, 1.0, 0.0, 0.0, 0.0, 0.0, 0.0, 0.0, 1.0, 0.0, 0.0, 0.0, 0.0, 1.0, 0.0, 0.0, 1.0, 0.0, 0.0, 0.0, 1.0, 0.0, 0.0, 1.0, 0.0, 0.0, 0.0, 0.0, 0.0, 0.0, 1.0, 0.0, 0.0, 0.0, 0.0, 0.0, 1.0, 1.0, 1.0, 0.0, 1.0, 0.0, 0.0, 0.0, 1.0, 0.0, 0.0, 0.0, 0.0, 1.0, 0.0, 0.0, 0.0, 1.0, 1.0, 1.0, 1.0, 0.0, 0.0, 0.0, 1.0, 0.0, 1.0, 0.0, 1.0, 0.0, 0.0, 0.0, 1.0, 0.0, 0.0, 1.0, 0.0, 1.0, 1.0, 1.0, 1.0, 0.0, 1.0, 0.0, 0.0, 1.0, 1.0, 0.0, 0.0, 0.0, 1.0, 0.0, 1.0, 1.0, 0.0, 0.0, 0.0, 1.0, 1.0, 0.0, 0.0, 1.0, 1.0, 0.0, 0.0, 0.0, 0.0, 0.0, 0.0, 0.0, 0.0, 0.0, 0.0, 0.0, 0.0, 0.0, 1.0, 1.0, 0.0, 1.0, 0.0, 0.0, 0.0, 1.0, 1.0, 1.0, 1.0, 0.0, 1.0, 1.0, 0.0, 0.0, 0.0, 0.0, 0.0, 0.0, 0.0, 1.0, 1.0, 0.0, 1.0, 0.0, 1.0, 0.0, 1.0, 1.0, 0.0, 0.0, 0.0, 0.0, 0.0, 0.0, 1.0, 0.0, 1.0, 0.0, 0.0, 0.0, 0.0, 1.0, 1.0, 0.0, 1.0, 1.0, 0.0, 1.0, 0.0, 0.0, 0.0, 0.0, 0.0, 1.0, 0.0, 0.0, 0.0, 0.0, 1.0, 0.0, 0.0, 1.0, 0.0, 0.0, 1.0, 1.0, 0.0, 1.0, 0.0, 0.0, 1.0, 0.0, 1.0, 0.0, 1.0, 0.0, 0.0, 1.0, 0.0, 1.0, 0.0, 1.0, 1.0, 0.0, 0.0, 0.0, 0.0, 0.0, 0.0, 1.0, 0.0, 0.0, 0.0, 1.0, 0.0, 0.0, 1.0, 1.0, 1.0, 0.0, 1.0, 0.0, 0.0, 1.0, 0.0, 0.0, 0.0, 0.0, 0.0, 0.0, 0.0, 0.0, 0.0, 0.0, 1.0, 0.0, 0.0, 1.0, 1.0, 1.0, 0.0, 0.0, 0.0, 1.0, 1.0, 0.0, 0.0, 0.0, 1.0, 1.0, 0.0, 1.0, 0.0, 0.0, 0.0, 0.0, 0.0, 0.0, 0.0, 0.0, 0.0, 0.0, 1.0, 0.0, 1.0, 0.0, 0.0, 1.0, 1.0, 0.0, 0.0, 1.0, 0.0, 1.0, 1.0, 1.0, 0.0, 0.0, 0.0, 0.0, 1.0, 1.0, 0.0, 0.0, 0.0, 0.0, 1.0, 1.0, 1.0, 0.0, 0.0, 0.0, 0.0, 1.0, 0.0, 0.0, 1.0, 1.0, 0.0, 1.0, 0.0, 0.0, 1.0, 1.0, 1.0, 0.0, 1.0, 0.0, 1.0, 0.0, 0.0, 1.0, 1.0, 0.0, 0.0, 0.0, 0.0, 1.0, 1.0, 1.0, 0.0, 0.0, 1.0, 0.0, 1.0, 1.0, 0.0, 1.0, 0.0, 1.0, 0.0, 0.0, 1.0, 1.0, 1.0, 0.0, 1.0, 0.0, 1.0, 0.0, 1.0, 0.0, 1.0, 0.0, 1.0, 0.0, 1.0, 0.0, 0.0, 0.0, 1.0, 0.0, 0.0, 1.0, 0.0, 1.0, 0.0, 1.0, 1.0, 1.0, 1.0, 0.0, 0.0, 0.0, 0.0, 0.0, 1.0, 0.0, 1.0, 0.0, 0.0, 1.0, 0.0, 1.0, 0.0, 0.0, 0.0, 1.0, 0.0, 1.0, 1.0, 1.0, 0.0, 0.0, 0.0, 1.0, 1.0, 0.0, 0.0, 0.0, 0.0, 0.0, 0.0, 0.0, 0.0, 0.0, 0.0, 1.0, 1.0, 0.0, 1.0, 0.0, 0.0, 0.0, 1.0, 0.0, 0.0, 1.0, 0.0, 1.0, 1.0, 0.0, 0.0, 0.0, 0.0, 1.0, 0.0, 0.0, 0.0, 0.0, 0.0, 0.0, 1.0, 0.0, 1.0, 1.0, 1.0, 1.0, 0.0, 0.0, 0.0, 1.0, 0.0, 1.0, 1.0, 1.0, 1.0, 0.0, 1.0, 0.0, 1.0, 1.0, 0.0, 1.0, 0.0, 1.0, 0.0, 0.0, 1.0, 0.0, 0.0, 0.0, 0.0, 0.0, 0.0, 0.0, 0.0, 1.0, 1.0, 0.0, 1.0, 0.0, 1.0, 0.0, 0.0, 0.0, 0.0, 1.0, 0.0, 0.0, 1.0, 0.0, 1.0, 0.0, 0.0, 0.0, 0.0, 1.0, 1.0, 1.0, 0.0, 1.0, 1.0, 0.0, 0.0, 0.0, 0.0, 0.0, 1.0, 0.0, 1.0, 0.0, 0.0, 0.0, 1.0, 1.0, 1.0, 1.0, 1.0, 0.0, 1.0, 0.0, 0.0, 1.0, 0.0, 0.0, 0.0, 0.0, 1.0, 0.0, 1.0, 0.0, 1.0, 0.0, 0.0, 0.0, 0.0, 0.0, 0.0, 1.0, 0.0, 0.0, 0.0, 0.0, 0.0, 0.0, 1.0, 0.0, 0.0, 0.0, 0.0, 1.0, 0.0, 0.0, 1.0, 0.0, 0.0, 0.0, 1.0, 0.0, 0.0, 1.0, 0.0, 0.0, 0.0, 0.0, 0.0, 0.0, 1.0, 0.0, 0.0, 0.0, 0.0, 0.0, 1.0, 1.0, 1.0, 0.0, 1.0, 0.0, 0.0, 0.0, 1.0, 0.0, 0.0, 0.0, 0.0, 1.0, 0.0, 0.0, 0.0, 1.0, 1.0, 1.0, 1.0, 0.0, 0.0, 0.0, 1.0, 0.0, 1.0, 0.0, 1.0, 0.0, 0.0, 0.0, 1.0, 0.0, 0.0, 1.0, 0.0, 1.0, 1.0, 1.0, 1.0, 0.0, 1.0, 0.0, 0.0, 1.0, 1.0, 0.0, 0.0, 0.0, 1.0, 0.0, 1.0, 1.0, 0.0, 0.0, 0.0, 1.0, 1.0, 0.0, 0.0, 1.0, 1.0, 0.0, 0.0, 0.0, 0.0, 0.0, 0.0, 0.0, 0.0, 0.0, 0.0, 0.0, 0.0, 0.0, 1.0, 1.0, 0.0, 1.0, 0.0, 0.0, 0.0, 1.0, 1.0, 1.0, 1.0, 0.0, 1.0, 1.0, 1.0, 0.0, 0.0, 0.0, 0.0, 0.0, 0.0, 1.0, 1.0, 0.0, 1.0, 0.0, 1.0, 0.0, 1.0, 1.0, 0.0, 0.0, 0.0, 0.0, 0.0, 0.0, 1.0, 0.0, 1.0, 0.0, 0.0, 0.0, 0.0, 1.0, 1.0, 0.0, 1.0, 1.0, 0.0, 1.0, 0.0, 0.0, 0.0, 0.0, 0.0, 1.0, 0.0, 0.0, 0.0, 0.0, 1.0, 0.0, 0.0, 1.0, 0.0, 0.0, 1.0, 1.0, 0.0, 1.0, 0.0, 0.0, 1.0, 0.0, 1.0, 0.0, 1.0, 0.0, 0.0, 1.0, 0.0, 1.0, 0.0, 1.0, 1.0, 0.0, 0.0, 0.0, 0.0, 0.0, 0.0, 1.0, 0.0, 0.0, 0.0, 1.0, 0.0, 0.0, 1.0, 1.0, 1.0, 0.0, 1.0, 0.0, 0.0, 1.0, 0.0, 0.0, 0.0, 0.0, 0.0, 0.0, 0.0, 0.0, 0.0, 0.0, 1.0, 0.0, 0.0, 1.0, 1.0, 1.0, 0.0, 0.0, 0.0, 1.0, 1.0, 0.0, 0.0, 0.0, 1.0, 1.0, 0.0, 1.0, 0.0, 0.0, 0.0, 0.0, 0.0, 0.0, 0.0, 0.0, 0.0, 0.0, 1.0, 0.0, 1.0, 0.0, 0.0, 1.0, 0.0, 0.0, 0.0, 1.0, 0.0, 1.0, 1.0, 1.0, 0.0, 0.0, 0.0, 0.0, 1.0, 1.0, 0.0, 0.0, 0.0, 0.0, 1.0, 1.0, 1.0, 0.0, 0.0, 0.0, 0.0, 1.0, 0.0, 0.0, 1.0, 1.0, 0.0, 1.0, 0.0, 0.0, 1.0, 1.0, 1.0, 0.0, 1.0, 0.0, 1.0, 0.0, 0.0, 1.0, 1.0, 0.0, 0.0, 0.0, 0.0, 1.0, 1.0, 1.0, 0.0, 0.0, 1.0, 0.0, 1.0, 1.0, 0.0, 1.0, 0.0, 1.0, 0.0, 0.0, 1.0, 1.0, 1.0, 0.0, 1.0, 0.0, 1.0, 0.0, 1.0, 0.0, 1.0, 0.0, 1.0, 0.0, 1.0, 0.0, 0.0, 0.0, 1.0, 0.0, 0.0, 1.0, 0.0, 1.0, 0.0, 1.0, 1.0, 1.0, 1.0, 0.0, 0.0, 0.0, 0.0, 0.0, 1.0, 0.0, 1.0, 0.0, 0.0, 1.0, 0.0, 1.0, 0.0, 0.0, 0.0, 1.0, 0.0, 1.0, 1.0, 0.0, 0.0, 0.0, 0.0, 1.0, 1.0, 0.0, 0.0, 0.0, 0.0, 0.0, 0.0, 0.0, 0.0, 0.0, 0.0, 1.0, 1.0, 0.0, 1.0, 0.0, 0.0, 0.0, 0.0, 0.0, 0.0, 0.0, 0.0, 1.0, 1.0, 0.0, 0.0, 0.0, 0.0, 1.0, 0.0]\n"
          ],
          "name": "stdout"
        },
        {
          "output_type": "execute_result",
          "data": {
            "text/plain": [
              "{0.0: 1587, 1.0: 973}"
            ]
          },
          "metadata": {
            "tags": []
          },
          "execution_count": 185
        }
      ]
    },
    {
      "cell_type": "code",
      "metadata": {
        "colab": {
          "base_uri": "https://localhost:8080/"
        },
        "id": "UZJVQXOsd2ld",
        "outputId": "69be76d1-a60b-4307-af0f-f0d1f1a40812"
      },
      "source": [
        "X4 = make_dataset(data_f4.drop(columns=['Age','Gender','Status']),'f4')\n",
        "gains = feature_importance_mutual(X4,data_f4.Status)\n",
        "print(list(gains))\n",
        "my_dict = {i:list(gains).count(i) for i in list(gains)}\n",
        "my_dict"
      ],
      "execution_count": null,
      "outputs": [
        {
          "output_type": "stream",
          "text": [
            "[1.0, 1.0, 1.0, 1.0, 1.0, 1.0, 1.0, 1.0, 1.0, 1.0, 1.0, 1.0, 1.0, 1.0, 1.0, 1.0, 1.0, 1.0, 1.0, 1.0, 0.0, 1.0, 1.0, 1.0, 1.0, 1.0, 1.0, 1.0, 1.0, 1.0, 1.0, 1.0, 1.0, 1.0, 1.0, 1.0, 1.0, 1.0, 1.0, 1.0, 1.0, 1.0, 1.0, 1.0, 1.0, 1.0, 1.0, 1.0, 1.0, 0.0, 1.0, 1.0, 0.0, 1.0, 1.0, 1.0, 1.0, 0.0, 1.0, 1.0, 1.0, 1.0, 1.0, 1.0, 1.0, 1.0, 0.0, 1.0, 1.0, 1.0, 0.0, 1.0, 1.0, 1.0, 1.0, 1.0, 1.0, 1.0, 1.0, 1.0, 1.0, 1.0, 0.0, 1.0, 1.0, 0.0, 1.0, 1.0, 1.0, 1.0, 1.0, 1.0, 0.0, 1.0, 0.0, 1.0, 1.0, 0.0, 1.0, 1.0, 1.0, 1.0, 1.0, 1.0, 1.0, 1.0, 0.0, 0.0, 1.0, 1.0, 1.0, 1.0, 1.0, 1.0, 1.0, 1.0, 1.0, 1.0, 1.0, 0.0, 1.0, 1.0, 1.0, 0.0, 1.0, 0.0, 0.0, 1.0, 1.0, 1.0, 1.0, 1.0, 0.0, 1.0, 1.0, 1.0, 0.0, 1.0, 1.0, 1.0, 1.0, 1.0, 1.0, 1.0, 1.0, 1.0, 0.0, 1.0, 0.0, 1.0, 1.0, 0.0, 1.0, 0.0, 1.0, 1.0, 1.0, 1.0, 1.0, 0.0, 1.0, 1.0, 0.0, 1.0, 0.0, 1.0, 0.0, 1.0, 1.0, 1.0, 1.0, 1.0, 1.0, 1.0, 1.0, 1.0, 1.0, 1.0, 1.0, 1.0, 1.0, 1.0, 1.0, 1.0, 1.0, 1.0, 1.0, 1.0, 0.0, 1.0, 1.0, 1.0, 1.0, 0.0, 1.0, 1.0, 1.0, 1.0, 1.0, 1.0, 0.0, 1.0, 1.0, 1.0, 1.0, 1.0, 1.0, 1.0, 1.0, 1.0, 1.0, 1.0, 1.0, 1.0, 1.0, 0.0, 1.0, 1.0, 1.0, 1.0, 1.0, 1.0, 1.0, 1.0, 1.0, 1.0, 1.0, 1.0, 1.0, 0.0, 1.0, 1.0, 0.0, 1.0, 1.0, 1.0, 1.0, 1.0, 1.0, 1.0, 1.0, 1.0, 1.0, 1.0, 0.0, 1.0, 1.0, 0.0, 1.0, 1.0, 1.0, 1.0, 1.0, 0.0, 1.0, 0.0, 1.0, 1.0, 1.0, 1.0, 1.0, 1.0, 1.0, 1.0, 1.0, 0.0, 1.0, 0.0, 1.0, 0.0, 1.0, 0.0, 1.0, 1.0, 0.0, 0.0, 1.0, 1.0, 1.0, 1.0, 1.0, 1.0, 1.0, 1.0, 1.0, 1.0, 0.0, 1.0, 1.0, 1.0, 1.0, 0.0, 1.0, 1.0, 1.0, 1.0, 1.0, 1.0, 1.0, 1.0, 0.0, 1.0, 1.0, 1.0, 1.0, 1.0, 1.0, 0.0, 1.0, 1.0, 0.0, 1.0, 1.0, 1.0, 1.0, 1.0, 0.0, 1.0, 1.0, 1.0, 1.0, 0.0, 0.0, 1.0, 1.0, 0.0, 1.0, 1.0, 0.0, 1.0, 1.0, 1.0, 1.0, 1.0, 1.0, 0.0, 1.0, 1.0, 1.0, 1.0, 1.0, 1.0, 1.0, 1.0, 1.0, 1.0, 1.0, 1.0, 1.0, 1.0, 1.0, 1.0, 1.0, 1.0, 1.0, 1.0, 1.0, 1.0, 1.0, 1.0, 1.0, 0.0, 1.0, 1.0, 0.0, 0.0, 1.0, 1.0, 1.0, 1.0, 1.0, 1.0, 1.0, 1.0, 0.0, 1.0, 1.0, 1.0, 0.0, 1.0, 1.0, 1.0, 1.0, 1.0, 1.0, 1.0, 1.0, 1.0, 1.0, 1.0, 1.0, 1.0, 1.0, 1.0, 1.0, 0.0, 0.0, 1.0, 1.0, 1.0, 1.0, 1.0, 0.0, 1.0, 1.0, 1.0, 1.0, 1.0, 1.0, 1.0, 1.0, 1.0, 1.0, 1.0, 1.0, 1.0, 1.0, 1.0, 1.0, 1.0, 1.0, 1.0, 1.0, 0.0, 1.0, 1.0, 1.0, 1.0, 1.0, 1.0, 1.0, 1.0, 0.0, 1.0, 1.0, 1.0, 0.0, 1.0, 1.0, 1.0, 1.0, 1.0, 0.0, 1.0, 1.0, 1.0, 1.0, 0.0, 1.0, 1.0, 1.0, 1.0, 1.0, 1.0, 1.0, 1.0, 1.0, 1.0, 1.0, 1.0, 1.0, 1.0, 0.0, 1.0, 1.0, 1.0, 1.0, 1.0, 1.0, 1.0, 0.0, 1.0, 1.0, 0.0, 1.0, 1.0, 1.0, 0.0, 1.0, 0.0, 1.0, 1.0, 0.0, 1.0, 0.0, 1.0, 1.0, 1.0, 1.0, 1.0, 1.0, 1.0, 1.0, 1.0, 1.0, 1.0, 0.0, 1.0, 1.0, 1.0, 1.0, 1.0, 1.0, 1.0, 1.0, 1.0, 0.0, 1.0, 1.0, 0.0, 1.0, 0.0, 1.0, 1.0, 1.0, 1.0, 1.0, 1.0, 1.0, 1.0, 1.0, 1.0, 1.0, 1.0, 1.0, 1.0, 1.0, 1.0, 1.0, 1.0, 1.0, 1.0, 1.0, 1.0, 1.0, 1.0, 1.0, 1.0, 1.0, 1.0, 1.0, 1.0, 1.0, 1.0, 1.0, 1.0, 1.0, 1.0, 1.0, 1.0, 1.0, 1.0, 1.0, 1.0, 1.0, 1.0, 1.0, 1.0, 1.0, 1.0, 1.0, 0.0, 1.0, 1.0, 0.0, 1.0, 1.0, 1.0, 1.0, 1.0, 1.0, 1.0, 1.0, 1.0, 1.0, 1.0, 1.0, 1.0, 0.0, 1.0, 1.0, 1.0, 0.0, 1.0, 1.0, 1.0, 1.0, 1.0, 1.0, 1.0, 1.0, 1.0, 1.0, 1.0, 0.0, 1.0, 1.0, 0.0, 1.0, 1.0, 1.0, 1.0, 1.0, 1.0, 0.0, 1.0, 0.0, 1.0, 1.0, 0.0, 1.0, 1.0, 1.0, 1.0, 1.0, 1.0, 1.0, 1.0, 0.0, 0.0, 1.0, 1.0, 1.0, 1.0, 1.0, 1.0, 1.0, 1.0, 1.0, 1.0, 1.0, 0.0, 1.0, 1.0, 1.0, 0.0, 1.0, 0.0, 0.0, 1.0, 1.0, 1.0, 1.0, 1.0, 0.0, 1.0, 1.0, 1.0, 0.0, 1.0, 1.0, 1.0, 1.0, 1.0, 1.0, 1.0, 1.0, 1.0, 0.0, 1.0, 0.0, 1.0, 1.0, 1.0, 1.0, 0.0, 1.0, 1.0, 1.0, 1.0, 1.0, 0.0, 1.0, 1.0, 0.0, 1.0, 0.0, 1.0, 0.0, 1.0, 1.0, 1.0, 1.0, 1.0, 1.0, 1.0, 1.0, 1.0, 1.0, 1.0, 1.0, 1.0, 1.0, 1.0, 1.0, 1.0, 1.0, 1.0, 1.0, 1.0, 0.0, 1.0, 1.0, 1.0, 1.0, 0.0, 1.0, 1.0, 1.0, 1.0, 1.0, 1.0, 0.0, 1.0, 1.0, 1.0, 1.0, 1.0, 1.0, 1.0, 1.0, 1.0, 1.0, 1.0, 1.0, 1.0, 1.0, 0.0, 1.0, 1.0, 1.0, 1.0, 1.0, 1.0, 1.0, 1.0, 1.0, 1.0, 1.0, 1.0, 1.0, 0.0, 1.0, 1.0, 0.0, 1.0, 1.0, 1.0, 1.0, 1.0, 1.0, 1.0, 1.0, 1.0, 1.0, 1.0, 0.0, 1.0, 1.0, 0.0, 0.0, 1.0, 1.0, 1.0, 1.0, 0.0, 1.0, 0.0, 1.0, 1.0, 1.0, 1.0, 1.0, 1.0, 1.0, 1.0, 1.0, 0.0, 1.0, 0.0, 1.0, 0.0, 1.0, 1.0, 1.0, 1.0, 0.0, 0.0, 1.0, 1.0, 1.0, 1.0, 1.0, 1.0, 1.0, 1.0, 1.0, 1.0, 0.0, 1.0, 1.0, 1.0, 1.0, 0.0, 1.0, 1.0, 1.0, 1.0, 1.0, 1.0, 1.0, 1.0, 0.0, 1.0, 1.0, 1.0, 1.0, 1.0, 1.0, 0.0, 1.0, 1.0, 0.0, 1.0, 1.0, 1.0, 1.0, 1.0, 0.0, 1.0, 1.0, 1.0, 1.0, 0.0, 0.0, 0.0, 1.0, 0.0, 1.0, 1.0, 0.0, 1.0, 1.0, 1.0, 1.0, 1.0, 1.0, 0.0, 1.0, 1.0, 1.0, 1.0, 1.0, 1.0, 1.0, 1.0, 1.0, 1.0, 1.0, 1.0, 1.0, 1.0, 1.0, 1.0, 1.0, 1.0, 1.0, 1.0, 1.0, 1.0, 1.0, 1.0, 1.0, 0.0, 1.0, 1.0, 0.0, 0.0, 1.0, 1.0, 1.0, 1.0, 1.0, 1.0, 1.0, 1.0, 0.0, 1.0, 1.0, 1.0, 0.0, 1.0, 1.0, 1.0, 1.0, 1.0, 1.0, 1.0, 1.0, 1.0, 1.0, 1.0, 1.0, 1.0, 1.0, 1.0, 1.0, 0.0, 0.0, 1.0, 1.0, 1.0, 1.0, 1.0, 0.0, 1.0, 1.0, 0.0, 1.0, 1.0, 1.0, 1.0, 1.0, 1.0, 1.0, 1.0, 1.0, 1.0, 1.0, 1.0, 1.0, 1.0, 1.0, 1.0, 1.0, 0.0, 1.0, 1.0, 1.0, 1.0, 1.0, 1.0, 1.0, 1.0, 1.0, 1.0, 1.0, 1.0, 0.0, 1.0, 1.0, 1.0, 1.0, 1.0, 0.0, 1.0, 1.0, 1.0, 1.0, 0.0, 1.0, 1.0, 1.0, 1.0, 1.0, 1.0, 1.0, 1.0, 1.0, 1.0, 1.0, 1.0, 1.0, 1.0, 0.0, 1.0, 1.0, 1.0, 1.0, 1.0, 1.0, 1.0, 0.0, 1.0, 1.0, 0.0, 1.0, 1.0, 1.0, 0.0, 1.0, 0.0, 1.0, 1.0, 0.0, 1.0, 0.0, 1.0, 1.0, 1.0, 1.0, 1.0, 1.0, 1.0, 1.0, 1.0, 1.0, 1.0, 0.0, 1.0, 1.0, 1.0, 1.0, 1.0, 1.0, 1.0, 1.0, 1.0, 0.0, 1.0, 1.0, 1.0, 1.0, 0.0, 1.0, 1.0, 1.0, 1.0, 1.0, 1.0, 1.0, 1.0, 1.0, 1.0, 1.0, 1.0, 1.0, 1.0, 1.0, 1.0, 1.0, 1.0, 1.0, 1.0, 0.0, 1.0, 1.0, 1.0, 1.0, 1.0, 1.0, 1.0, 1.0, 1.0, 1.0, 1.0, 1.0, 1.0, 1.0, 1.0, 1.0, 1.0, 1.0, 1.0, 1.0, 1.0, 1.0, 1.0, 1.0, 1.0, 1.0, 1.0, 1.0, 0.0, 1.0, 1.0, 0.0, 1.0, 1.0, 1.0, 1.0, 0.0, 1.0, 1.0, 1.0, 1.0, 1.0, 1.0, 1.0, 1.0, 0.0, 1.0, 1.0, 1.0, 0.0, 1.0, 1.0, 1.0, 1.0, 1.0, 1.0, 1.0, 1.0, 1.0, 1.0, 1.0, 0.0, 1.0, 1.0, 0.0, 1.0, 1.0, 1.0, 1.0, 1.0, 1.0, 0.0, 1.0, 0.0, 1.0, 1.0, 0.0, 1.0, 1.0, 1.0, 1.0, 1.0, 1.0, 1.0, 1.0, 0.0, 0.0, 1.0, 1.0, 1.0, 1.0, 1.0, 1.0, 1.0, 1.0, 1.0, 1.0, 1.0, 0.0, 1.0, 1.0, 1.0, 0.0, 1.0, 0.0, 0.0, 1.0, 1.0, 1.0, 1.0, 1.0, 0.0, 1.0, 1.0, 1.0, 0.0, 1.0, 1.0, 1.0, 1.0, 1.0, 1.0, 1.0, 1.0, 1.0, 0.0, 1.0, 0.0, 1.0, 1.0, 0.0, 1.0, 0.0, 1.0, 1.0, 1.0, 1.0, 1.0, 0.0, 1.0, 1.0, 0.0, 1.0, 0.0, 1.0, 0.0, 1.0, 1.0, 1.0, 1.0, 1.0, 1.0, 1.0, 1.0, 1.0, 1.0, 1.0, 1.0, 1.0, 1.0, 1.0, 1.0, 1.0, 1.0, 1.0, 1.0, 1.0, 0.0, 1.0, 1.0, 1.0, 1.0, 1.0, 1.0, 1.0, 1.0, 1.0, 1.0, 1.0, 0.0, 1.0, 1.0, 1.0, 1.0, 1.0, 1.0, 1.0, 1.0, 1.0, 1.0, 1.0, 1.0, 1.0, 1.0, 0.0, 1.0, 1.0, 1.0, 1.0, 1.0, 1.0, 1.0, 1.0, 1.0, 1.0, 1.0, 1.0, 1.0, 0.0, 1.0, 1.0, 0.0, 1.0, 1.0, 1.0, 1.0, 1.0, 1.0, 1.0, 1.0, 1.0, 1.0, 1.0, 0.0, 1.0, 1.0, 0.0, 1.0, 1.0, 1.0, 1.0, 1.0, 0.0, 1.0, 0.0, 1.0, 1.0, 1.0, 1.0, 1.0, 1.0, 1.0, 1.0, 1.0, 0.0, 1.0, 0.0, 1.0, 0.0, 1.0, 1.0, 1.0, 1.0, 0.0, 0.0, 1.0, 1.0, 1.0, 1.0, 1.0, 1.0, 1.0, 1.0, 1.0, 1.0, 0.0, 1.0, 1.0, 1.0, 1.0, 0.0, 1.0, 1.0, 1.0, 1.0, 1.0, 1.0, 1.0, 1.0, 0.0, 1.0, 1.0, 1.0, 1.0, 1.0, 1.0, 0.0, 1.0, 1.0, 0.0, 1.0, 1.0, 1.0, 1.0, 1.0, 1.0, 1.0, 1.0, 1.0, 1.0, 0.0, 0.0, 1.0, 1.0, 0.0, 1.0, 1.0, 0.0, 1.0, 1.0, 1.0, 1.0, 1.0, 1.0, 0.0, 1.0, 1.0, 1.0, 1.0, 1.0, 1.0, 1.0, 1.0, 1.0, 1.0, 1.0, 1.0, 1.0, 1.0, 1.0, 1.0, 1.0, 1.0, 1.0, 1.0, 1.0, 1.0, 1.0, 1.0, 1.0, 0.0, 1.0, 1.0, 0.0, 0.0, 1.0, 1.0, 1.0, 1.0, 1.0, 1.0, 1.0, 1.0, 0.0, 1.0, 1.0, 1.0, 0.0, 1.0, 1.0, 1.0, 1.0, 1.0, 1.0, 1.0, 0.0, 1.0, 1.0, 1.0, 1.0, 1.0, 1.0, 1.0, 1.0, 0.0, 1.0, 1.0, 1.0, 1.0, 1.0, 1.0, 0.0, 1.0, 1.0, 1.0, 1.0, 1.0, 1.0, 1.0, 1.0, 1.0, 1.0, 1.0, 1.0, 1.0, 1.0, 1.0, 1.0, 1.0, 1.0, 1.0, 1.0, 0.0, 1.0, 1.0, 1.0, 1.0, 1.0, 1.0, 1.0, 1.0, 0.0, 1.0, 1.0, 1.0, 0.0, 1.0, 1.0, 1.0, 1.0, 1.0, 0.0, 1.0, 1.0, 1.0, 1.0, 0.0, 1.0, 1.0, 1.0, 1.0, 1.0, 1.0, 1.0, 1.0, 1.0, 1.0, 1.0, 1.0, 1.0, 1.0, 0.0, 1.0, 1.0, 1.0, 1.0, 1.0, 1.0, 1.0, 1.0, 1.0, 1.0, 0.0, 1.0, 1.0, 1.0, 0.0, 1.0, 0.0, 1.0, 1.0, 0.0, 1.0, 0.0, 1.0, 1.0, 1.0, 1.0, 1.0, 1.0, 1.0, 1.0, 1.0, 1.0, 1.0, 0.0, 1.0, 1.0, 1.0, 1.0, 1.0, 1.0, 1.0, 1.0, 1.0, 0.0, 1.0, 1.0, 0.0, 1.0, 0.0, 1.0, 1.0, 1.0, 1.0, 1.0, 1.0, 1.0, 1.0, 1.0, 1.0, 1.0, 1.0, 1.0, 1.0, 1.0, 1.0, 1.0, 1.0, 1.0, 1.0, 0.0, 1.0, 1.0, 1.0, 1.0, 1.0, 1.0, 1.0, 1.0, 1.0, 1.0, 1.0, 1.0, 1.0, 1.0, 1.0, 1.0, 1.0, 1.0, 1.0, 1.0, 1.0, 1.0, 1.0, 1.0, 1.0, 1.0, 1.0, 1.0, 0.0, 1.0, 1.0, 0.0, 1.0, 1.0, 1.0, 0.0, 0.0, 1.0, 1.0, 1.0, 1.0, 1.0, 1.0, 1.0, 1.0, 0.0, 1.0, 1.0, 1.0, 0.0, 1.0, 1.0, 1.0, 1.0, 1.0, 1.0, 1.0, 1.0, 1.0, 1.0, 1.0, 0.0, 1.0, 1.0, 0.0, 1.0, 1.0, 1.0, 1.0, 1.0, 1.0, 0.0, 1.0, 0.0, 1.0, 1.0, 0.0, 1.0, 1.0, 1.0, 1.0, 1.0, 1.0, 1.0, 1.0, 0.0, 0.0, 1.0, 1.0, 1.0, 1.0, 1.0, 1.0, 1.0, 1.0, 1.0, 1.0, 1.0, 0.0, 1.0, 1.0, 1.0, 0.0, 1.0, 0.0, 0.0, 1.0, 1.0, 1.0, 1.0, 1.0, 0.0, 1.0, 1.0, 1.0, 0.0, 1.0, 1.0, 1.0, 1.0, 1.0, 1.0, 1.0, 1.0, 1.0, 0.0, 1.0, 0.0, 1.0, 1.0, 1.0, 1.0, 0.0, 1.0, 1.0, 1.0, 1.0, 1.0, 0.0, 1.0, 1.0, 0.0, 1.0, 0.0, 1.0, 0.0, 1.0, 1.0, 1.0, 1.0, 1.0, 1.0, 1.0, 1.0, 1.0, 1.0, 1.0, 1.0, 1.0, 1.0, 1.0, 1.0, 1.0, 1.0, 1.0, 1.0, 1.0, 0.0, 1.0, 1.0, 1.0, 1.0, 0.0, 1.0, 1.0, 1.0, 1.0, 1.0, 1.0, 0.0, 1.0, 1.0, 1.0, 1.0, 1.0, 1.0, 1.0, 1.0, 1.0, 1.0, 1.0, 1.0, 1.0, 1.0, 0.0, 1.0, 1.0, 1.0, 1.0, 1.0, 1.0, 1.0, 1.0, 1.0, 1.0, 1.0, 1.0, 1.0, 0.0, 1.0, 1.0, 0.0, 1.0, 1.0, 1.0, 1.0, 1.0, 1.0, 1.0, 1.0, 1.0, 1.0, 1.0, 0.0, 1.0, 1.0, 0.0, 0.0, 1.0, 1.0, 1.0, 1.0, 0.0, 1.0, 0.0, 1.0, 1.0, 1.0, 1.0, 1.0, 1.0, 1.0, 1.0, 1.0, 0.0, 1.0, 0.0, 1.0, 0.0, 1.0, 1.0, 1.0, 1.0, 0.0, 0.0, 1.0, 1.0, 1.0, 1.0, 1.0, 1.0, 1.0, 1.0, 1.0, 1.0, 0.0, 1.0, 1.0, 1.0, 1.0, 0.0, 1.0, 1.0, 1.0, 1.0, 1.0, 1.0, 1.0, 1.0, 0.0, 1.0, 1.0, 1.0, 1.0, 1.0, 1.0, 0.0, 1.0, 1.0, 0.0, 1.0, 1.0, 1.0, 1.0, 1.0, 1.0, 1.0, 1.0, 1.0, 1.0, 0.0, 0.0, 0.0, 1.0, 0.0, 1.0, 1.0, 0.0, 1.0, 1.0, 1.0, 1.0, 1.0, 1.0, 0.0, 1.0, 1.0, 1.0, 1.0, 1.0, 1.0, 1.0, 1.0, 1.0, 1.0, 1.0, 1.0, 1.0, 1.0, 1.0, 1.0, 1.0, 1.0, 1.0, 1.0, 1.0, 1.0, 1.0, 1.0, 1.0, 0.0, 1.0, 1.0, 0.0, 0.0, 1.0, 1.0, 1.0, 1.0, 1.0, 1.0, 1.0, 1.0, 0.0, 1.0, 1.0, 1.0, 0.0, 1.0, 1.0, 1.0, 1.0, 1.0, 1.0, 1.0, 0.0, 1.0, 1.0, 1.0, 1.0, 1.0, 1.0, 1.0, 1.0, 0.0, 1.0, 1.0, 1.0, 1.0, 1.0, 1.0, 0.0, 1.0, 1.0, 1.0, 1.0, 1.0, 1.0, 1.0, 1.0, 1.0, 1.0, 1.0, 1.0, 1.0, 1.0, 1.0, 1.0, 1.0, 1.0, 1.0, 1.0, 0.0, 1.0, 1.0, 1.0, 1.0, 1.0, 1.0, 1.0, 1.0, 0.0, 1.0, 1.0, 1.0, 0.0, 1.0, 1.0, 1.0, 1.0, 1.0, 0.0, 1.0, 1.0, 1.0, 1.0, 0.0, 1.0, 1.0, 1.0, 1.0, 1.0, 1.0, 1.0, 1.0, 1.0, 1.0, 1.0, 1.0, 1.0, 1.0, 0.0, 1.0, 1.0, 1.0, 1.0, 1.0, 1.0, 1.0, 1.0, 1.0, 1.0, 0.0, 1.0, 1.0, 1.0, 0.0, 1.0, 0.0, 1.0, 1.0, 0.0, 1.0, 0.0, 1.0, 1.0, 1.0, 1.0, 1.0, 1.0, 1.0, 1.0, 1.0, 1.0, 1.0, 0.0, 1.0, 1.0, 1.0, 1.0, 1.0, 1.0, 1.0, 1.0, 1.0, 0.0, 1.0, 1.0, 0.0, 1.0, 0.0, 1.0, 1.0, 1.0, 1.0, 1.0, 1.0, 1.0, 1.0, 1.0, 1.0, 1.0, 1.0, 1.0, 1.0, 1.0, 1.0, 1.0, 1.0, 1.0, 1.0, 0.0, 1.0, 1.0, 1.0, 1.0, 1.0, 1.0, 1.0, 1.0, 1.0, 1.0, 1.0, 1.0, 1.0, 1.0, 1.0, 1.0, 1.0, 1.0, 1.0, 1.0, 1.0, 1.0, 1.0, 1.0, 1.0, 1.0, 1.0, 1.0, 0.0, 1.0, 1.0, 0.0, 1.0, 1.0, 1.0, 1.0, 0.0, 1.0, 1.0, 1.0, 1.0, 1.0, 1.0, 1.0, 1.0, 0.0, 1.0, 1.0, 1.0, 0.0, 1.0, 1.0, 1.0, 1.0, 1.0, 1.0, 1.0, 1.0, 1.0, 1.0, 1.0, 0.0, 1.0, 1.0, 0.0, 1.0, 1.0, 1.0, 1.0, 1.0, 1.0, 0.0, 1.0, 0.0, 1.0, 1.0, 0.0, 1.0, 1.0, 1.0, 1.0, 1.0, 1.0, 1.0, 1.0, 0.0, 0.0, 1.0, 1.0, 1.0, 1.0, 1.0, 1.0, 1.0, 1.0, 1.0, 1.0, 1.0, 0.0, 1.0, 1.0, 1.0, 0.0, 1.0, 0.0, 0.0, 1.0, 1.0, 1.0, 1.0, 1.0, 0.0, 1.0, 1.0, 1.0, 0.0, 1.0, 1.0, 1.0, 1.0, 1.0, 1.0, 1.0, 1.0, 1.0, 0.0, 1.0, 0.0, 1.0, 1.0, 0.0, 1.0, 0.0, 1.0, 1.0, 1.0, 1.0, 1.0, 0.0, 1.0, 1.0, 0.0, 1.0, 0.0, 1.0, 0.0, 1.0, 1.0, 1.0, 1.0, 1.0, 1.0, 1.0, 1.0, 1.0, 1.0, 1.0, 1.0, 1.0, 1.0, 1.0, 1.0, 1.0, 1.0, 1.0, 1.0, 1.0, 0.0, 1.0, 1.0, 1.0, 1.0, 0.0, 1.0, 1.0, 1.0, 1.0, 1.0, 1.0, 0.0, 1.0, 1.0, 1.0, 1.0, 1.0, 1.0, 1.0, 1.0, 1.0, 1.0, 1.0, 1.0, 1.0, 1.0, 0.0, 1.0, 1.0, 1.0, 1.0, 1.0, 1.0, 1.0, 1.0, 1.0, 1.0, 1.0, 1.0, 1.0, 0.0, 1.0, 1.0, 0.0, 1.0, 1.0, 1.0, 1.0, 1.0, 1.0, 1.0, 1.0, 1.0, 1.0, 1.0, 0.0, 1.0, 1.0, 0.0, 1.0, 1.0, 1.0, 1.0, 1.0, 0.0, 1.0, 0.0, 1.0, 1.0, 1.0, 1.0, 1.0, 1.0, 1.0, 1.0, 1.0, 0.0, 1.0, 0.0, 1.0, 0.0, 1.0, 1.0, 1.0, 1.0, 0.0, 0.0, 1.0, 1.0, 1.0, 1.0, 1.0, 1.0, 1.0, 1.0, 1.0, 1.0, 0.0, 1.0, 1.0, 1.0, 1.0, 0.0, 1.0, 1.0, 1.0, 1.0, 1.0, 1.0, 1.0, 1.0, 0.0, 1.0, 1.0, 1.0, 1.0, 1.0, 1.0, 0.0, 1.0, 1.0, 0.0, 1.0, 1.0, 1.0, 1.0, 1.0, 0.0, 1.0, 1.0, 1.0, 1.0, 0.0, 0.0, 0.0, 1.0, 0.0, 1.0, 1.0, 0.0, 1.0, 1.0, 1.0, 1.0, 1.0, 1.0, 0.0, 1.0, 1.0, 1.0, 1.0, 1.0, 1.0, 1.0, 1.0, 1.0, 1.0, 1.0, 1.0, 1.0, 1.0, 1.0, 1.0, 1.0, 1.0, 1.0, 1.0, 1.0, 1.0, 1.0, 1.0, 1.0, 0.0, 1.0, 1.0, 0.0, 0.0, 1.0, 1.0, 1.0, 1.0, 1.0, 1.0, 1.0, 1.0, 0.0, 1.0, 1.0, 1.0, 0.0, 1.0, 1.0, 1.0, 1.0, 1.0, 1.0, 1.0, 1.0, 1.0, 1.0, 1.0, 1.0, 1.0, 1.0, 1.0, 1.0, 0.0, 1.0, 1.0, 1.0, 1.0, 1.0, 1.0, 0.0, 1.0, 1.0, 1.0, 1.0, 1.0, 1.0, 1.0, 1.0, 1.0, 1.0, 1.0, 1.0, 1.0, 1.0, 1.0, 1.0, 1.0, 1.0, 1.0, 1.0, 0.0, 1.0, 1.0, 1.0, 1.0, 1.0, 1.0, 1.0, 1.0, 0.0, 1.0, 1.0, 1.0, 0.0, 1.0, 1.0, 1.0, 1.0, 1.0, 0.0, 1.0, 1.0, 1.0, 1.0, 0.0, 1.0, 1.0, 1.0, 1.0, 1.0, 1.0, 1.0, 1.0, 1.0, 1.0, 1.0, 1.0, 1.0, 1.0, 0.0, 1.0, 1.0, 1.0, 1.0, 1.0, 1.0, 1.0, 0.0, 1.0, 1.0, 0.0, 1.0, 1.0, 1.0, 0.0, 1.0, 0.0, 1.0, 1.0, 0.0, 1.0, 0.0, 1.0, 1.0, 1.0, 1.0, 1.0, 1.0, 1.0, 1.0, 1.0, 1.0, 1.0, 0.0, 1.0, 1.0, 1.0, 1.0, 1.0, 1.0, 1.0, 1.0, 1.0, 0.0, 1.0, 1.0, 0.0, 1.0, 0.0]\n"
          ],
          "name": "stdout"
        },
        {
          "output_type": "execute_result",
          "data": {
            "text/plain": [
              "{0.0: 381, 1.0: 2179}"
            ]
          },
          "metadata": {
            "tags": []
          },
          "execution_count": 187
        }
      ]
    },
    {
      "cell_type": "markdown",
      "metadata": {
        "id": "Z8Gi9kY3z6v_"
      },
      "source": [
        "### LDA - PCA"
      ]
    },
    {
      "cell_type": "code",
      "metadata": {
        "colab": {
          "base_uri": "https://localhost:8080/"
        },
        "id": "9qSc0facz6wB",
        "outputId": "c3c890f3-ceb4-447e-abbf-021e002cf778"
      },
      "source": [
        "from sklearn.discriminant_analysis import LinearDiscriminantAnalysis\n",
        "from sklearn.decomposition import PCA\n",
        "\n",
        "X4 = make_dataset(data_f4.drop(columns=['Age','Gender','Status']),'f4')\n",
        "clf = LinearDiscriminantAnalysis()\n",
        "x4_reduced = clf.fit_transform(X4,data_f4.Status)\n",
        "\n",
        "print('Label : Status')\n",
        "print('LDA features :', x4_reduced.shape)\n",
        "find_best_pca_n(X4)"
      ],
      "execution_count": null,
      "outputs": [
        {
          "output_type": "stream",
          "text": [
            "Label : Status\n",
            "LDA features : (2545, 2)\n",
            "PCA : Optimum Feature number is 15\n",
            "\n"
          ],
          "name": "stdout"
        }
      ]
    },
    {
      "cell_type": "code",
      "metadata": {
        "colab": {
          "base_uri": "https://localhost:8080/"
        },
        "id": "Zp4xa03jz6wC",
        "outputId": "9d787bf5-95a7-408a-e15c-229bb0c8d301"
      },
      "source": [
        "X4 = make_dataset(data_f4.drop(columns=['Age','Gender','Status']),'f4')\n",
        "clf = LinearDiscriminantAnalysis()\n",
        "x4_reduced = clf.fit_transform(X4,data_f4.Age)\n",
        "\n",
        "print('Label : Age')\n",
        "print('LDA features :', x4_reduced.shape)\n",
        "find_best_pca_n(X4)"
      ],
      "execution_count": null,
      "outputs": [
        {
          "output_type": "stream",
          "text": [
            "Label : Age\n",
            "LDA features : (2545, 46)\n",
            "PCA : Optimum Feature number is 15\n",
            "\n"
          ],
          "name": "stdout"
        }
      ]
    },
    {
      "cell_type": "code",
      "metadata": {
        "colab": {
          "base_uri": "https://localhost:8080/"
        },
        "id": "TTWZgLdmz6wC",
        "outputId": "009cf22e-8dfa-4529-d29c-f80c5e3d2ec5"
      },
      "source": [
        "X4 = make_dataset(data_f4.drop(columns=['Age','Gender','Status']),'f4')\n",
        "clf = LinearDiscriminantAnalysis()\n",
        "x4_reduced = clf.fit_transform(X4,data_f4.Gender)\n",
        "\n",
        "print('Label : Gender')\n",
        "print('LDA features :', x4_reduced.shape)\n",
        "find_best_pca_n(X4)"
      ],
      "execution_count": null,
      "outputs": [
        {
          "output_type": "stream",
          "text": [
            "Label : Gender\n",
            "LDA features : (2283, 1)\n",
            "PCA : Optimum Feature number is 12\n",
            "\n"
          ],
          "name": "stdout"
        }
      ]
    },
    {
      "cell_type": "markdown",
      "metadata": {
        "id": "gBLi8RyxdJHK"
      },
      "source": [
        "## F5"
      ]
    },
    {
      "cell_type": "markdown",
      "metadata": {
        "id": "HJ78UZ1TdJHL"
      },
      "source": [
        "### Linear imporatnce"
      ]
    },
    {
      "cell_type": "code",
      "metadata": {
        "colab": {
          "base_uri": "https://localhost:8080/"
        },
        "id": "74ykVLG-eKAi",
        "outputId": "c999a8b4-8d1e-4a5f-95f1-3d49019e5c90"
      },
      "source": [
        "X5 = make_dataset(data_f5.drop(columns=['Age','Gender','Status']),'f5')\n",
        "x5_reduced = get_feature_importance(X5,data_f5.Gender)\n",
        "print(x5_reduced[x5_reduced>importance])\n",
        "print(\"Label : Gender\")\n",
        "print(\"number of all features: \", X5.shape[1])\n",
        "print(\"number of selected features : \", x5_reduced[x5_reduced>importance].shape[0])"
      ],
      "execution_count": null,
      "outputs": [
        {
          "output_type": "stream",
          "text": [
            "11     100.000000\n",
            "14      66.158807\n",
            "23      46.880898\n",
            "32      44.050996\n",
            "35      87.024475\n",
            "41      91.481471\n",
            "44      87.055679\n",
            "56      56.667346\n",
            "74      52.060591\n",
            "77      77.817557\n",
            "80      49.234667\n",
            "104     70.776079\n",
            "107     46.455489\n",
            "110     46.585136\n",
            "113     41.896019\n",
            "116     42.383765\n",
            "125     74.701680\n",
            "131     49.694342\n",
            "134     70.901680\n",
            "137     75.674657\n",
            "143     69.195258\n",
            "155     74.294450\n",
            "Name: importance_normalized, dtype: float64\n",
            "Label : Gender\n",
            "number of all features:  204\n",
            "number of selected features :  22\n"
          ],
          "name": "stdout"
        }
      ]
    },
    {
      "cell_type": "code",
      "metadata": {
        "colab": {
          "base_uri": "https://localhost:8080/"
        },
        "id": "rqT2cGkXeSaw",
        "outputId": "d9312d14-f0fd-440a-d82f-b66db7caab89"
      },
      "source": [
        "X5 = make_dataset(data_f5.drop(columns=['Age','Gender','Status']),'f5')\n",
        "x5_reduced = get_feature_importance(X5,data_f5.Status)\n",
        "print(x5_reduced[x5_reduced>importance])\n",
        "print(\"Label : Status\")\n",
        "print(\"number of all features: \", X5.shape[1])\n",
        "print(\"number of selected features : \", x5_reduced[x5_reduced>importance].shape[0])"
      ],
      "execution_count": null,
      "outputs": [
        {
          "output_type": "stream",
          "text": [
            "2       52.120189\n",
            "8       80.838325\n",
            "14     100.000000\n",
            "17      52.505512\n",
            "41      47.513934\n",
            "53      82.237525\n",
            "62      60.717558\n",
            "65      58.365530\n",
            "80      43.399427\n",
            "89      86.075975\n",
            "92      57.671860\n",
            "146     42.558951\n",
            "182     44.506613\n",
            "197     69.204788\n",
            "200     61.749765\n",
            "Name: importance_normalized, dtype: float64\n",
            "Label : Status\n",
            "number of all features:  204\n",
            "number of selected features :  15\n"
          ],
          "name": "stdout"
        }
      ]
    },
    {
      "cell_type": "code",
      "metadata": {
        "colab": {
          "base_uri": "https://localhost:8080/"
        },
        "id": "bTwN6gGeeS4b",
        "outputId": "b4dca583-4f56-42c0-becd-ebb9ad872e0c"
      },
      "source": [
        "X5 = make_dataset(data_f5.drop(columns=['Age','Gender','Status']),'f5')\n",
        "x5_reduced = get_feature_importance(X5,data_f5.Age)\n",
        "print(x5_reduced[x5_reduced>importance])\n",
        "print(\"Label : Age\")\n",
        "print(\"number of all features: \", X5.shape[1])\n",
        "print(\"number of selected features : \", x5_reduced[x5_reduced>importance].shape[0])"
      ],
      "execution_count": null,
      "outputs": [
        {
          "output_type": "stream",
          "text": [
            "8       62.442331\n",
            "14      69.737892\n",
            "17      50.676344\n",
            "35      63.539591\n",
            "53     100.000000\n",
            "68      48.422690\n",
            "71      55.406517\n",
            "74      43.436874\n",
            "98      49.154877\n",
            "110     42.398705\n",
            "134     57.389116\n",
            "137     66.901990\n",
            "140     47.704385\n",
            "146     40.079302\n",
            "158     42.660919\n",
            "161     72.730652\n",
            "179     40.494512\n",
            "182     52.067255\n",
            "188     40.328162\n",
            "200     55.520192\n",
            "203     49.751490\n",
            "Name: importance_normalized, dtype: float64\n",
            "Label : Age\n",
            "number of all features:  204\n",
            "number of selected features :  21\n"
          ],
          "name": "stdout"
        }
      ]
    },
    {
      "cell_type": "markdown",
      "metadata": {
        "id": "okOQpznddJHM"
      },
      "source": [
        "### Mutual Information"
      ]
    },
    {
      "cell_type": "code",
      "metadata": {
        "colab": {
          "base_uri": "https://localhost:8080/"
        },
        "id": "1xBy4VC6eYKi",
        "outputId": "6003c75c-e3a1-445b-f049-30a6b747ab24"
      },
      "source": [
        "X5 = make_dataset(data_f5.drop(columns=['Age','Gender','Status']),'f5')\n",
        "gains = feature_importance_mutual(X5,data_f5.Age)\n",
        "print(list(gains))\n",
        "my_dict = {i:list(gains).count(i) for i in list(gains)}\n",
        "my_dict"
      ],
      "execution_count": null,
      "outputs": [
        {
          "output_type": "stream",
          "text": [
            "[2.8, 2.9, 3.3, 2.8, 2.9, 3.3, 2.8, 2.9, 3.3, 2.8, 2.9, 3.3, 2.8, 2.9, 3.3, 2.8, 2.9, 3.3, 2.8, 2.9, 3.3, 2.8, 2.9, 3.3, 2.8, 2.9, 3.3, 2.9, 2.9, 3.3, 2.9, 2.9, 3.3, 2.9, 2.9, 3.3, 2.9, 2.9, 3.3, 2.9, 2.9, 3.3, 2.9, 2.9, 3.3, 2.9, 2.9, 3.3, 2.9, 2.8, 3.3, 2.8, 2.8, 3.3, 2.8, 2.9, 3.3, 2.8, 2.8, 3.3, 2.8, 2.8, 3.3, 2.8, 2.8, 3.3, 2.9, 2.8, 3.3, 2.9, 2.9, 3.3, 2.9, 2.8, 3.3, 2.9, 2.8, 3.3, 2.9, 2.8, 3.3, 2.8, 2.9, 3.3, 2.9, 2.9, 3.3, 2.8, 2.9, 3.3, 2.9, 2.9, 3.3, 2.8, 2.9, 3.3, 2.9, 2.9, 3.3, 2.8, 2.9, 3.3, 2.9, 2.9, 3.3, 2.8, 2.9, 3.3, 2.8, 2.8, 3.3, 2.8, 2.9, 3.3, 2.9, 2.9, 3.3, 2.8, 2.8, 3.3, 2.8, 2.9, 3.3, 2.8, 2.9, 3.3, 2.9, 2.9, 3.3, 2.9, 2.9, 3.3, 2.9, 2.9, 3.3, 2.9, 2.9, 3.3, 2.9, 2.9, 3.3, 2.8, 2.9, 3.3, 2.8, 2.9, 3.3, 2.8, 2.9, 3.3, 2.9, 2.9, 3.3, 2.8, 2.9, 3.3, 2.9, 2.9, 3.3, 2.9, 2.9, 3.3, 2.9, 2.9, 3.3, 2.9, 2.9, 3.3, 2.9, 2.9, 3.3, 2.8, 2.9, 3.3, 2.8, 2.9, 3.3, 2.8, 2.9, 3.3, 2.8, 2.9, 3.3, 2.8, 2.9, 3.3, 2.9, 2.9, 3.3, 2.8, 2.9, 3.3, 2.9, 2.9, 3.3, 2.9, 2.9, 3.3, 2.9, 2.9, 3.3, 2.8, 2.9, 3.3]\n"
          ],
          "name": "stdout"
        },
        {
          "output_type": "execute_result",
          "data": {
            "text/plain": [
              "{2.8: 46, 2.9: 90, 3.3: 68}"
            ]
          },
          "metadata": {
            "tags": []
          },
          "execution_count": 222
        }
      ]
    },
    {
      "cell_type": "code",
      "metadata": {
        "colab": {
          "base_uri": "https://localhost:8080/"
        },
        "id": "_Uac_ohQecbZ",
        "outputId": "6629cc82-904b-4e7a-a731-68be3eb55d93"
      },
      "source": [
        "X5 = make_dataset(data_f5.drop(columns=['Age','Gender','Status']),'f5')\n",
        "gains = feature_importance_mutual(X5,data_f5.Gender)\n",
        "print(list(gains))\n",
        "my_dict = {i:list(gains).count(i) for i in list(gains)}\n",
        "my_dict"
      ],
      "execution_count": null,
      "outputs": [
        {
          "output_type": "stream",
          "text": [
            "[0.4, 0.4, 0.6, 0.4, 0.4, 0.6, 0.4, 0.4, 0.6, 0.4, 0.4, 0.6, 0.4, 0.4, 0.6, 0.4, 0.4, 0.6, 0.4, 0.4, 0.6, 0.4, 0.4, 0.6, 0.4, 0.4, 0.6, 0.4, 0.4, 0.6, 0.4, 0.4, 0.6, 0.4, 0.4, 0.6, 0.4, 0.4, 0.6, 0.4, 0.4, 0.6, 0.4, 0.4, 0.6, 0.4, 0.4, 0.6, 0.4, 0.4, 0.6, 0.4, 0.4, 0.6, 0.4, 0.4, 0.6, 0.4, 0.4, 0.6, 0.4, 0.4, 0.6, 0.4, 0.4, 0.6, 0.4, 0.4, 0.6, 0.4, 0.4, 0.6, 0.4, 0.4, 0.6, 0.4, 0.4, 0.6, 0.4, 0.4, 0.6, 0.4, 0.4, 0.6, 0.4, 0.4, 0.6, 0.4, 0.4, 0.6, 0.4, 0.4, 0.6, 0.4, 0.4, 0.6, 0.4, 0.4, 0.6, 0.4, 0.4, 0.6, 0.4, 0.4, 0.6, 0.4, 0.4, 0.6, 0.4, 0.4, 0.6, 0.4, 0.4, 0.6, 0.4, 0.4, 0.6, 0.4, 0.4, 0.6, 0.4, 0.4, 0.6, 0.4, 0.4, 0.6, 0.4, 0.4, 0.6, 0.4, 0.4, 0.6, 0.4, 0.4, 0.6, 0.4, 0.4, 0.6, 0.4, 0.4, 0.6, 0.4, 0.4, 0.6, 0.4, 0.4, 0.6, 0.4, 0.4, 0.6, 0.4, 0.4, 0.6, 0.4, 0.4, 0.6, 0.4, 0.4, 0.6, 0.4, 0.4, 0.6, 0.4, 0.4, 0.6, 0.4, 0.4, 0.6, 0.4, 0.4, 0.6, 0.4, 0.4, 0.6, 0.4, 0.4, 0.6, 0.4, 0.4, 0.6, 0.4, 0.4, 0.6, 0.4, 0.4, 0.6, 0.4, 0.4, 0.6, 0.4, 0.4, 0.6, 0.4, 0.4, 0.6, 0.4, 0.4, 0.6, 0.4, 0.4, 0.6, 0.4, 0.4, 0.6]\n"
          ],
          "name": "stdout"
        },
        {
          "output_type": "execute_result",
          "data": {
            "text/plain": [
              "{0.4: 136, 0.6: 68}"
            ]
          },
          "metadata": {
            "tags": []
          },
          "execution_count": 223
        }
      ]
    },
    {
      "cell_type": "code",
      "metadata": {
        "colab": {
          "base_uri": "https://localhost:8080/"
        },
        "id": "eZv2UDc2eeuo",
        "outputId": "1e836d99-718f-4c61-b5e6-9800f8615a78"
      },
      "source": [
        "X5 = make_dataset(data_f5.drop(columns=['Age','Gender','Status']),'f5')\n",
        "gains = feature_importance_mutual(X5,data_f5.Status)\n",
        "print(list(gains))\n",
        "my_dict = {i:list(gains).count(i) for i in list(gains)}\n",
        "my_dict"
      ],
      "execution_count": null,
      "outputs": [
        {
          "output_type": "stream",
          "text": [
            "[0.7, 0.7, 1.0, 0.7, 0.7, 1.0, 0.7, 0.7, 1.0, 0.7, 0.7, 1.0, 0.7, 0.7, 1.0, 0.7, 0.8, 1.0, 0.7, 0.7, 1.0, 0.7, 0.8, 1.0, 0.7, 0.7, 1.0, 0.7, 0.7, 1.0, 0.7, 0.7, 1.0, 0.7, 0.7, 1.0, 0.7, 0.7, 1.0, 0.7, 0.7, 1.0, 0.7, 0.7, 1.0, 0.7, 0.7, 1.0, 0.7, 0.7, 1.0, 0.7, 0.7, 1.0, 0.7, 0.7, 1.0, 0.7, 0.7, 1.0, 0.7, 0.7, 1.0, 0.7, 0.7, 1.0, 0.7, 0.7, 1.0, 0.7, 0.7, 1.0, 0.7, 0.7, 1.0, 0.7, 0.7, 1.0, 0.7, 0.7, 1.0, 0.7, 0.7, 1.0, 0.7, 0.7, 1.0, 0.7, 0.7, 1.0, 0.7, 0.7, 1.0, 0.7, 0.8, 1.0, 0.7, 0.7, 1.0, 0.7, 0.8, 1.0, 0.7, 0.7, 1.0, 0.7, 0.8, 1.0, 0.7, 0.7, 1.0, 0.7, 0.7, 1.0, 0.7, 0.7, 1.0, 0.7, 0.7, 1.0, 0.7, 0.7, 1.0, 0.7, 0.7, 1.0, 0.7, 0.7, 1.0, 0.7, 0.7, 1.0, 0.7, 0.7, 1.0, 0.7, 0.7, 1.0, 0.7, 0.7, 1.0, 0.7, 0.7, 1.0, 0.7, 0.7, 1.0, 0.7, 0.7, 1.0, 0.7, 0.7, 1.0, 0.7, 0.8, 1.0, 0.7, 0.7, 1.0, 0.7, 0.7, 1.0, 0.7, 0.7, 1.0, 0.7, 0.7, 1.0, 0.7, 0.8, 1.0, 0.7, 0.7, 1.0, 0.7, 0.7, 1.0, 0.7, 0.8, 1.0, 0.7, 0.7, 1.0, 0.7, 0.7, 1.0, 0.7, 0.7, 1.0, 0.7, 0.7, 1.0, 0.7, 0.7, 1.0, 0.7, 0.7, 1.0, 0.7, 0.8, 1.0, 0.7, 0.8, 1.0]\n"
          ],
          "name": "stdout"
        },
        {
          "output_type": "execute_result",
          "data": {
            "text/plain": [
              "{0.7: 126, 0.8: 10, 1.0: 68}"
            ]
          },
          "metadata": {
            "tags": []
          },
          "execution_count": 224
        }
      ]
    },
    {
      "cell_type": "markdown",
      "metadata": {
        "id": "IqQtRV0HpjKM"
      },
      "source": [
        "### LDA - PCA"
      ]
    },
    {
      "cell_type": "code",
      "metadata": {
        "colab": {
          "base_uri": "https://localhost:8080/"
        },
        "id": "TMAwJy4hpl5V",
        "outputId": "5928a99d-61c8-482f-9335-27d3b6cae47f"
      },
      "source": [
        "from sklearn.discriminant_analysis import LinearDiscriminantAnalysis\n",
        "from sklearn.decomposition import PCA\n",
        "\n",
        "X5 = make_dataset(data_f5.drop(columns=['Age','Gender','Status']),'f5')\n",
        "clf = LinearDiscriminantAnalysis()\n",
        "x5_reduced = clf.fit_transform(X5,data_f5.Status)\n",
        "\n",
        "print('Label : Status')\n",
        "print('LDA features :', x5_reduced.shape)\n",
        "find_best_pca_n(X5)"
      ],
      "execution_count": null,
      "outputs": [
        {
          "output_type": "stream",
          "text": [
            "Label : Status\n",
            "LDA features : (1668, 2)\n",
            "PCA : Optimum Feature number is 1\n",
            "\n"
          ],
          "name": "stdout"
        }
      ]
    },
    {
      "cell_type": "code",
      "metadata": {
        "colab": {
          "base_uri": "https://localhost:8080/"
        },
        "id": "Jj_QySlC0hEY",
        "outputId": "d5ea934e-bbbd-4a22-a7fd-b1fa62facbf8"
      },
      "source": [
        "X5 = make_dataset(data_f5.drop(columns=['Age','Gender','Status']),'f5')\n",
        "clf = LinearDiscriminantAnalysis()\n",
        "x5_reduced = clf.fit_transform(X5,data_f5.Gender)\n",
        "\n",
        "print('Label : Gender')\n",
        "print('LDA features :', x5_reduced.shape)\n",
        "find_best_pca_n(X5)"
      ],
      "execution_count": null,
      "outputs": [
        {
          "output_type": "stream",
          "text": [
            "Label : Gender\n",
            "LDA features : (1668, 1)\n",
            "PCA : Optimum Feature number is 1\n",
            "\n"
          ],
          "name": "stdout"
        }
      ]
    },
    {
      "cell_type": "code",
      "metadata": {
        "colab": {
          "base_uri": "https://localhost:8080/"
        },
        "id": "InX9bkYu0hn5",
        "outputId": "d5df8afb-fff0-4b9f-e377-bd5927559519"
      },
      "source": [
        "X5 = make_dataset(data_f5.drop(columns=['Age','Gender','Status']),'f5')\n",
        "clf = LinearDiscriminantAnalysis()\n",
        "x5_reduced = clf.fit_transform(X5,data_f5.Age)\n",
        "\n",
        "print('Label : Age')\n",
        "print('LDA features :', x5_reduced.shape)\n",
        "find_best_pca_n(X5)"
      ],
      "execution_count": null,
      "outputs": [
        {
          "output_type": "stream",
          "text": [
            "Label : Age\n",
            "LDA features : (1668, 42)\n",
            "PCA : Optimum Feature number is 1\n",
            "\n"
          ],
          "name": "stdout"
        }
      ]
    }
  ]
}